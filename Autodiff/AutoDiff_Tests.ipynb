{
 "cells": [
  {
   "cell_type": "code",
   "execution_count": 1,
   "metadata": {},
   "outputs": [],
   "source": [
    "from AutoDiff import DiffObj, Variable, Constant\n",
    "from AutoDiff import MathOps as mo\n",
    "\n",
    "%load_ext autoreload\n",
    "%autoreload 2"
   ]
  },
  {
   "cell_type": "markdown",
   "metadata": {},
   "source": [
    "## Elementary Math Operators (add, subtract, mult, divide) "
   ]
  },
  {
   "cell_type": "code",
   "execution_count": 2,
   "metadata": {},
   "outputs": [],
   "source": [
    "val_dict = {'x' : 10, 'y' : 20, 'z' : 1}\n",
    "x = Variable('x')\n",
    "y = Variable('y')"
   ]
  },
  {
   "cell_type": "code",
   "execution_count": 3,
   "metadata": {},
   "outputs": [
    {
     "name": "stdout",
     "output_type": "stream",
     "text": [
      "Value:     30\n",
      "Gradient:  {'x': 1, 'y': 1}\n"
     ]
    }
   ],
   "source": [
    "f0 = x + y\n",
    "print('Value:    ', f0.get_val(val_dict))\n",
    "print('Gradient: ', f0.get_der(val_dict))"
   ]
  },
  {
   "cell_type": "code",
   "execution_count": 4,
   "metadata": {},
   "outputs": [
    {
     "name": "stdout",
     "output_type": "stream",
     "text": [
      "Value:     -10\n",
      "Gradient:  {'x': 1, 'y': -1}\n"
     ]
    }
   ],
   "source": [
    "f1 = x - y\n",
    "print('Value:    ', f1.get_val(val_dict))\n",
    "print('Gradient: ', f1.get_der(val_dict))"
   ]
  },
  {
   "cell_type": "code",
   "execution_count": 5,
   "metadata": {},
   "outputs": [
    {
     "name": "stdout",
     "output_type": "stream",
     "text": [
      "Value:     200\n",
      "Gradient:  {'x': 20, 'y': 10}\n"
     ]
    }
   ],
   "source": [
    "f2 = x*y\n",
    "print('Value:    ', f2.get_val(val_dict))\n",
    "print('Gradient: ', f2.get_der(val_dict))"
   ]
  },
  {
   "cell_type": "code",
   "execution_count": 6,
   "metadata": {},
   "outputs": [
    {
     "name": "stdout",
     "output_type": "stream",
     "text": [
      "Value:     0.5\n",
      "Gradient:  {'x': 0.05, 'y': -0.025}\n"
     ]
    }
   ],
   "source": [
    "f3 = x/y\n",
    "print('Value:    ', f3.get_val(val_dict))\n",
    "print('Gradient: ', f3.get_der(val_dict))"
   ]
  },
  {
   "cell_type": "code",
   "execution_count": 7,
   "metadata": {},
   "outputs": [
    {
     "name": "stdout",
     "output_type": "stream",
     "text": [
      "Value:     190.5\n",
      "Gradient:  {'x': 21.05, 'y': 8.975}\n"
     ]
    }
   ],
   "source": [
    "f4 = f1 + f2 + f3\n",
    "print('Value:    ', f4.get_val(val_dict))\n",
    "print('Gradient: ', f4.get_der(val_dict))"
   ]
  },
  {
   "cell_type": "code",
   "execution_count": 8,
   "metadata": {},
   "outputs": [
    {
     "name": "stdout",
     "output_type": "stream",
     "text": [
      "Value:     -1905.0\n",
      "Gradient:  {'x': -20.0, 'y': -280.25}\n"
     ]
    }
   ],
   "source": [
    "f5 = f4*f1\n",
    "print('Value:    ', f5.get_val(val_dict))\n",
    "print('Gradient: ', f5.get_der(val_dict))"
   ]
  },
  {
   "cell_type": "code",
   "execution_count": 9,
   "metadata": {},
   "outputs": [
    {
     "data": {
      "text/plain": [
       "{'x': 0, 'y': 0, 'z': 1}"
      ]
     },
     "execution_count": 9,
     "metadata": {},
     "output_type": "execute_result"
    }
   ],
   "source": [
    "z = Variable('z')\n",
    "z.get_der(val_dict, ['x', 'y', 'z'])"
   ]
  },
  {
   "cell_type": "code",
   "execution_count": 10,
   "metadata": {},
   "outputs": [
    {
     "name": "stdout",
     "output_type": "stream",
     "text": [
      "Value:     5\n",
      "Gradient:  {'x': 0, 'y': 0}\n"
     ]
    }
   ],
   "source": [
    "c = Constant('c', 5)\n",
    "print('Value:    ', c.get_val(val_dict))\n",
    "print('Gradient: ', c.get_der(val_dict,  ['x', 'y']))"
   ]
  },
  {
   "cell_type": "code",
   "execution_count": 11,
   "metadata": {},
   "outputs": [
    {
     "name": "stdout",
     "output_type": "stream",
     "text": [
      "Value:     35\n",
      "Gradient:  {'x': 1, 'y': 1}\n"
     ]
    }
   ],
   "source": [
    "f6 = x + y + c\n",
    "print('Value:    ', f6.get_val(val_dict))\n",
    "print('Gradient: ', f6.get_der(val_dict))"
   ]
  },
  {
   "cell_type": "code",
   "execution_count": 12,
   "metadata": {},
   "outputs": [
    {
     "name": "stdout",
     "output_type": "stream",
     "text": [
      "Value:     1000\n",
      "Gradient:  {'x': 100, 'y': 50}\n"
     ]
    }
   ],
   "source": [
    "f7 = c*x*y\n",
    "print('Value:    ', f7.get_val(val_dict))\n",
    "print('Gradient: ', f7.get_der(val_dict))"
   ]
  },
  {
   "cell_type": "markdown",
   "metadata": {},
   "source": [
    "## Other Math Operators (sin, cos, tan, log)"
   ]
  },
  {
   "cell_type": "code",
   "execution_count": 13,
   "metadata": {},
   "outputs": [
    {
     "name": "stdout",
     "output_type": "stream",
     "text": [
      "Value:     1.0\n",
      "Gradient:  {'': 0}\n"
     ]
    }
   ],
   "source": [
    "import math\n",
    "c1 = Constant('c1', math.pi/2)\n",
    "val_dict1 = {'x' : math.pi/2, 'y' : math.pi/4, 'z' : 2}\n",
    "f8 = mo.sin(c1)\n",
    "print('Value:    ', f8.get_val(val_dict1))\n",
    "print('Gradient: ', f8.get_der(val_dict1))"
   ]
  },
  {
   "cell_type": "code",
   "execution_count": 14,
   "metadata": {},
   "outputs": [
    {
     "name": "stdout",
     "output_type": "stream",
     "text": [
      "Value:     0.7071067811865476\n",
      "Gradient:  {'x': -0.7071067811865475, 'y': -0.7071067811865475}\n"
     ]
    }
   ],
   "source": [
    "f9 = mo.sin(x + y)\n",
    "print('Value:    ', f9.get_val(val_dict1))\n",
    "print('Gradient: ', f9.get_der(val_dict1))"
   ]
  },
  {
   "cell_type": "code",
   "execution_count": 15,
   "metadata": {},
   "outputs": [
    {
     "name": "stdout",
     "output_type": "stream",
     "text": [
      "Value:     0.8636895456083491\n",
      "Gradient:  {'x': -0.41421356237309537, 'z': -1.1107207345395917, 'y': -0.7071067811865477}\n"
     ]
    }
   ],
   "source": [
    "f10 = x + mo.sin(x*z + y)\n",
    "print('Value:    ', f10.get_val(val_dict1))\n",
    "print('Gradient: ', f10.get_der(val_dict1))"
   ]
  },
  {
   "cell_type": "code",
   "execution_count": 16,
   "metadata": {},
   "outputs": [
    {
     "name": "stdout",
     "output_type": "stream",
     "text": [
      "Value:     2.1368659607150793\n",
      "Gradient:  {'x': 1.4220179357650298, 'y': 2.8440358715300595, 'z': 0.5}\n"
     ]
    }
   ],
   "source": [
    "f11 = x*y + mo.log(x*y*z)\n",
    "print('Value:    ', f11.get_val(val_dict1))\n",
    "print('Gradient: ', f11.get_der(val_dict1))"
   ]
  },
  {
   "cell_type": "markdown",
   "metadata": {},
   "source": [
    "## Exponentiation"
   ]
  },
  {
   "cell_type": "code",
   "execution_count": 20,
   "metadata": {},
   "outputs": [
    {
     "name": "stdout",
     "output_type": "stream",
     "text": [
      "Value:     81\n",
      "Gradient:  {'x': 108.0}\n"
     ]
    }
   ],
   "source": [
    "val_dict2 = {'x': 3, 'y': math.pi/3, 'z' : 10}\n",
    "c2 = Constant('c2', 4)\n",
    "f12 = x**c2\n",
    "print('Value:    ', f12.get_val(val_dict2))\n",
    "print('Gradient: ', f12.get_der(val_dict2))"
   ]
  },
  {
   "cell_type": "code",
   "execution_count": 26,
   "metadata": {},
   "outputs": [
    {
     "name": "stdout",
     "output_type": "stream",
     "text": [
      "Value:     2.589399902260344\n",
      "Gradient:  {'x': 0.7474953653048001, 'y': 1.4223732764496084}\n"
     ]
    }
   ],
   "source": [
    "f13 = x**mo.sin(y)\n",
    "print('Value:    ', f13.get_val(val_dict2))\n",
    "print('Gradient: ', f13.get_der(val_dict2))"
   ]
  },
  {
   "cell_type": "code",
   "execution_count": null,
   "metadata": {},
   "outputs": [],
   "source": []
  }
 ],
 "metadata": {
  "kernelspec": {
   "display_name": "Python 3",
   "language": "python",
   "name": "python3"
  },
  "language_info": {
   "codemirror_mode": {
    "name": "ipython",
    "version": 3
   },
   "file_extension": ".py",
   "mimetype": "text/x-python",
   "name": "python",
   "nbconvert_exporter": "python",
   "pygments_lexer": "ipython3",
   "version": "3.6.4"
  }
 },
 "nbformat": 4,
 "nbformat_minor": 2
}
