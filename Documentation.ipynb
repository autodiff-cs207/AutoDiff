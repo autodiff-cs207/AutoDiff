{
 "cells": [
  {
   "cell_type": "markdown",
   "metadata": {},
   "source": [
    "# Introduction\n",
    "\n",
    "Derivatives are used to solve a large variety of modern-day problems. There are three general methods used to calculate derivatives:\n",
    "1. Symbolic differentiation \n",
    "2. Numerical differentiation\n",
    "3. Automatic differentiation \n",
    "\n",
    "Symbolic differentiation can be very useful, but there are some functions that do not have a symbolic derivative. Additionally, symbolic differentiation can be very costly, as it may recalculate the same expressions many times, or the expression for the derivative may grow exponentially. Sometimes we can avoid these issues by numerically differentiating our function. Often this means using finite differences. The method of finite differences calculates derivative at point $x$ by using the following definition:\n",
    "\n",
    "$$f'(x) = \\lim_{h\\to 0} f(x) \\frac{f(x+h)-f(x)}{h}$$ \n",
    "\n",
    "Finite differences can also be very effective in certain situations. However, as with symbolic differentiation, finite differences has its problems. The biggest issue is that to obtain the most accurate estimate of $f'(x)$, we would like to make $h$ as small as possible; in fact, we would like $h$ to be infinitely small. However, we cannot *actually* make $h$ zero, and thus we must compromise and choose some small-but-not-zero value for $h$, which brings us to our second problem: we cannot precisely represent all numbers. Our machines only have a certain level of precision. When we compute our derivatives numerically we introduce error by approximating values to their closest machine equivalent. To avoid these issues, we turn to our third approach: automatic differentiation. Automatic differentiation computes derivatives by repeatedly applying the chain rule to recursively compute derivatives of elementary arithmetic operations and functions."
   ]
  },
  {
   "cell_type": "markdown",
   "metadata": {},
   "source": [
    "For our package extension, we chose to implement root finding and a basic function fitting neural network class. Our neural network class is mostly fixed, but allows the dimensions of the input and number of hidden nodes to be changed. Root finding is used in many contexts for optimization, and function fitting is useful for making predictions based on a given set of data."
   ]
  },
  {
   "cell_type": "markdown",
   "metadata": {},
   "source": [
    "# How to use the package"
   ]
  },
  {
   "cell_type": "markdown",
   "metadata": {},
   "source": [
    "## Installation\n",
    "\n",
    "Please follow these two steps in sequence to install:\n",
    "\n",
    "1. Clone https://github.com/autodiff-cs207/AutoDiff.git\n",
    "2. After cloning, please run:\n",
    "\n",
    "   `python setup.py install`\n",
    "   \n",
    "Alternatively, to install from PyPI:\n",
    "1. `pip install AutoDiff_207_15`"
   ]
  },
  {
   "cell_type": "markdown",
   "metadata": {},
   "source": [
    "## Demos"
   ]
  },
  {
   "cell_type": "markdown",
   "metadata": {},
   "source": [
    "Note that the demos can only be run locally after installing the AutoDiff package.\n",
    "\n",
    "Import the package:"
   ]
  },
  {
   "cell_type": "code",
   "execution_count": 2,
   "metadata": {},
   "outputs": [],
   "source": [
    "# import sys\n",
    "# sys.pat\n",
    "from AutoDiff.AD import DiffObj, Variable, VectorFunction\n",
    "from AutoDiff.AD import MathOps as mo\n",
    "from AutoDiff.nn import NeuralNet\n",
    "from AutoDiff.root_finder import ThreadWithReturnValue, vectorNewton\n",
    "import numpy as np\n",
    "import matplotlib.pyplot as plt\n",
    "import math"
   ]
  },
  {
   "cell_type": "markdown",
   "metadata": {},
   "source": [
    "### Basic Demo"
   ]
  },
  {
   "cell_type": "markdown",
   "metadata": {},
   "source": [
    "Some elementary math operators:"
   ]
  },
  {
   "cell_type": "code",
   "execution_count": 2,
   "metadata": {},
   "outputs": [],
   "source": [
    "val_dict = {'x' : 10, 'y' : 20, 'z' : 1}\n",
    "x = Variable('x')\n",
    "y = Variable('y')"
   ]
  },
  {
   "cell_type": "code",
   "execution_count": 3,
   "metadata": {},
   "outputs": [
    {
     "name": "stdout",
     "output_type": "stream",
     "text": [
      "Value:     30\n",
      "Gradient:  {'y': 1, 'x': 1}\n"
     ]
    }
   ],
   "source": [
    "f0 = x + y\n",
    "print('Value:    ', f0.get_val(val_dict))\n",
    "print('Gradient: ', f0.get_der(val_dict))"
   ]
  },
  {
   "cell_type": "code",
   "execution_count": 4,
   "metadata": {},
   "outputs": [
    {
     "name": "stdout",
     "output_type": "stream",
     "text": [
      "Value:     0.5\n",
      "Gradient:  {'y': -0.025, 'x': 0.05}\n"
     ]
    }
   ],
   "source": [
    "f1 = x/y\n",
    "print('Value:    ', f1.get_val(val_dict))\n",
    "print('Gradient: ', f1.get_der(val_dict))"
   ]
  },
  {
   "cell_type": "code",
   "execution_count": 5,
   "metadata": {},
   "outputs": [
    {
     "name": "stdout",
     "output_type": "stream",
     "text": [
      "Value:     5\n",
      "Gradient:  {'y': 0, 'x': 0}\n"
     ]
    }
   ],
   "source": [
    "c = Constant('c', 5)\n",
    "print('Value:    ', c.get_val(val_dict))\n",
    "print('Gradient: ', c.get_der(val_dict,  ['x', 'y']))"
   ]
  },
  {
   "cell_type": "code",
   "execution_count": 6,
   "metadata": {},
   "outputs": [
    {
     "name": "stdout",
     "output_type": "stream",
     "text": [
      "Value:     35\n",
      "Gradient:  {'y': 1, 'x': 1}\n"
     ]
    }
   ],
   "source": [
    "f2 = x + y + c\n",
    "print('Value:    ', f2.get_val(val_dict))\n",
    "print('Gradient: ', f2.get_der(val_dict))"
   ]
  },
  {
   "cell_type": "markdown",
   "metadata": {},
   "source": [
    "Other math operators and exponentiation:"
   ]
  },
  {
   "cell_type": "code",
   "execution_count": 7,
   "metadata": {},
   "outputs": [],
   "source": [
    "val_dict1 = {'x' : 2, 'y' : 0}\n",
    "val_dict2 = {'x': 3, 'y': math.pi/3, 'z' : 10}\n",
    "val_dict3 = {'x' : math.pi/2, 'y' : math.pi/4, 'z' : 2}"
   ]
  },
  {
   "cell_type": "code",
   "execution_count": 8,
   "metadata": {},
   "outputs": [
    {
     "name": "stdout",
     "output_type": "stream",
     "text": [
      "Value:     -0.6931471805599453\n",
      "Gradient:  {'x': -0.5}\n"
     ]
    }
   ],
   "source": [
    "f3 = -mo.log(x)\n",
    "print('Value:    ', f3.get_val(val_dict1))\n",
    "print('Gradient: ', f3.get_der(val_dict1))"
   ]
  },
  {
   "cell_type": "code",
   "execution_count": 9,
   "metadata": {},
   "outputs": [
    {
     "name": "stdout",
     "output_type": "stream",
     "text": [
      "Value:     81\n",
      "Gradient:  {'x': 108.0}\n"
     ]
    }
   ],
   "source": [
    "c2 = Constant('c2', 4)\n",
    "f4 = x**c2\n",
    "print('Value:    ', f4.get_val(val_dict2))\n",
    "print('Gradient: ', f4.get_der(val_dict2))"
   ]
  },
  {
   "cell_type": "code",
   "execution_count": 10,
   "metadata": {},
   "outputs": [
    {
     "name": "stdout",
     "output_type": "stream",
     "text": [
      "Value:     0.7071067811865476\n",
      "Gradient:  {'y': -0.7071067811865475, 'x': -0.7071067811865475}\n"
     ]
    }
   ],
   "source": [
    "f5 = mo.sin(x + y)\n",
    "print('Value:    ', f5.get_val(val_dict3))\n",
    "print('Gradient: ', f5.get_der(val_dict3))"
   ]
  },
  {
   "cell_type": "markdown",
   "metadata": {},
   "source": [
    "### Root Finder Demo\n",
    "Note that because start points are randomized, the root finder is not deterministic; try running the second of the two root finding demos multiple times to see varied output.\n",
    "Finds a root of input function f(x) = 5x + 3 with AutoDiff's root_finder module."
   ]
  },
  {
   "cell_type": "code",
   "execution_count": 11,
   "metadata": {},
   "outputs": [
    {
     "name": "stderr",
     "output_type": "stream",
     "text": [
      "Tried to divide by zero!\n",
      "Tried to divide by zero!\n",
      "Tried to divide by zero!\n",
      "Tried to divide by zero!\n",
      "Tried to divide by zero!\n",
      "Tried to divide by zero!\n",
      "Tried to divide by zero!\n",
      "Tried to divide by zero!\n",
      "Tried to divide by zero!\n",
      "Tried to divide by zero!\n",
      "Tried to divide by zero!\n",
      "Tried to divide by zero!\n",
      "Tried to divide by zero!\n",
      "Tried to divide by zero!\n",
      "Tried to divide by zero!\n",
      "Tried to divide by zero!\n",
      "Tried to divide by zero!\n",
      "Tried to divide by zero!\n",
      "Tried to divide by zero!\n",
      "Tried to divide by zero!\n"
     ]
    },
    {
     "name": "stdout",
     "output_type": "stream",
     "text": [
      "[]\n",
      "[[-0.6]]\n"
     ]
    },
    {
     "data": {
      "image/png": "[encoded data removed]",
      "text/plain": [
       "<Figure size 648x432 with 1 Axes>"
      ]
     },
     "metadata": {
      "needs_background": "light"
     },
     "output_type": "display_data"
    }
   ],
   "source": [
    "const5 = Constant('const5', 5)\n",
    "const3 = Constant('const3', 3)\n",
    "x = Variable('x')\n",
    "f_x =  const5 * x + const3\n",
    "vf_x = VectorFunction([f_x])\n",
    "\n",
    "tol = 1e-6\n",
    "roots = vectorNewton(vf_x, verbose=False)\n",
    "print(roots)\n",
    "assert abs(roots[0][0] - (-0.6)) < tol, \"Root found was incorrect\" \n",
    "\n",
    "x_vals = np.linspace(-1,1,100)\n",
    "y_vals = 5*(x_vals) + 3\n",
    "fig = plt.gcf()\n",
    "fig.set_size_inches(9,6)\n",
    "_ = plt.plot(x_vals, y_vals)\n",
    "_ = plt.axhline(0, color='k', ls='--', lw=1.25)\n",
    "_ = plt.ylabel('f(x)', fontsize=12)\n",
    "_ = plt.xlabel('x', fontsize=12)\n",
    "_ = plt.scatter([roots[0][0]], [0], color='r', marker='o', s=80)\n",
    "_ = plt.annotate('Root found by vectorNewton', (roots[0][0] + .05,-.4))"
   ]
  },
  {
   "cell_type": "markdown",
   "metadata": {},
   "source": [
    "Demo on a more complicated function:\n",
    "$$\n",
    "f(x) = 5^{\\left(1 + sin\\left(log\\left(5 + x^2\\right)\\right)\\right)} - 10\n",
    "$$"
   ]
  },
  {
   "cell_type": "code",
   "execution_count": 12,
   "metadata": {},
   "outputs": [
    {
     "name": "stdout",
     "output_type": "stream",
     "text": [
      "[[-669.011242442953], [669.0112424429427], [-2061.8520322026866], [47712.71213720559], [2061.852032202654], [-89.07269504654057], [-15481.469841002976]]\n"
     ]
    },
    {
     "data": {
      "image/png": "[encoded data removed]",
      "text/plain": [
       "<Figure size 648x432 with 1 Axes>"
      ]
     },
     "metadata": {
      "needs_background": "light"
     },
     "output_type": "display_data"
    }
   ],
   "source": [
    "x = Variable('x')\n",
    "c1 = Constant('c1', 1)\n",
    "c2 = Constant('c2', 2)\n",
    "c3 = Constant('c3', 5)\n",
    "c4 = Constant('c4', 10)\n",
    "f = c3**(c1 + mo.sin(mo.log(c3 + x**c2))) - c4\n",
    "\n",
    "vf = VectorFunction([f])\n",
    "\n",
    "tol = 1e-6\n",
    "roots = vectorNewton(vf, verbose=False)\n",
    "print(roots)\n",
    "\n",
    "for root in roots:\n",
    "    assert abs(5**(1+ np.sin(np.log(5 + root[0]**2))) - 10) < tol, \"Root found was incorrect\" \n",
    "\n",
    "x_vals = np.linspace(-100,100,100)\n",
    "y_vals = 5**(1+ np.sin(np.log(5 + x_vals**2))) - 10\n",
    "fig = plt.gcf()\n",
    "fig.set_size_inches(9,6)\n",
    "_ = plt.plot(x_vals, y_vals)\n",
    "_ = plt.axhline(0, color='k', ls='--', lw=1.25)\n",
    "_ = plt.ylabel('f(x)', fontsize=12)\n",
    "_ = plt.xlabel('x', fontsize=12)\n",
    "for root in roots:\n",
    "    if abs(root[0]) < 100:\n",
    "        _ = plt.scatter(root, 0, color='r', marker='o', s=80)"
   ]
  },
  {
   "cell_type": "markdown",
   "metadata": {},
   "source": [
    "### Neural Network Demo\n",
    "Trains a neural network to find a fit for a set of inputs and corresponding outputs"
   ]
  },
  {
   "cell_type": "code",
   "execution_count": 13,
   "metadata": {},
   "outputs": [],
   "source": [
    "input_dim = 1\n",
    "hidden_dim = 12\n",
    "out_dim = 1\n",
    "lr = 0.03\n",
    "nn = NeuralNet(input_dim, hidden_dim, out_dim, lr)\n",
    "\n",
    "X_data = np.random.randn(3000, input_dim)\n",
    "y_data = np.sin(np.multiply(X_data, X_data))\n",
    "num_train = 2700\n",
    "X_train, y_train = X_data[0:num_train,:], y_data[0:num_train]\n",
    "X_test, y_test = X_data[num_train:,:], y_data[num_train:]"
   ]
  },
  {
   "cell_type": "code",
   "execution_count": 14,
   "metadata": {},
   "outputs": [
    {
     "name": "stdout",
     "output_type": "stream",
     "text": [
      "Loss after epoch 1 is: 608.0691\n",
      "Loss after epoch 2 is: 421.5568\n",
      "Loss after epoch 3 is: 349.4325\n",
      "Loss after epoch 4 is: 328.2866\n",
      "Loss after epoch 5 is: 330.9925\n",
      "Loss after epoch 6 is: 357.2830\n",
      "Loss after epoch 7 is: 296.0433\n",
      "Loss after epoch 8 is: 371.3949\n",
      "Loss after epoch 9 is: 207.9621\n",
      "Loss after epoch 10 is: 180.3810\n",
      "Loss after epoch 11 is: 162.2140\n",
      "Loss after epoch 12 is: 148.3966\n",
      "Loss after epoch 13 is: 137.4880\n",
      "Loss after epoch 14 is: 128.7160\n",
      "Loss after epoch 15 is: 121.5331\n",
      "Loss after epoch 16 is: 115.5519\n",
      "Loss after epoch 17 is: 110.5031\n",
      "Loss after epoch 18 is: 106.1754\n",
      "Loss after epoch 19 is: 102.3900\n",
      "Loss after epoch 20 is: 99.0326\n",
      "Loss after epoch 21 is: 96.3967\n",
      "Loss after epoch 22 is: 93.4124\n",
      "Loss after epoch 23 is: 90.3364\n",
      "Loss after epoch 24 is: 87.5842\n",
      "Loss after epoch 25 is: 85.1943\n",
      "Loss after epoch 26 is: 83.1594\n",
      "Loss after epoch 27 is: 81.4419\n",
      "Loss after epoch 28 is: 80.0075\n",
      "Loss after epoch 29 is: 78.8563\n",
      "Loss after epoch 30 is: 78.0721\n",
      "Loss after epoch 31 is: 78.0169\n",
      "Loss after epoch 32 is: 80.7194\n",
      "Loss after epoch 33 is: 100.6234\n",
      "Loss after epoch 34 is: 118.3871\n",
      "Loss after epoch 35 is: 109.2380\n",
      "Loss after epoch 36 is: 103.0942\n",
      "Loss after epoch 37 is: 94.1858\n",
      "Loss after epoch 38 is: 89.7722\n",
      "Loss after epoch 39 is: 87.3453\n",
      "Loss after epoch 40 is: 85.4622\n",
      "Loss after epoch 41 is: 83.6416\n",
      "Loss after epoch 42 is: 81.6980\n",
      "Loss after epoch 43 is: 79.6224\n",
      "Loss after epoch 44 is: 77.5146\n",
      "Loss after epoch 45 is: 75.5432\n",
      "Loss after epoch 46 is: 73.8579\n",
      "Loss after epoch 47 is: 72.4748\n",
      "Loss after epoch 48 is: 71.3071\n",
      "Loss after epoch 49 is: 70.2675\n",
      "Loss after epoch 50 is: 69.3037\n",
      "Loss after epoch 51 is: 68.3882\n",
      "Loss after epoch 52 is: 67.5047\n",
      "Loss after epoch 53 is: 66.6417\n",
      "Loss after epoch 54 is: 65.7887\n",
      "Loss after epoch 55 is: 64.9356\n",
      "Loss after epoch 56 is: 64.0720\n",
      "Loss after epoch 57 is: 63.1884\n",
      "Loss after epoch 58 is: 62.2776\n",
      "Loss after epoch 59 is: 61.3407\n",
      "Loss after epoch 60 is: 60.4001\n"
     ]
    }
   ],
   "source": [
    "num_epochs = 60\n",
    "tol = 1e-4\n",
    "prev_loss = 1e6\n",
    "for epoch in range(num_epochs):\n",
    "    running_loss = 0\n",
    "    for i in range(X_train.shape[0]):\n",
    "        loss, _ = nn.forward(X_train[i,:], y_train[i])\n",
    "        running_loss += loss[0]\n",
    "        nn.backward()\n",
    "    print('Loss after epoch {} is: {:.4f}'.format(epoch + 1, running_loss))\n",
    "    if abs(running_loss - prev_loss) < tol:\n",
    "        print('Training converged, stopping early.')\n",
    "        break\n",
    "    prev_loss = running_loss"
   ]
  },
  {
   "cell_type": "code",
   "execution_count": 17,
   "metadata": {},
   "outputs": [
    {
     "data": {
      "image/png": "[encoded data removed]",
      "text/plain": [
       "<Figure size 648x432 with 1 Axes>"
      ]
     },
     "metadata": {
      "needs_background": "light"
     },
     "output_type": "display_data"
    }
   ],
   "source": [
    "# Test on the test set and plot against train set\n",
    "y_pred = [0.0]*len(y_test)\n",
    "for i in range(len(y_test)):\n",
    "    _, pred = nn.forward(X_test[i,:], y_test[i])\n",
    "    y_pred[i] = list(pred)[0]\n",
    "    \n",
    "fig = plt.gcf()\n",
    "fig.set_size_inches(9, 6)\n",
    "_ = plt.scatter(X_test[:,0], y_test, marker='o', s=10, label=r'Ground Truth ($f(x) = sin(x^2)$)')\n",
    "_ = plt.scatter(X_test[:,0], y_pred, marker='v', s=10, label='Prediction (on Test Set)')\n",
    "_ = plt.xlabel('X', fontsize=14)\n",
    "_ = plt.ylabel('y', fontsize=14)\n",
    "_ = plt.legend(loc='best', fontsize=14)\n",
    "_ = plt.title('Ground Truth vs Predictions (after {} epochs)'.format(num_epochs), fontsize=14)\n",
    "fig.savefig('neural_net.png')"
   ]
  },
  {
   "cell_type": "markdown",
   "metadata": {},
   "source": [
    "# Background\n",
    "Automatic differentiation (AD) allows us to calculate the derivative to machine precision while avoiding symbolic differentiation's shortcomings. Our package implements on version of AD, the forward mode, by using an extension of the real numbers called the \"dual numbers.\" The forward mode of AD finds the derivative of all intermediate variables with respect to our independent variable and combines them into a final derivative using the chain rule.\n",
    "\n",
    "AD can also be used in \"reverse mode,\" which we will not discuss in detail her, but this method shares many of the same characteristics as forward mode. However, the reverse mode computes derivatives of the dependent variable with respect to the intermediate variables. \n",
    "\n",
    "#### Dual Numbers\n",
    "To carry out the forward mode AD we utilize dual numbers. Dual numbers are defined as numbers of the form $x + x'\\epsilon$, where $\\epsilon^2=0$ and $x \\in \\mathbb{R}^n$. We use operator overloading to redefine elementary operations to suit our problem. To see why this is useful, let's examine how dual numbers behave under different mathematical operations:\n",
    "\n",
    "Addition: $(x+x'\\epsilon) + (y + y'\\epsilon) = x+y + (x'+y')\\epsilon$\n",
    "\n",
    "Subtraction: $(x+x'\\epsilon) - (y + y'\\epsilon) = x-y + (x'-y')\\epsilon$\n",
    "\n",
    "So far, this is as we might expect.\n",
    "\n",
    "Multiplication: $(x+x'\\epsilon) \\times (y + y'\\epsilon) = xy + y(x')\\epsilon+ x(y')\\epsilon$\n",
    "\n",
    "Our definition of $\\epsilon$ allows the multiplication of dual numbers to behave like the product rule.\n",
    "\n",
    "Division: $\\frac{(x+x'\\epsilon)}{(y + y'\\epsilon)} = \\frac{(x+x'\\epsilon)(y - y'\\epsilon)}{(y + y'\\epsilon)(y - y'\\epsilon)} = \\frac{xy+xy'\\epsilon-yx'\\epsilon}{y^2} = \\frac{x}{y}+\\epsilon \\frac{xy'-yx'}{y^2}$\n",
    "\n",
    "Division also follows rules for derivatives.\n",
    "\n",
    "Finally, observe how functions of dual numbers behave:\n",
    "\n",
    "$f(x+x'\\epsilon) = f(x)+\\epsilon f'(x)x'$\n",
    "\n",
    "Which implies the following:\n",
    "\n",
    "$g(f(x+x'\\epsilon)) = g(f(x)+\\epsilon f'(x)x') = g(f(x))+\\epsilon g'(f(x))f'(x)x'$\n",
    "\n",
    "The above example illustrates how dual numbers can be used to simultaneously calculate the value of a function at a point, $g(f(x))$, and the derivative, $g'(f(x))f'(x)x'$.\n",
    "\n",
    "#### Tracing the computational graph\n",
    "By keeping track of the intermediate values of the derivative we can calculate the derivative of composition of many elementary functions. We can picture this decomposition as a graph or table. For example, consider the following function$^{1}$: $$f\\left(x, y, z\\right) = \\dfrac{1}{xyz} + \\sin\\left(\\dfrac{1}{x} + \\dfrac{1}{y} + \\dfrac{1}{z}\\right).$$\n",
    "\n",
    "If we want to evaluate $f$ at $\\left(1, 2, 3\\right)$, we can construct the following table which keeps track for the elementary function, current value, and the elementary function derivative (evaluated with respect to all our variables).\n",
    "\n",
    "| Trace | Elementary Function | Current Value | Elementary Function Derivative | $\\nabla_{x}$ Value  | $\\nabla_{y}$ Value  | $\\nabla_{z}$ Value  |\n",
    "| :---: | :-----------------: | :-----------: | :----------------------------: | :-----------------: | :-----------------: | :-----------------: |\n",
    "| $x_{1}$ | $x_{1}$ | $1$ | $\\dot{x}_1$ | $1$ | $0$ | $0$ | \n",
    "| $x_{2}$ | $x_{2}$ | $2$ | $\\dot{x}_2$ | $0$ | $1$ | $0$ | \n",
    "| $x_{3}$ | $x_{3}$ | $3$ | $\\dot{x}_3$ | $0$ | $0$ | $1$ | \n",
    "| $x_{4}$ | $1/x_{1}$ | $1$ | $-\\dot{x}_{1}/x_{1}^{2}$ | $-1$ | $0$ | $0$ | \n",
    "| $x_{5}$ | $1/x_{2}$ | $\\frac{1}{2}$ | $-\\dot{x}_{2}/x_{2}^{2}$ | $0$ | $-\\frac{1}{4}$ | $0$ | \n",
    "| $x_{6}$ | $1/x_{3}$ | $\\frac{1}{3}$ | $-\\dot{x}_{3}/x_{3}^{2}$ | $0$ | $0$ | $-\\frac{1}{9}$ | \n",
    "| $x_{7}$ | $x_4 x_5 x_6$ | $\\frac{1}{6}$ | $x_4(x_5\\dot{x}_6 + x_6\\dot{x}_5) + x_5x_6\\dot{x}_4$ | $-\\frac{1}{6}$ | $-\\frac{1}{12}$ | $-\\frac{1}{18}$ | \n",
    "| $x_{8}$ | $x_4 + x_5 + x_6$ | $\\frac{11}{6}$ | $\\dot{x}_4 + \\dot{x}_5 + \\dot{x}_6$ | $-1$ | $-\\frac{1}{4}$ | $-\\frac{1}{9}$ | \n",
    "| $x_{9}$ | $sin(x_8)$ | $sin(\\frac{11}{6})$ | $cos(x_8)\\dot{x}_8$ | $-cos(\\frac{11}{6})$ | $-\\frac{1}{4}cos(\\frac{11}{6})$ | $-\\frac{1}{9}cos(\\frac{11}{6})$ | \n",
    "| $x_{10}$ | $x_7 + x_9$ | $sin(\\frac{11}{6})+\\frac{1}{6}$ | $\\dot{x}_7 + \\dot{x}_9$ | $-cos(\\frac{11}{6})-\\frac{1}{6}$ | $-\\frac{1}{4}cos(\\frac{11}{6})-\\frac{1}{12}$ | $-\\frac{1}{9}cos(\\frac{11}{6})-\\frac{1}{18}$ | \n",
    "\n",
    "As this example shows, we can use AD for both scalar and vector functions. AD can also be used for vector valued functions. The follow sections will make the implementation of these varients clear.\n",
    "\n",
    "$^1$Example from Harvard CS207 Homework 4"
   ]
  },
  {
   "cell_type": "markdown",
   "metadata": {},
   "source": [
    "# Software Organization"
   ]
  },
  {
   "cell_type": "markdown",
   "metadata": {},
   "source": [
    "## Directory Structure"
   ]
  },
  {
   "cell_type": "code",
   "execution_count": 16,
   "metadata": {},
   "outputs": [
    {
     "ename": "SyntaxError",
     "evalue": "invalid syntax (<ipython-input-16-2008748d9700>, line 1)",
     "output_type": "error",
     "traceback": [
      "\u001b[0;36m  File \u001b[0;32m\"<ipython-input-16-2008748d9700>\"\u001b[0;36m, line \u001b[0;32m1\u001b[0m\n\u001b[0;31m    ```\u001b[0m\n\u001b[0m    ^\u001b[0m\n\u001b[0;31mSyntaxError\u001b[0m\u001b[0;31m:\u001b[0m invalid syntax\n"
     ]
    }
   ],
   "source": [
    "```\n",
    "AutoDiff/\n",
    "    AutoDiff/\n",
    "        __init__.py\n",
    "        AD.py\n",
    "        nn.py\n",
    "        root_finder.py\n",
    "        tests/\n",
    "            root_finder.py\n",
    "            AutoDiff.py\n",
    "        README.md\n",
    "        AutoDiff_Demo.ipynb\n",
    "        setup.py\n",
    "        LICENSE\n",
    "```"
   ]
  },
  {
   "cell_type": "markdown",
   "metadata": {},
   "source": [
    "## Basic Modules\n",
    "Our AD.py file contains our main classes: DiffObj, Variable, Constant, VectorFunction, and MathOps, all imported in our init file. This main module supports basic automatic differentiation. Our package contains two other modules: nn to support basic function fitting with neural networks, and root_finder to find roots of input functions."
   ]
  },
  {
   "cell_type": "markdown",
   "metadata": {},
   "source": [
    "## Testing\n",
    "Comprehensive tests can be found in the /tests directory. Testing is automated with both TravisCI and Coveralls. In addition, we have also written DocTest code for each class function and our package passes all doctest by running doctest.testmod().\n",
    "\n",
    "Note that for root_finder, when dealing with functions that have many y values very close to the actual roots, you may have to scale tolerance to weed out incorrect root values (as with the function f(x) = x^3, for which using the default tolerance gave a list of roots containing many values very close to x = 0)."
   ]
  },
  {
   "cell_type": "markdown",
   "metadata": {},
   "source": [
    "# Implementation Details"
   ]
  },
  {
   "cell_type": "markdown",
   "metadata": {},
   "source": [
    "## Core Data Structures\n",
    "\n",
    "There are two core data structures in our implementation:\n",
    "\n",
    "1. **Lists**: The name_list (a list of strings) representing variable names, that is stored in every Diffobj instance to indicate the variables influencing that instance. Eg. for the DiffObj w, where w represents sin(x)+y, the name_list of Variable x is ['x'], the name_list of Variable y is ['y'] and the name_list of w is ['x','y'].\n",
    "\n",
    "2. **Dictionaries**: The dictionary value_dict, an argument of DiffObj.get_der, containing names and values that indicate the point in space at which we need to compute derivative and evaluate an expression, for example in w.get_val(value_dict). We also use Dictionarie for storing partial derivatives with respect to variables."
   ]
  },
  {
   "cell_type": "markdown",
   "metadata": {},
   "source": [
    "## Core Classes"
   ]
  },
  {
   "cell_type": "markdown",
   "metadata": {},
   "source": [
    "### 1. Class DiffObj()\n",
    "Any function for which a user wants to evaluate its value and gradient, will be represented by an instance of this class DiffObj, or by instances of classes which inherit from DiffObj (e.g. class Variable, etc.) A mathematical equivalent of a DiffObj object will be:\n",
    " * a variable such as $x$, which we have implemented via a Sub-class 'Variable'\n",
    " * a mathematical expression such as $x^2 + sin(y)$.\n",
    "\n",
    "DiffObj enforces that each class which inherits from it, must implement two functions:\n",
    "\n",
    "    CLASS FUNCTIONS\n",
    "    ==================\n",
    "    The functions get_val and get_der are exposed to the user, that is, a user of our package can\n",
    "    call these functions.\n",
    "\n",
    "    (1) get_val:        This is used to evaluate the function represented by a DiffObj instance at\n",
    "                        a particular point.\n",
    "\n",
    "    (2) get_der:        This is used to evalate the gradient of the function repreesnted by a DiffObj\n",
    "                        instance, at a particular point.\n",
    "   \n",
    "    CLASS ATTRIBUTES\n",
    "    ================\n",
    "    The attributes are not meant to be used by an end-user of our package, and they are meant for internal\n",
    "    computation.\n",
    "\n",
    "    name_list:          A list of strings, where each item in the list represents the variables inside\n",
    "                        the function represented by this DiffObj. E.g. for f(x,y) = x + y, the name_list\n",
    "                        for a DiffObj representing f will be ['x', 'y'] (assuming the x.name_list = ['x']\n",
    "                        and y.name_list = ['y'].\n",
    "    operator:           A single string representing the \"operator\". By default, DiffObj assumes that it\n",
    "                        represents two DiffObj's connected by an binary operator such as 'add'. However,\n",
    "                        we use the same definition for unary operators such as negation or cosine.\n",
    "    operand_list:       A list of two DiffObjs, which together with self.operator, comprise this instance\n",
    "                        of DiffObj.\n",
    "\n",
    "    CLASS FUNCTIONS\n",
    "    ================\n",
    "    get_val(self, value_dict)\n",
    "        INPUT\n",
    "        ======\n",
    "        value_dict:     A dictionary, whose keys are strings representing variables which feature\n",
    "                        in the formula represented by this DiffObj. The values at those keys are\n",
    "                        the values at which the formula representing this DiffObj will be evaluated.\n",
    "\n",
    "                        E.g. For a DiffObj which represents the function f(x,y) = x + y, the value_dict\n",
    "                        argument may look like value_dict = {'x': 10, 'y': 5}\n",
    "        OUTPUT\n",
    "        ======\n",
    "\n",
    "        DOCTEST\n",
    "        ======\n",
    "        >>> z=x+y\n",
    "        >>> z.get_val({'x':1,'y':1})\n",
    "        2\n",
    "\n",
    "\n",
    "        result:         A floating point number, which equals the evaluation of the function\n",
    "                        represented by this DiffObj, at the variable values given by val_dict.\n",
    "\n",
    "    get_der(self, value_dict, with_respect_to=None)\n",
    "        INPUT\n",
    "        ======\n",
    "        value_dict:         A dictionary, whose keys are strings representing variables which feature\n",
    "                            in the formula represented by this DiffObj. The values at those keys are\n",
    "                            the values at which the gradient of formula representing this DiffObj will\n",
    "                            be evaluated.\n",
    "\n",
    "                            E.g. For a DiffObj which represents the function f(x,y) = x + y, the value_dict\n",
    "                            argument may look like value_dict = {'x': 10, 'y': 5}\n",
    "        with_respect_to:    A list of strings representing variables, with respect to which we want the\n",
    "                            gradient of this DifObj. By default, if this list is not provided, then the\n",
    "                            gradient with respect to all variables featuring in the DiffObj is returned.\n",
    "\n",
    "        OUTPUT\n",
    "        ======\n",
    "        result:             A dictionary, whose keys are strings representing variables which feature\n",
    "                            in the formula represented by this DiffObj. The value associated withe each\n",
    "                            key is a floating point number which is the partial derivative of this DiffObj\n",
    "                            with respect to that variable.\n",
    "\n",
    "        DOCTEST\n",
    "        ======\n",
    "        >>> z=x+y\n",
    "        >>> z.get_der({'x':0,'y':0})\n",
    "        {'y': 1, 'x': 1}\n",
    "        \n",
    "    Other class functions: These include the overloaded operators listed in the functionality section above. \n",
    "                            We have provided detailed documentation for these overloaded functions inside our code. "
   ]
  },
  {
   "cell_type": "markdown",
   "metadata": {},
   "source": [
    "### 2. Class Variable(DiffObj)\n",
    "This subclass inherits from DiffObj, and is basically used for representing a variable such as x or y.\n",
    "\n",
    "    All variables inside a function whose derivative and value a user wants to calculate,\n",
    "    will be instances of the Variable class, which inherits from DiffObj and implements\n",
    "    get_val and get_der\n",
    "\n",
    "    CLASS ATTRIBUTES\n",
    "    ================\n",
    "    var_name:           A string, which is unique to this Variable instance.\n",
    "                        E.g. x = Variable('x')\n",
    "\n",
    "    CLASS FUNCTIONS\n",
    "    ===============\n",
    "    This implements get_val and get_der, a description of which is provided in the\n",
    "    Super-class DiffObj."
   ]
  },
  {
   "cell_type": "markdown",
   "metadata": {},
   "source": [
    "### 3. Class MathOps()\n",
    "    This class inherits from the DiffObj class. It implements non-elementary unary functions\n",
    "    including: sin, cos, tan, log, exp.\n",
    "\n",
    "    INSTANTIATION\n",
    "    ===============\n",
    "    If a is of type DiffObj, then the invoking the constructor as follows will return an\n",
    "    object b of type MathOps:\n",
    "\n",
    "    b = MathOps.sin(a)\n",
    "\n",
    "    CLASS ATTRIBUTES\n",
    "    ================\n",
    "    The attributes are not meant to be used by an end-user of our package, and they are meant for internal\n",
    "    computation.\n",
    "\n",
    "    name_list:          A list of strings, where each item in the list represents the variables inside\n",
    "                        the function represented by this DiffObj. E.g. for f(x,y) = x + y, the name_list\n",
    "                        for a DiffObj representing f will be ['x', 'y'] (assuming the x.name_list = ['x']\n",
    "                        and y.name_list = ['y'].\n",
    "    operator:           A string, such as 'sin' or 'log', which represents one of the unary math operators\n",
    "                        implemented by this class.\n",
    "    operand_list:       A list of length 1 containing the DiffObj which the user has passed as an argument\n",
    "                        to one of the classmethods of MathOps.\n",
    "    CLASS FUNCTIONS\n",
    "    ================\n",
    "    Note: This class implements classmethods named 'sin', 'cos', 'tan', 'log' and 'exp', and these\n",
    "    classmethods basically return an instance of type DiffObj, which supports get_val and get_der\n",
    "    for functions like sin, log, cos, tan, exp."
   ]
  },
  {
   "cell_type": "markdown",
   "metadata": {},
   "source": [
    "### 4. Class NeuralNet()"
   ]
  },
  {
   "cell_type": "markdown",
   "metadata": {},
   "source": [
    "## Dependencies\n",
    "\n",
    "Our package relies on Math and NumPy."
   ]
  }
 ],
 "metadata": {
  "kernelspec": {
   "display_name": "Python 3",
   "language": "python",
   "name": "python3"
  },
  "language_info": {
   "codemirror_mode": {
    "name": "ipython",
    "version": 3
   },
   "file_extension": ".py",
   "mimetype": "text/x-python",
   "name": "python",
   "nbconvert_exporter": "python",
   "pygments_lexer": "ipython3",
   "version": "3.5.6"
  }
 },
 "nbformat": 4,
 "nbformat_minor": 2
}
