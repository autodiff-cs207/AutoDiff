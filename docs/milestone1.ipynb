{
 "cells": [
  {
   "cell_type": "markdown",
   "metadata": {},
   "source": [
    "# Introduction"
   ]
  },
  {
   "cell_type": "markdown",
   "metadata": {},
   "source": [
    "# Background"
   ]
  },
  {
   "cell_type": "markdown",
   "metadata": {},
   "source": [
    "# Package Import Design"
   ]
  },
  {
   "cell_type": "markdown",
   "metadata": {},
   "source": [
    "# Software Organization\n",
    "### Directory Structure\n",
    "```\n",
    "AutoDiff/\n",
    "    AutoDiff/\n",
    "        AutoDiff.py\n",
    "        tests.py\n",
    "        README.md\n",
    "        __init__.py\n",
    "        setup.py\n",
    "        LICENSE\n",
    "```\n",
    "### Modules and Functionality\n",
    "We plan on including an AutoDiff module with classes DiffObj(), Variable(DiffObj), Const(DiffObj), MathOps(), and MathDiffObj(DiffObj). Their basic functionalities are as defined below in Implementation. Within these modules, we'll be using the math library to access functions like math.sin(), along with possibly numpy for handling large vectors.\n",
    "\n",
    "### Testing\n",
    "Our test suite will live within the AutoDiff directory, and we will be using both TravisCI and Coveralls to automate testing. \n",
    "\n",
    "### Distribution\n",
    "We haven't decided on a distribution method yet, but we'll probably be using the recommended PyPI."
   ]
  },
  {
   "cell_type": "markdown",
   "metadata": {},
   "source": [
    "# Implementation"
   ]
  },
  {
   "cell_type": "markdown",
   "metadata": {},
   "source": [
    "## Class Structure\n",
    "We envisage having the following classes in our package:\n",
    "1. Class DiffObj()\n",
    "2. Class Variable(DiffObj)\n",
    "3. Class Const(DiffObj)\n",
    "4. Class MathOps(), with Inner Classs MathDiffObj(DiffObj)\n",
    "\n",
    "These are described along with their Class Attributes and Class Methods below."
   ]
  },
  {
   "cell_type": "markdown",
   "metadata": {},
   "source": [
    "### 1. Class DiffObj()\n",
    "This will be a Superclass and every instance of this Super-class (or of any Sub-class which inherits from this), will basically expose access to its 'value' and its 'derivative'. A mathematical equivalent of a DiffObj object will be:\n",
    " * a constant such as $5.0$, which we will implement via a Sub-class 'Const'\n",
    " * a variable such as $x$, which we will implement via a Sub-class 'Variable'\n",
    " * a mathematical expression such as $x^2 + sin(y)$.\n",
    " \n",
    " **Class Attributes**:\n",
    " * name_list: A list of strings, this is contains names of all Variable objects which make this DiffObj. E.g. a DiffObj representing $x + xy + sin(z)$ will have its name_list as ['x','y','z'].\n",
    " \n",
    " **Class Methods**:\n",
    " * get_val:\n",
    "         INPUT\n",
    "         ======\n",
    "         value_dict:    a dictionary, whose keys are string Variable names, and value is a float number.\n",
    "         OUTPUT:\n",
    "         ======\n",
    "         result_val:    a float number, the result of evaluating the DiffObj at variable values given in value_dict. \n",
    " * get_der:\n",
    "         INPUT\n",
    "         ======\n",
    "         value_dict:    a dictionary, whose keys are string Variable names, and value is a float number. These are \n",
    "                        the values at which the derivative will be evaluated. This dictionary should provide values \n",
    "                        for all Variables which appear in the DiffObj.\n",
    "         der_var_name:  optional, a string or list of strings, which represent names of variables with respect to \n",
    "                        which the derivative is required. If this argument is not provided, we return derivative with \n",
    "                        respect to all variables which appear in the DiffObj.\n",
    "         OUTPUT:\n",
    "         ======\n",
    "         result_val:    a float number, the result of evaluating the DiffObj at variable values given in value_dict.\n",
    "         result_der:    dictionary, whose keys are strings representing names of Variables with respect to which the\n",
    "                        the derivative is required, and values are the derivative values.\n",
    "                        \n",
    "  **Overloaded Operators**: This will include common mathematical operators such as \\_\\_add\\_\\_, \\_\\_mul\\_\\_, \\_\\_sub\\_\\_, \\_\\_div\\_\\_, \\_\\_pow\\_\\_. These will allow addition, subtraction, multiplication, division, exponentiation between diff objects."
   ]
  },
  {
   "cell_type": "markdown",
   "metadata": {},
   "source": [
    "### 2. Class Variable(DiffObj)\n",
    "This subclass inherits from DiffObj, and is basically used for representing a variable such as x or y.\n",
    "\n",
    "**Class Attributes**:\n",
    "* var_name: a string, such as 'x', which is unique to this Variable."
   ]
  },
  {
   "cell_type": "markdown",
   "metadata": {},
   "source": [
    "### 3. Class Constant(DiffObj)\n",
    "This subclass inherits from DiffObj, and is basically used for representing a consant such as 7.0.\n",
    "\n",
    "**Class Attributes**:\n",
    "* const_val: a float number, such as 7.0."
   ]
  },
  {
   "cell_type": "markdown",
   "metadata": {},
   "source": [
    "### 4. Class MathOps()\n",
    "This subclass is basically used for implementing differntiable functions, which include trigonometric functions such as $\\sin{x}$, and others such as $e^x$ etc. It will return an instance of an Inner Class called MathDiffObj (which inherits from DiffObj). \n",
    "\n",
    "**Inner Class**:\n",
    "* Class MathDiffObj (DiffObj): Inherits from DiffObj and implements get_val and get_der for the mathematical functions inside MathOps.\n",
    "\n",
    "**Class Methods**:\n",
    "* sin:\n",
    "         INPUT\n",
    "         ======\n",
    "         input_diffobj: an instance of DiffObj, whose keys are string Variable names, and value is a float number.\n",
    "         OUTPUT:\n",
    "         ======\n",
    "         math_obj:      an instance of Inner Class MathDiffObj, which inherits from DiffObj.\n",
    "* Other differentiable functions such as cos(x), tan(x), log(x) etc. "
   ]
  },
  {
   "cell_type": "markdown",
   "metadata": {},
   "source": [
    "## Core Data Structures\n",
    "\n",
    "There are two core data structures in our implementation:\n",
    "\n",
    "1. **Lists**: The name_list (a list of strings) representing variable names, that is stored in every Diffobj instance to indicate the variables influencing that instance. Eg. for the DiffObj w, where w represents sin(x)+y, the name_list of Variable x is ['x'], the name_list of Variable y is ['y'] and the name_list of w is ['w','x','y'].\n",
    "\n",
    "2. **Dictionaries**: The dictionary value_dict, an argument of DiffObj.get_der, containing names and values that indicate the point in space at which we need to compute derivative and evaluate an expression, for example in w.get_val(value_dict)."
   ]
  },
  {
   "cell_type": "markdown",
   "metadata": {},
   "source": [
    "## External Dependencies\n",
    "\n",
    "As of now we believe we will use the following third party libraries:\n",
    "1. NumPy\n",
    "2. Math"
   ]
  },
  {
   "cell_type": "markdown",
   "metadata": {},
   "source": [
    "## Dealing with Elementary Functions\n",
    "In our design, we will provide a Class called MathOps, whose class methods will be named after elementary functions such as $sin$. For example, the function $sin$ will accept a DiffObj instance as argument, and return an object of type MathDiffObj (which inherits from DiffObj, and implements get_val and get_der methods). MathDiffObj will be implemented as an Inner Class of MathOps because it will not be used outside of MathOps. The following cell shows the structure of these classes."
   ]
  },
  {
   "cell_type": "code",
   "execution_count": 6,
   "metadata": {},
   "outputs": [],
   "source": [
    "class DiffObj():\n",
    "    def __init__(self):\n",
    "        pass\n",
    "    def get_val(self):\n",
    "        raise NotImplementedError\n",
    "    def get_der(self):\n",
    "        raise NotImplementedError\n",
    "        \n",
    "class MathOps():\n",
    "    def __init__(self):\n",
    "        pass\n",
    "    def sin(self, diff_obj):\n",
    "        return MathDiffObj('sin', diff_obj)\n",
    "    \n",
    "    class MathDiffObj(DiffObj):\n",
    "        def __init__(self, op_name, diff_obj):\n",
    "            self.op_name = op_name\n",
    "            self.dobj = diff_obj\n",
    "        def get_val(self):\n",
    "            if self.op_name == 'sin':\n",
    "                return math.sin(self.dobj.get_val())\n",
    "        def get_der(self):\n",
    "            raise NotImplementedError"
   ]
  },
  {
   "cell_type": "code",
   "execution_count": null,
   "metadata": {},
   "outputs": [],
   "source": []
  }
 ],
 "metadata": {
  "kernelspec": {
   "display_name": "Python 3",
   "language": "python",
   "name": "python3"
  },
  "language_info": {
   "codemirror_mode": {
    "name": "ipython",
    "version": 3
   },
   "file_extension": ".py",
   "mimetype": "text/x-python",
   "name": "python",
   "nbconvert_exporter": "python",
   "pygments_lexer": "ipython3",
   "version": "3.5.5"
  }
 },
 "nbformat": 4,
 "nbformat_minor": 2
}
