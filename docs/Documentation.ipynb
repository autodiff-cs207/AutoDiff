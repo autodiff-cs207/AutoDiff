{
 "cells": [
  {
   "cell_type": "markdown",
   "metadata": {},
   "source": [
    "# Introduction\n",
    "\n",
    "Derivatives are used to solve a large variety of modern-day problems. There are three general methods used to calculate derivatives:\n",
    "1. Symbolic differentiation \n",
    "2. Numerical differentiation\n",
    "3. Automatic differentiation \n",
    "\n",
    "Symbolic differentiation can be very useful, but there are some functions that do not have a symbolic derivative. Additionally, symbolic differentiation can be very costly, as it may recalculate the same expressions many times, or the expression for the derivative may grow exponentially. Sometimes we can avoid these issues by numerically differentiating our function. Often this means using finite differences. The method of finite differences calculates derivative at point $x$ by using the following definition:\n",
    "\n",
    "$$f'(x) = \\lim_{h\\to 0} f(x) \\frac{f(x+h)-f(x)}{h}$$ \n",
    "\n",
    "Finite differences can also be very effective in certain situations. However, as with symbolic differentiation, finite differences has its problems. The biggest issue is that to obtain the most accurate estimate of $f'(x)$, we would like to make $h$ as small as possible; in fact, we would like $h$ to be infinitely small. However, we cannot *actually* make $h$ zero, and thus we must compromise and choose some small-but-not-zero value for $h$, which brings us to our second problem: we cannot precisely represent all numbers. Our machines only have a certain level of precision. When we compute our derivatives numerically we introduce error by approximating values to their closest machine equivalent. To avoid these issues, we turn to our third approach: automatic differentiation. Automatic differentiation computes derivatives by repeatedly applying the chain rule to recursively compute derivatives of elementary arithmetic operations and functions."
   ]
  },
  {
   "cell_type": "markdown",
   "metadata": {},
   "source": [
    "For our package extension, we chose to implement root finding and a basic function fitting neural network class. Our neural network class is mostly fixed, but allows the dimensions of the input and number of hidden nodes to be changed. Root finding is used in many contexts for optimization, and function fitting is useful for making predictions based on a given set of data."
   ]
  },
  {
   "cell_type": "markdown",
   "metadata": {},
   "source": [
    "# How to use the package"
   ]
  },
  {
   "cell_type": "markdown",
   "metadata": {},
   "source": [
    "## Installation\n",
    "\n",
    "Please follow these two steps in sequence to install:\n",
    "\n",
    "1. Clone https://github.com/autodiff-cs207/AutoDiff.git\n",
    "2. After cloning, please run:\n",
    "\n",
    "   ` python setup.py install`"
   ]
  },
  {
   "cell_type": "markdown",
   "metadata": {},
   "source": [
    "## Demos"
   ]
  },
  {
   "cell_type": "markdown",
   "metadata": {},
   "source": [
    "Note that the demos can only be run locally after installing the AutoDiff package.\n",
    "\n",
    "Import the package:"
   ]
  },
  {
   "cell_type": "code",
   "execution_count": 40,
   "metadata": {},
   "outputs": [
    {
     "ename": "ImportError",
     "evalue": "No module named 'api'",
     "output_type": "error",
     "traceback": [
      "\u001b[0;31m---------------------------------------------------------------------------\u001b[0m",
      "\u001b[0;31mImportError\u001b[0m                               Traceback (most recent call last)",
      "\u001b[0;32m<ipython-input-40-28cc1893d965>\u001b[0m in \u001b[0;36m<module>\u001b[0;34m()\u001b[0m\n\u001b[1;32m      2\u001b[0m \u001b[0;32mfrom\u001b[0m \u001b[0mAutoDiff\u001b[0m \u001b[0;32mimport\u001b[0m \u001b[0mMathOps\u001b[0m \u001b[0;32mas\u001b[0m \u001b[0mmo\u001b[0m\u001b[0;34m\u001b[0m\u001b[0m\n\u001b[1;32m      3\u001b[0m \u001b[0;32mfrom\u001b[0m \u001b[0mAutoDiff\u001b[0m\u001b[0;34m.\u001b[0m\u001b[0mnn\u001b[0m \u001b[0;32mimport\u001b[0m \u001b[0mNeuralNet\u001b[0m\u001b[0;34m\u001b[0m\u001b[0m\n\u001b[0;32m----> 4\u001b[0;31m \u001b[0;32mfrom\u001b[0m \u001b[0mAutoDiff\u001b[0m\u001b[0;34m.\u001b[0m\u001b[0mroot_finder\u001b[0m \u001b[0;32mimport\u001b[0m \u001b[0mThreadWithReturnValue\u001b[0m\u001b[0;34m,\u001b[0m \u001b[0mvectorNewton\u001b[0m\u001b[0;34m\u001b[0m\u001b[0m\n\u001b[0m\u001b[1;32m      5\u001b[0m \u001b[0;32mimport\u001b[0m \u001b[0mnumpy\u001b[0m \u001b[0;32mas\u001b[0m \u001b[0mnp\u001b[0m\u001b[0;34m\u001b[0m\u001b[0m\n\u001b[1;32m      6\u001b[0m \u001b[0;32mimport\u001b[0m \u001b[0mmatplotlib\u001b[0m\u001b[0;34m.\u001b[0m\u001b[0mpyplot\u001b[0m \u001b[0;32mas\u001b[0m \u001b[0mplt\u001b[0m\u001b[0;34m\u001b[0m\u001b[0m\n",
      "\u001b[0;32m~/cs_207/project/AutoDiff/AutoDiff/root_finder.py\u001b[0m in \u001b[0;36m<module>\u001b[0;34m()\u001b[0m\n\u001b[0;32m----> 1\u001b[0;31m \u001b[0;32mimport\u001b[0m \u001b[0mapi\u001b[0m\u001b[0;34m\u001b[0m\u001b[0m\n\u001b[0m\u001b[1;32m      2\u001b[0m \u001b[0;32mfrom\u001b[0m \u001b[0mthreading\u001b[0m \u001b[0;32mimport\u001b[0m \u001b[0mThread\u001b[0m\u001b[0;34m\u001b[0m\u001b[0m\n\u001b[1;32m      3\u001b[0m \u001b[0;32mimport\u001b[0m \u001b[0mrandom\u001b[0m\u001b[0;34m\u001b[0m\u001b[0m\n\u001b[1;32m      4\u001b[0m \u001b[0;32mimport\u001b[0m \u001b[0mnumpy\u001b[0m \u001b[0;32mas\u001b[0m \u001b[0mnp\u001b[0m\u001b[0;34m\u001b[0m\u001b[0m\n\u001b[1;32m      5\u001b[0m \u001b[0;32mimport\u001b[0m \u001b[0mmath\u001b[0m\u001b[0;34m\u001b[0m\u001b[0m\n",
      "\u001b[0;31mImportError\u001b[0m: No module named 'api'"
     ]
    }
   ],
   "source": [
    "from AutoDiff import DiffObj, Variable, Constant\n",
    "from AutoDiff import MathOps as mo\n",
    "from AutoDiff.nn import NeuralNet\n",
    "from AutoDiff.root_finder import ThreadWithReturnValue, vectorNewton\n",
    "import numpy as np\n",
    "import matplotlib.pyplot as plt\n",
    "import math"
   ]
  },
  {
   "cell_type": "markdown",
   "metadata": {},
   "source": [
    "### Basic Demo"
   ]
  },
  {
   "cell_type": "markdown",
   "metadata": {},
   "source": [
    "Some elementary math operators:"
   ]
  },
  {
   "cell_type": "code",
   "execution_count": 12,
   "metadata": {},
   "outputs": [],
   "source": [
    "val_dict = {'x' : 10, 'y' : 20, 'z' : 1}\n",
    "x = Variable('x')\n",
    "y = Variable('y')"
   ]
  },
  {
   "cell_type": "code",
   "execution_count": 11,
   "metadata": {},
   "outputs": [
    {
     "name": "stdout",
     "output_type": "stream",
     "text": [
      "Value:     30\n",
      "Gradient:  {'y': 1, 'x': 1}\n"
     ]
    }
   ],
   "source": [
    "f0 = x + y\n",
    "print('Value:    ', f0.get_val(val_dict))\n",
    "print('Gradient: ', f0.get_der(val_dict))"
   ]
  },
  {
   "cell_type": "code",
   "execution_count": 13,
   "metadata": {},
   "outputs": [
    {
     "name": "stdout",
     "output_type": "stream",
     "text": [
      "Value:     0.5\n",
      "Gradient:  {'y': -0.025, 'x': 0.05}\n"
     ]
    }
   ],
   "source": [
    "f1 = x/y\n",
    "print('Value:    ', f1.get_val(val_dict))\n",
    "print('Gradient: ', f1.get_der(val_dict))"
   ]
  },
  {
   "cell_type": "code",
   "execution_count": 15,
   "metadata": {},
   "outputs": [
    {
     "name": "stdout",
     "output_type": "stream",
     "text": [
      "Value:     5\n",
      "Gradient:  {'y': 0, 'x': 0}\n"
     ]
    }
   ],
   "source": [
    "c = Constant('c', 5)\n",
    "print('Value:    ', c.get_val(val_dict))\n",
    "print('Gradient: ', c.get_der(val_dict,  ['x', 'y']))"
   ]
  },
  {
   "cell_type": "code",
   "execution_count": 27,
   "metadata": {},
   "outputs": [
    {
     "name": "stdout",
     "output_type": "stream",
     "text": [
      "Value:     35\n",
      "Gradient:  {'y': 1, 'x': 1}\n"
     ]
    }
   ],
   "source": [
    "f2 = x + y + c\n",
    "print('Value:    ', f2.get_val(val_dict))\n",
    "print('Gradient: ', f2.get_der(val_dict))"
   ]
  },
  {
   "cell_type": "markdown",
   "metadata": {},
   "source": [
    "Other math operators and exponentiation:"
   ]
  },
  {
   "cell_type": "code",
   "execution_count": 35,
   "metadata": {},
   "outputs": [],
   "source": [
    "val_dict1 = {'x' : 2, 'y' : 0}\n",
    "val_dict2 = {'x': 3, 'y': math.pi/3, 'z' : 10}\n",
    "val_dict3 = {'x' : math.pi/2, 'y' : math.pi/4, 'z' : 2}"
   ]
  },
  {
   "cell_type": "code",
   "execution_count": 31,
   "metadata": {},
   "outputs": [
    {
     "name": "stdout",
     "output_type": "stream",
     "text": [
      "Value:     -0.6931471805599453\n",
      "Gradient:  {'x': -0.5}\n"
     ]
    }
   ],
   "source": [
    "f3 = -mo.log(x)\n",
    "print('Value:    ', f3.get_val(val_dict1))\n",
    "print('Gradient: ', f3.get_der(val_dict1))"
   ]
  },
  {
   "cell_type": "code",
   "execution_count": 33,
   "metadata": {},
   "outputs": [
    {
     "name": "stdout",
     "output_type": "stream",
     "text": [
      "Value:     81\n",
      "Gradient:  {'x': 108.0}\n"
     ]
    }
   ],
   "source": [
    "c2 = Constant('c2', 4)\n",
    "f4 = x**c2\n",
    "print('Value:    ', f4.get_val(val_dict2))\n",
    "print('Gradient: ', f4.get_der(val_dict2))"
   ]
  },
  {
   "cell_type": "code",
   "execution_count": 36,
   "metadata": {},
   "outputs": [
    {
     "name": "stdout",
     "output_type": "stream",
     "text": [
      "Value:     0.7071067811865476\n",
      "Gradient:  {'y': -0.7071067811865475, 'x': -0.7071067811865475}\n"
     ]
    }
   ],
   "source": [
    "f5 = mo.sin(x + y)\n",
    "print('Value:    ', f5.get_val(val_dict3))\n",
    "print('Gradient: ', f5.get_der(val_dict3))"
   ]
  },
  {
   "cell_type": "markdown",
   "metadata": {},
   "source": [
    "### Newton Raphson Demo\n",
    "We find one of the roots of the following function using our AutoDiff package:\n",
    "$$\n",
    "f(x) = 5^{\\left(1 + sin\\left(log\\left(5 + x^2\\right)\\right)\\right)} - 10\n",
    "$$"
   ]
  },
  {
   "cell_type": "code",
   "execution_count": 5,
   "metadata": {},
   "outputs": [
    {
     "data": {
      "image/png": "[encoded data removed]",
      "text/plain": [
       "<Figure size 648x432 with 1 Axes>"
      ]
     },
     "metadata": {
      "needs_background": "light"
     },
     "output_type": "display_data"
    }
   ],
   "source": [
    "x = Variable('x')\n",
    "c1 = Constant('c1', 1)\n",
    "c2 = Constant('c2', 2)\n",
    "c3 = Constant('c3', 5)\n",
    "c4 = Constant('c4', 10)\n",
    "f = c3**(c1 + mo.sin(mo.log(c3 + x**c2))) - c4\n",
    "tolerance = 0.001\n",
    "guess = 20\n",
    "max_iter = 10000\n",
    "val_dict = {'x' : guess}\n",
    "evals = []\n",
    "fx = f.get_val(val_dict)\n",
    "for i in range(max_iter):\n",
    "    evals += [fx]\n",
    "    dx = f.get_der(val_dict)['x']\n",
    "    val_dict['x'] = val_dict['x'] - fx/dx\n",
    "    new_fx = f.get_val(val_dict)\n",
    "    if abs(new_fx - fx) < tolerance: fx = new_fx; break\n",
    "    fx = new_fx\n",
    "    \n",
    "x_vals = np.linspace(-100,100,100)\n",
    "y_vals = 5**(1+ np.sin(np.log(5 + x_vals**2))) - 10\n",
    "fig = plt.gcf()\n",
    "fig.set_size_inches(9,6)\n",
    "_ = plt.plot(x_vals, y_vals)\n",
    "_ = plt.axhline(0, color='k', ls='--', lw=1.25)\n",
    "_ = plt.ylabel('f(x)', fontsize=12)\n",
    "_ = plt.xlabel('x', fontsize=12)\n",
    "_ = plt.scatter([val_dict['x']], [fx], color='r', marker='o', s=80)\n",
    "_ = plt.annotate('Root found by AutoDiff', (val_dict['x']+5, fx+1))"
   ]
  },
  {
   "cell_type": "markdown",
   "metadata": {},
   "source": [
    "### Root Finder Demo\n",
    "Finds a root of an input function with AutoDiff's root_finder module"
   ]
  },
  {
   "cell_type": "code",
   "execution_count": null,
   "metadata": {},
   "outputs": [],
   "source": []
  },
  {
   "cell_type": "markdown",
   "metadata": {},
   "source": [
    "### Neural Network Demo\n",
    "Trains a neural network to find a fit for a set of inputs and corresponding outputs"
   ]
  },
  {
   "cell_type": "code",
   "execution_count": 42,
   "metadata": {},
   "outputs": [],
   "source": [
    "input_dim = 1\n",
    "hidden_dim = 12\n",
    "out_dim = 1\n",
    "lr = 0.03\n",
    "nn = NeuralNet(input_dim, hidden_dim, out_dim, lr)\n",
    "\n",
    "X_data = np.random.randn(3000, input_dim)\n",
    "y_data = np.sin(np.multiply(X_data, X_data))\n",
    "num_train = 2700\n",
    "X_train, y_train = X_data[0:num_train,:], y_data[0:num_train]\n",
    "X_test, y_test = X_data[num_train:,:], y_data[num_train:]"
   ]
  },
  {
   "cell_type": "code",
   "execution_count": null,
   "metadata": {},
   "outputs": [
    {
     "name": "stdout",
     "output_type": "stream",
     "text": [
      "Loss after epoch 1 is: 437.3997\n",
      "Loss after epoch 2 is: 283.6424\n",
      "Loss after epoch 3 is: 233.9360\n",
      "Loss after epoch 4 is: 215.8767\n",
      "Loss after epoch 5 is: 205.9851\n",
      "Loss after epoch 6 is: 198.4853\n",
      "Loss after epoch 7 is: 192.0134\n",
      "Loss after epoch 8 is: 185.9574\n",
      "Loss after epoch 9 is: 180.1476\n",
      "Loss after epoch 10 is: 174.8731\n",
      "Loss after epoch 11 is: 170.7053\n",
      "Loss after epoch 12 is: 168.1047\n",
      "Loss after epoch 13 is: 165.8508\n",
      "Loss after epoch 14 is: 160.4183\n",
      "Loss after epoch 15 is: 150.8010\n",
      "Loss after epoch 16 is: 140.0492\n",
      "Loss after epoch 17 is: 130.8035\n",
      "Loss after epoch 18 is: 123.6714\n",
      "Loss after epoch 19 is: 118.2950\n",
      "Loss after epoch 20 is: 114.2022\n",
      "Loss after epoch 21 is: 111.0263\n",
      "Loss after epoch 22 is: 108.5076\n",
      "Loss after epoch 23 is: 106.4648\n",
      "Loss after epoch 24 is: 104.7779\n",
      "Loss after epoch 25 is: 103.3884\n",
      "Loss after epoch 26 is: 102.3034\n",
      "Loss after epoch 27 is: 101.5802\n",
      "Loss after epoch 28 is: 101.2912\n",
      "Loss after epoch 29 is: 101.4759\n",
      "Loss after epoch 30 is: 102.0646\n",
      "Loss after epoch 31 is: 102.7790\n",
      "Loss after epoch 32 is: 103.1190\n",
      "Loss after epoch 33 is: 102.6280\n",
      "Loss after epoch 34 is: 101.2823\n",
      "Loss after epoch 35 is: 99.4556\n",
      "Loss after epoch 36 is: 97.6067\n",
      "Loss after epoch 37 is: 97.0864\n",
      "Loss after epoch 38 is: 139.6147\n",
      "Loss after epoch 39 is: 368.8822\n",
      "Loss after epoch 40 is: 216.1983\n",
      "Loss after epoch 41 is: 116.9439\n",
      "Loss after epoch 42 is: 102.7294\n",
      "Loss after epoch 43 is: 96.1477\n",
      "Loss after epoch 44 is: 91.8395\n",
      "Loss after epoch 45 is: 88.5779\n",
      "Loss after epoch 46 is: 85.6841\n",
      "Loss after epoch 47 is: 82.9829\n",
      "Loss after epoch 48 is: 80.8813\n",
      "Loss after epoch 49 is: 83.2610\n",
      "Loss after epoch 50 is: 82.8006\n",
      "Loss after epoch 51 is: 78.4141\n",
      "Loss after epoch 52 is: 75.6918\n",
      "Loss after epoch 53 is: 73.2498\n"
     ]
    }
   ],
   "source": [
    "num_epochs = 60\n",
    "tol = 1e-4\n",
    "prev_loss = 1e6\n",
    "for epoch in range(num_epochs):\n",
    "    running_loss = 0\n",
    "    for i in range(X_train.shape[0]):\n",
    "        loss, _ = nn.forward(X_train[i,:], y_train[i])\n",
    "        running_loss += loss[0]\n",
    "        nn.backward()\n",
    "    print('Loss after epoch {} is: {:.4f}'.format(epoch + 1, running_loss))\n",
    "    if abs(running_loss - prev_loss) < tol:\n",
    "        print('Training converged, stopping early.')\n",
    "        break\n",
    "    prev_loss = running_loss"
   ]
  },
  {
   "cell_type": "code",
   "execution_count": 41,
   "metadata": {},
   "outputs": [
    {
     "data": {
      "image/png": "[encoded data removed]",
      "text/plain": [
       "<Figure size 648x432 with 1 Axes>"
      ]
     },
     "metadata": {
      "needs_background": "light"
     },
     "output_type": "display_data"
    }
   ],
   "source": [
    "# Test on the test set and plot against train set\n",
    "y_pred = [0.0]*len(y_test)\n",
    "for i in range(len(y_test)):\n",
    "    _, pred = nn.forward(X_test[i,:], y_test[i])\n",
    "    y_pred[i] = list(pred)[0]\n",
    "    \n",
    "fig = plt.gcf()\n",
    "fig.set_size_inches(9, 6)\n",
    "_ = plt.scatter(X_test[:,0], y_test, marker='o', s=10, label=r'Ground Truth ($f(x) = sin(x^2)$)')\n",
    "_ = plt.scatter(X_test[:,0], y_pred, marker='v', s=10, label='Prediction (on Test Set)')\n",
    "_ = plt.xlabel('X', fontsize=14)\n",
    "_ = plt.ylabel('y', fontsize=14)\n",
    "_ = plt.legend(loc='best', fontsize=14)\n",
    "_ = plt.title('Ground Truth vs Predictions (after {} epochs)'.format(num_epochs), fontsize=14)\n",
    "fig.savefig('neural_net.png')"
   ]
  },
  {
   "cell_type": "markdown",
   "metadata": {},
   "source": [
    "# Background\n",
    "Automatic differentiation (AD) allows us to calculate the derivative to machine precision while avoiding symbolic differentiation's shortcomings. Our package implements on version of AD, the forward mode, by using an extension of the real numbers called the \"dual numbers.\" The forward mode of AD finds the derivative of all intermediate variables with respect to our independent variable and combines them into a final derivative using the chain rule.\n",
    "\n",
    "AD can also be used in \"reverse mode,\" which we will not discuss in detail her, but this method shares many of the same characteristics as forward mode. However, the reverse mode computes derivatives of the dependent variable with respect to the intermediate variables. \n",
    "\n",
    "#### Dual Numbers\n",
    "To carry out the forward mode AD we utilize dual numbers. Dual numbers are defined as numbers of the form $x + x'\\epsilon$, where $\\epsilon^2=0$ and $x \\in \\mathbb{R}^n$. We use operator overloading to redefine elementary operations to suit our problem. To see why this is useful, let's examine how dual numbers behave under different mathematical operations:\n",
    "\n",
    "Addition: $(x+x'\\epsilon) + (y + y'\\epsilon) = x+y + (x'+y')\\epsilon$\n",
    "\n",
    "Subtraction: $(x+x'\\epsilon) - (y + y'\\epsilon) = x-y + (x'-y')\\epsilon$\n",
    "\n",
    "So far, this is as we might expect.\n",
    "\n",
    "Multiplication: $(x+x'\\epsilon) \\times (y + y'\\epsilon) = xy + y(x')\\epsilon+ x(y')\\epsilon$\n",
    "\n",
    "Our definition of $\\epsilon$ allows the multiplication of dual numbers to behave like the product rule.\n",
    "\n",
    "Division: $\\frac{(x+x'\\epsilon)}{(y + y'\\epsilon)} = \\frac{(x+x'\\epsilon)(y - y'\\epsilon)}{(y + y'\\epsilon)(y - y'\\epsilon)} = \\frac{xy+xy'\\epsilon-yx'\\epsilon}{y^2} = \\frac{x}{y}+\\epsilon \\frac{xy'-yx'}{y^2}$\n",
    "\n",
    "Division also follows rules for derivatives.\n",
    "\n",
    "Finally, observe how functions of dual numbers behave:\n",
    "\n",
    "$f(x+x'\\epsilon) = f(x)+\\epsilon f'(x)x'$\n",
    "\n",
    "Which implies the following:\n",
    "\n",
    "$g(f(x+x'\\epsilon)) = g(f(x)+\\epsilon f'(x)x') = g(f(x))+\\epsilon g'(f(x))f'(x)x'$\n",
    "\n",
    "The above example illustrates how dual numbers can be used to simultaneously calculate the value of a function at a point, $g(f(x))$, and the derivative, $g'(f(x))f'(x)x'$.\n",
    "\n",
    "#### Tracing the computational graph\n",
    "By keeping track of the intermediate values of the derivative we can calculate the derivative of composition of many elementary functions. We can picture this decomposition as a graph or table. For example, consider the following function$^{1}$: $$f\\left(x, y, z\\right) = \\dfrac{1}{xyz} + \\sin\\left(\\dfrac{1}{x} + \\dfrac{1}{y} + \\dfrac{1}{z}\\right).$$\n",
    "\n",
    "If we want to evaluate $f$ at $\\left(1, 2, 3\\right)$, we can construct the following table which keeps track for the elementary function, current value, and the elementary function derivative (evaluated with respect to all our variables).\n",
    "\n",
    "| Trace | Elementary Function | Current Value | Elementary Function Derivative | $\\nabla_{x}$ Value  | $\\nabla_{y}$ Value  | $\\nabla_{z}$ Value  |\n",
    "| :---: | :-----------------: | :-----------: | :----------------------------: | :-----------------: | :-----------------: | :-----------------: |\n",
    "| $x_{1}$ | $x_{1}$ | $1$ | $\\dot{x}_1$ | $1$ | $0$ | $0$ | \n",
    "| $x_{2}$ | $x_{2}$ | $2$ | $\\dot{x}_2$ | $0$ | $1$ | $0$ | \n",
    "| $x_{3}$ | $x_{3}$ | $3$ | $\\dot{x}_3$ | $0$ | $0$ | $1$ | \n",
    "| $x_{4}$ | $1/x_{1}$ | $1$ | $-\\dot{x}_{1}/x_{1}^{2}$ | $-1$ | $0$ | $0$ | \n",
    "| $x_{5}$ | $1/x_{2}$ | $\\frac{1}{2}$ | $-\\dot{x}_{2}/x_{2}^{2}$ | $0$ | $-\\frac{1}{4}$ | $0$ | \n",
    "| $x_{6}$ | $1/x_{3}$ | $\\frac{1}{3}$ | $-\\dot{x}_{3}/x_{3}^{2}$ | $0$ | $0$ | $-\\frac{1}{9}$ | \n",
    "| $x_{7}$ | $x_4 x_5 x_6$ | $\\frac{1}{6}$ | $x_4(x_5\\dot{x}_6 + x_6\\dot{x}_5) + x_5x_6\\dot{x}_4$ | $-\\frac{1}{6}$ | $-\\frac{1}{12}$ | $-\\frac{1}{18}$ | \n",
    "| $x_{8}$ | $x_4 + x_5 + x_6$ | $\\frac{11}{6}$ | $\\dot{x}_4 + \\dot{x}_5 + \\dot{x}_6$ | $-1$ | $-\\frac{1}{4}$ | $-\\frac{1}{9}$ | \n",
    "| $x_{9}$ | $sin(x_8)$ | $sin(\\frac{11}{6})$ | $cos(x_8)\\dot{x}_8$ | $-cos(\\frac{11}{6})$ | $-\\frac{1}{4}cos(\\frac{11}{6})$ | $-\\frac{1}{9}cos(\\frac{11}{6})$ | \n",
    "| $x_{10}$ | $x_7 + x_9$ | $sin(\\frac{11}{6})+\\frac{1}{6}$ | $\\dot{x}_7 + \\dot{x}_9$ | $-cos(\\frac{11}{6})-\\frac{1}{6}$ | $-\\frac{1}{4}cos(\\frac{11}{6})-\\frac{1}{12}$ | $-\\frac{1}{9}cos(\\frac{11}{6})-\\frac{1}{18}$ | \n",
    "\n",
    "As this example shows, we can use AD for both scalar and vector functions. AD can also be used for vector valued functions. The follow sections will make the implementation of these varients clear.\n",
    "\n",
    "$^1$Example from Harvard CS207 Homework 4"
   ]
  },
  {
   "cell_type": "markdown",
   "metadata": {},
   "source": [
    "# Software Organization"
   ]
  },
  {
   "cell_type": "markdown",
   "metadata": {},
   "source": [
    "## Directory Structure"
   ]
  },
  {
   "cell_type": "code",
   "execution_count": null,
   "metadata": {},
   "outputs": [],
   "source": [
    "```\n",
    "AutoDiff/\n",
    "    AutoDiff/\n",
    "        __init__.py\n",
    "        nn.py\n",
    "        root_finder.py\n",
    "        tests/\n",
    "            root_finder.py\n",
    "            AutoDiff.py\n",
    "        README.md\n",
    "        AutoDiff_Demo.ipynb\n",
    "        setup.py\n",
    "        LICENSE\n",
    "```"
   ]
  },
  {
   "cell_type": "markdown",
   "metadata": {},
   "source": [
    "## Basic Modules\n",
    "Our init file contains our main classes: DiffObj, Variable, Constant, VectorFunction, and MathOps. This main module supports basic automatic differentiation. Our package contains two other modules: nn to support basic function fitting with neural networks, and root_finder to find roots of input functions."
   ]
  },
  {
   "cell_type": "markdown",
   "metadata": {},
   "source": [
    "## Testing\n",
    "Comprehensive tests can be found in the /tests directory. Testing is automated with both TravisCI and Coveralls. In addition, we have also written DocTest code for each class function and our package passes all doctest by running doctest.testmod()."
   ]
  },
  {
   "cell_type": "markdown",
   "metadata": {},
   "source": [
    "# Implementation Details"
   ]
  },
  {
   "cell_type": "markdown",
   "metadata": {},
   "source": [
    "## Core Data Structures\n",
    "\n",
    "There are two core data structures in our implementation:\n",
    "\n",
    "1. **Lists**: The name_list (a list of strings) representing variable names, that is stored in every Diffobj instance to indicate the variables influencing that instance. Eg. for the DiffObj w, where w represents sin(x)+y, the name_list of Variable x is ['x'], the name_list of Variable y is ['y'] and the name_list of w is ['x','y'].\n",
    "\n",
    "2. **Dictionaries**: The dictionary value_dict, an argument of DiffObj.get_der, containing names and values that indicate the point in space at which we need to compute derivative and evaluate an expression, for example in w.get_val(value_dict). We also use Dictionarie for storing partial derivatives with respect to variables."
   ]
  },
  {
   "cell_type": "markdown",
   "metadata": {},
   "source": [
    "## Core Classes\n",
    "\n",
    "1. Class DiffObj()\n",
    "Any function for which a user wants to evaluate its value and gradient, will be represented by an instance of this class DiffObj, or by instances of classes which inherit from DiffObj (e.g. class Variable, class Constant etc.) A mathematical equivalent of a DiffObj object will be:\n",
    "\n",
    "a constant such as  5.0 , which we have implemented via a Sub-class 'Constant'\n",
    "a variable such as  x , which we have implemented via a Sub-class 'Variable'\n",
    "a mathematical expression such as  x2+sin(y) .\n",
    "DiffObj enforces that each class which inherits from it, must implement two functions: get_der, and get_val.\n",
    "\n",
    "2. Class Variable(DiffObj)\n",
    "This subclass inherits from DiffObj, and is basically used for representing a variable such as x or y.\n",
    "\n",
    "3. Class Constant(DiffObj)\n",
    "This subclass inherits from DiffObj and is used for representing constants, such as 5 in f(x) = 5x.\n",
    "\n",
    "4. Class MathOps()\n",
    "This class inherits from the DiffObj class. It implements non-elementary unary functions\n",
    "including: sin, cos, tan, log, exp.\n",
    "\n",
    "5. Class NeuralNet()\n",
    "This class is used to represent a neural net to produce a function fit based on a given dataset. It takes in an input dimension, output dimension, hidden node dimension, and learning rate. As shown in the demo, the user can select a tolerance and number of epochs to train the neural net for and see loss at every step.\n",
    "\n",
    "6. Class vectorNewton()\n",
    "Used for root finding. vectorNewton is initialized with a function; the user can then call the find_root()"
   ]
  },
  {
   "cell_type": "markdown",
   "metadata": {},
   "source": [
    "## Dependencies"
   ]
  },
  {
   "cell_type": "markdown",
   "metadata": {},
   "source": [
    "## Elementary Functions"
   ]
  }
 ],
 "metadata": {
  "kernelspec": {
   "display_name": "Python 3",
   "language": "python",
   "name": "python3"
  },
  "language_info": {
   "codemirror_mode": {
    "name": "ipython",
    "version": 3
   },
   "file_extension": ".py",
   "mimetype": "text/x-python",
   "name": "python",
   "nbconvert_exporter": "python",
   "pygments_lexer": "ipython3",
   "version": "3.5.2"
  }
 },
 "nbformat": 4,
 "nbformat_minor": 2
}
