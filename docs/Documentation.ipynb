{
 "cells": [
  {
   "cell_type": "markdown",
   "metadata": {},
   "source": [
    "# Introduction\n",
    "\n",
    "Derivatives are used to solve a large variety of modern-day problems. There are three general methods used to calculate derivatives:\n",
    "1. Symbolic differentiation \n",
    "2. Numerical differentiation\n",
    "3. Automatic differentiation \n",
    "\n",
    "Symbolic differentiation can be very useful, but there are some functions that do not have a symbolic derivative. Additionally, symbolic differentiation can be very costly, as it may recalculate the same expressions many times, or the expression for the derivative may grow exponentially. Sometimes we can avoid these issues by numerically differentiating our function. Often this means using finite differences. The method of finite differences calculates derivative at point $x$ by using the following definition:\n",
    "\n",
    "$$f'(x) = \\lim_{h\\to 0} f(x) \\frac{f(x+h)-f(x)}{h}$$ \n",
    "\n",
    "Finite differences can also be very effective in certain situations. However, as with symbolic differentiation, finite differences has its problems. The biggest issue is that to obtain the most accurate estimate of $f'(x)$, we would like to make $h$ as small as possible; in fact, we would like $h$ to be infinitely small. However, we cannot *actually* make $h$ zero, and thus we must compromise and choose some small-but-not-zero value for $h$, which brings us to our second problem: we cannot precisely represent all numbers. Our machines only have a certain level of precision. When we compute our derivatives numerically we introduce error by approximating values to their closest machine equivalent. To avoid these issues, we turn to our third approach: automatic differentiation. Automatic differentiation computes derivatives by repeatedly applying the chain rule to recursively compute derivatives of elementary arithmetic operations and functions."
   ]
  },
  {
   "cell_type": "markdown",
   "metadata": {},
   "source": [
    "For our package extension, we chose to implement root finding and a basic function fitting neural network class. Our neural network class is mostly fixed, but allows the dimensions of the input and number of hidden nodes to be changed. Root finding is used in many contexts for optimization, and function fitting is useful for making predictions based on a given set of data."
   ]
  },
  {
   "cell_type": "markdown",
   "metadata": {},
   "source": [
    "# How to use the package"
   ]
  },
  {
   "cell_type": "markdown",
   "metadata": {},
   "source": [
    "## Installation\n",
    "\n",
    "Please follow these two steps in sequence to install:\n",
    "\n",
    "1. Clone https://github.com/autodiff-cs207/AutoDiff.git\n",
    "2. After cloning, please run:\n",
    "\n",
    "   `python setup.py install`\n",
    "   \n",
    "Alternatively, to install from PyPI:\n",
    "1. `pip install AutoDiff_207_15`"
   ]
  },
  {
   "cell_type": "markdown",
   "metadata": {},
   "source": [
    "## Demos"
   ]
  },
  {
   "cell_type": "markdown",
   "metadata": {},
   "source": [
    "Note that the demos can only be run locally after installing the AutoDiff package.\n",
    "\n",
    "Import the package:"
   ]
  },
  {
   "cell_type": "code",
   "execution_count": 3,
   "metadata": {},
   "outputs": [],
   "source": [
    "from AutoDiff import DiffObj, Variable, VectorFunction\n",
    "from AutoDiff import MathOps as mo\n",
    "from AutoDiff.nn import NeuralNet\n",
    "# from AutoDiff.root_finder import ThreadWithReturnValue, vectorNewton, pretty_print_results\n",
    "from AutoDiff.root_finder import ThreadWithReturnValue, vectorNewton\n",
    "import numpy as np\n",
    "import matplotlib.pyplot as plt\n",
    "import math"
   ]
  },
  {
   "cell_type": "markdown",
   "metadata": {},
   "source": [
    "### Basic Demo"
   ]
  },
  {
   "cell_type": "markdown",
   "metadata": {},
   "source": [
    "Some elementary math operators:"
   ]
  },
  {
   "cell_type": "code",
   "execution_count": 2,
   "metadata": {},
   "outputs": [],
   "source": [
    "val_dict = {'x' : 10, 'y' : 20, 'z' : 1}\n",
    "x = Variable('x')\n",
    "y = Variable('y')"
   ]
  },
  {
   "cell_type": "code",
   "execution_count": 3,
   "metadata": {},
   "outputs": [
    {
     "name": "stdout",
     "output_type": "stream",
     "text": [
      "Value:     30\n",
      "Gradient:  {'y': 1, 'x': 1}\n"
     ]
    }
   ],
   "source": [
    "f0 = x + y\n",
    "print('Value:    ', f0.get_val(val_dict))\n",
    "print('Gradient: ', f0.get_der(val_dict))"
   ]
  },
  {
   "cell_type": "code",
   "execution_count": 4,
   "metadata": {},
   "outputs": [
    {
     "name": "stdout",
     "output_type": "stream",
     "text": [
      "Value:     0.5\n",
      "Gradient:  {'y': -0.025, 'x': 0.05}\n"
     ]
    }
   ],
   "source": [
    "f1 = x/y\n",
    "print('Value:    ', f1.get_val(val_dict))\n",
    "print('Gradient: ', f1.get_der(val_dict))"
   ]
  },
  {
   "cell_type": "code",
   "execution_count": 5,
   "metadata": {},
   "outputs": [
    {
     "name": "stdout",
     "output_type": "stream",
     "text": [
      "Value:     31\n",
      "Gradient:  {'y': 1, 'x': 1}\n"
     ]
    }
   ],
   "source": [
    "f2 = x + y + 1\n",
    "print('Value:    ', f2.get_val(val_dict))\n",
    "print('Gradient: ', f2.get_der(val_dict))"
   ]
  },
  {
   "cell_type": "markdown",
   "metadata": {},
   "source": [
    "Other math operators and exponentiation:"
   ]
  },
  {
   "cell_type": "code",
   "execution_count": 6,
   "metadata": {},
   "outputs": [],
   "source": [
    "val_dict1 = {'x' : 2, 'y' : 0}\n",
    "val_dict2 = {'x': 3, 'y': math.pi/3, 'z' : 10}\n",
    "val_dict3 = {'x' : math.pi/2, 'y' : math.pi/4, 'z' : 2}"
   ]
  },
  {
   "cell_type": "code",
   "execution_count": 7,
   "metadata": {},
   "outputs": [
    {
     "name": "stdout",
     "output_type": "stream",
     "text": [
      "Value:     -0.6931471805599453\n",
      "Gradient:  {'x': -0.5}\n"
     ]
    }
   ],
   "source": [
    "f3 = -mo.log(x)\n",
    "print('Value:    ', f3.get_val(val_dict1))\n",
    "print('Gradient: ', f3.get_der(val_dict1))"
   ]
  },
  {
   "cell_type": "code",
   "execution_count": 8,
   "metadata": {},
   "outputs": [
    {
     "name": "stdout",
     "output_type": "stream",
     "text": [
      "Value:     81\n",
      "Gradient:  {'x': 108.0}\n"
     ]
    }
   ],
   "source": [
    "f4 = x**4\n",
    "print('Value:    ', f4.get_val(val_dict2))\n",
    "print('Gradient: ', f4.get_der(val_dict2))"
   ]
  },
  {
   "cell_type": "code",
   "execution_count": 9,
   "metadata": {},
   "outputs": [
    {
     "name": "stdout",
     "output_type": "stream",
     "text": [
      "Value:     0.7071067811865476\n",
      "Gradient:  {'y': -0.7071067811865475, 'x': -0.7071067811865475}\n"
     ]
    }
   ],
   "source": [
    "f5 = mo.sin(x + y)\n",
    "print('Value:    ', f5.get_val(val_dict3))\n",
    "print('Gradient: ', f5.get_der(val_dict3))"
   ]
  },
  {
   "cell_type": "markdown",
   "metadata": {},
   "source": [
    "### Root Finder Demo\n",
    "Note that because start points are randomized, the root finder is not deterministic; try running the second of the two root finding demos multiple times to see varied output.\n",
    "Finds a root of input function f(x) = 5x + 3 with AutoDiff's root_finder module."
   ]
  },
  {
   "cell_type": "code",
   "execution_count": 10,
   "metadata": {},
   "outputs": [
    {
     "name": "stdout",
     "output_type": "stream",
     "text": [
      "RootFinder found a total of 1 roots for the function\n",
      "\n",
      "Found root: {'x': -1.0}\n",
      "Function value at root: [0.0]\n",
      "Number of iterations needed to find the root: 2\n",
      "List of error values:[469, 0.0]\n",
      "\n"
     ]
    },
    {
     "data": {
      "image/png": "[encoded data removed]",
      "text/plain": [
       "<Figure size 432x288 with 1 Axes>"
      ]
     },
     "metadata": {
      "needs_background": "light"
     },
     "output_type": "display_data"
    },
    {
     "data": {
      "image/png": "[encoded data removed]",
      "text/plain": [
       "<Figure size 432x288 with 1 Axes>"
      ]
     },
     "metadata": {
      "needs_background": "light"
     },
     "output_type": "display_data"
    },
    {
     "name": "stdout",
     "output_type": "stream",
     "text": [
      "Evaluation of our function at root number 0: 0.0\n"
     ]
    }
   ],
   "source": [
    "import random\n",
    "from scipy.interpolate import interp1d\n",
    "\n",
    "random.seed(13)\n",
    "\n",
    "# Demo a very basic test \n",
    "x = Variable('x')\n",
    "y = Variable('y')\n",
    "\n",
    "test_f0 =  x+1\n",
    "\n",
    "results_t0= vectorNewton(test_f0, num_starting_vals=10, verbose=True)\n",
    "results_t0\n",
    "pretty_print_results(results_t0)\n",
    "\n",
    "roots = [result[0]['x'] for result in results_t0]\n",
    "val_at_root = [result[1] for result in results_t0]\n",
    "\n",
    "plt.title(\"Function and roots from rootfinder\")\n",
    "x_plt = np.arange(min(roots)-5, max(roots)+5,1)\n",
    "y_plt= x_plt+1\n",
    "x_new = np.linspace(min(x_plt), max(x_plt),500)\n",
    "f = interp1d(x_plt, y_plt)\n",
    "y_smooth=f(x_new)\n",
    "plt.plot (x_new,y_smooth) \n",
    "plt.axhline(y=0,color='r')\n",
    "plt.plot(roots, val_at_root, marker='o', markersize=10, color=\"black\")\n",
    "plt.legend([\"Function\",\"Line at zero\",\"root\"])\n",
    "#plt.scatter(x_plt,y_plt)\n",
    "plt.show()\n",
    "\n",
    "for i, root in enumerate(roots):\n",
    "    r = test_f0.get_val({'x':root})\n",
    "    print(\"Evaluation of our function at root number {}: {}\".format(i,r))"
   ]
  },
  {
   "cell_type": "code",
   "execution_count": 11,
   "metadata": {},
   "outputs": [
    {
     "name": "stdout",
     "output_type": "stream",
     "text": [
      "RootFinder found a total of 8 roots for the function\n",
      "\n",
      "Found root: {'x': -2.6179938779914944}\n",
      "Function value at root: [5.551115123125783e-17]\n",
      "Number of iterations needed to find the root: 4\n",
      "List of error values:[0.35887999194013276, 0.016980024232598923, 9.188335746213028e-05, 2.8134944374258453e-09]\n",
      "\n",
      "Found root: {'x': -6.806784082763037}\n",
      "Function value at root: [1.2859158182720876e-11]\n",
      "Number of iterations needed to find the root: 3\n",
      "List of error values:[0.7794154981989259, 0.004291970696631786, 6.211160336111465e-06]\n",
      "\n",
      "Found root: {'x': 9.948376736367667}\n",
      "Function value at root: [1.0047518372857667e-14]\n",
      "Number of iterations needed to find the root: 3\n",
      "List of error values:[0.044021110889369885, 0.0007283398926479223, 1.764833407746913e-07]\n",
      "\n",
      "Found root: {'x': -8.901179185171083}\n",
      "Function value at root: [1.7763568394002505e-15]\n",
      "Number of iterations needed to find the root: 6\n",
      "List of error values:[1.4589242746631386, 1.1581787472654437, 0.23112634926503084, 0.03715963723278376, 0.00041749445918193295, 5.8035904415554285e-08]\n",
      "\n",
      "Found root: {'x': -15.18436449237878}\n",
      "Function value at root: [2.434619172930752e-11]\n",
      "Number of iterations needed to find the root: 5\n",
      "List of error values:[0.4893582466233818, 1.4331523348227355, 0.14964237013868353, 0.005097965173416652, 8.546376839779768e-06]\n",
      "\n",
      "Found root: {'x': 5.759586531581289}\n",
      "Function value at root: [1.1102230246251565e-15]\n",
      "Number of iterations needed to find the root: 5\n",
      "List of error values:[1.156986598718789, 0.2296768458155356, 0.03648115643828548, 0.00040309543093336453, 5.410379794179576e-08]\n",
      "\n",
      "Found root: {'x': -0.5235987755798704}\n",
      "Function value at root: [1.5959511490137857e-11]\n",
      "Number of iterations needed to find the root: 4\n",
      "List of error values:[0.3414709848078965, 0.14024981951210885, 0.004584019925876759, 6.919487377243794e-06]\n",
      "\n",
      "Found root: {'x': 3.6651914291880923}\n",
      "Function value at root: [-1.1102230246251565e-16]\n",
      "Number of iterations needed to find the root: 4\n",
      "List of error values:[0.6411200080598672, 0.01531043518095837, 7.503122749219493e-05, 1.8761860953731002e-09]\n",
      "\n"
     ]
    },
    {
     "data": {
      "image/png": "[encoded data removed]",
      "text/plain": [
       "<Figure size 432x288 with 1 Axes>"
      ]
     },
     "metadata": {
      "needs_background": "light"
     },
     "output_type": "display_data"
    },
    {
     "data": {
      "image/png": "[encoded data removed]",
      "text/plain": [
       "<Figure size 432x288 with 1 Axes>"
      ]
     },
     "metadata": {
      "needs_background": "light"
     },
     "output_type": "display_data"
    },
    {
     "name": "stdout",
     "output_type": "stream",
     "text": [
      "Evaluation of our function at root number 0: 5.551115123125783e-17\n",
      "Evaluation of our function at root number 1: 1.2859158182720876e-11\n",
      "Evaluation of our function at root number 2: 1.0047518372857667e-14\n",
      "Evaluation of our function at root number 3: 1.7763568394002505e-15\n",
      "Evaluation of our function at root number 4: 2.434619172930752e-11\n",
      "Evaluation of our function at root number 5: 1.1102230246251565e-15\n",
      "Evaluation of our function at root number 6: 1.5959511490137857e-11\n",
      "Evaluation of our function at root number 7: -1.1102230246251565e-16\n"
     ]
    }
   ],
   "source": [
    "# Demo a function with many roots \n",
    "x = Variable('x')\n",
    "test_f2 = mo.sin(x)+0.5\n",
    "results_t2= vectorNewton(test_f2, num_starting_vals=20, starting_val_range = (-10,10), verbose=True)\n",
    "pretty_print_results(results_t2)\n",
    "\n",
    "roots = [result[0]['x'] for result in results_t2]\n",
    "val_at_root = [result[1] for result in results_t2]\n",
    "\n",
    "plt.title(\"Function and roots from rootfinder\")\n",
    "x_plt = np.arange(min(roots)-5, max(roots)+5,1)\n",
    "y_plt= np.sin(x_plt)+0.5\n",
    "x_new = np.linspace(min(x_plt), max(x_plt),500)\n",
    "f = interp1d(x_plt, y_plt, kind='quadratic')\n",
    "y_smooth=f(x_new)\n",
    "plt.plot (x_new,y_smooth) \n",
    "plt.axhline(y=0,color='r')\n",
    "plt.scatter(roots, val_at_root, marker='o', s=30, color=\"black\")\n",
    "plt.legend([\"Function\",\"Line at zero\",\"roots\"])\n",
    "plt.show()\n",
    "\n",
    "for i, root in enumerate(roots):\n",
    "    r = test_f2.get_val({'x':root})\n",
    "    print(\"Evaluation of our function at root number {}: {}\".format(i,r))"
   ]
  },
  {
   "cell_type": "code",
   "execution_count": 13,
   "metadata": {},
   "outputs": [
    {
     "name": "stdout",
     "output_type": "stream",
     "text": [
      "RootFinder found a total of 2 roots for the function\n",
      "\n",
      "Found root: {'y': 1.9809373421798498e-17, 'x': -1.9809373421798498e-17}\n",
      "Function value at root: [1.9809373421798498e-17, 0.0]\n",
      "Number of iterations needed to find the root: 12\n",
      "List of error values:[12180, 2835.437501377594, 708.7968808545256, 177.13674225025616, 44.221773646937216, 10.993294758188886, 2.6872134067374263, 0.6146230196268218, 0.10922721454323465, 0.008302951386940304, 6.672301009699169e-05, 4.450772200752827e-09]\n",
      "\n",
      "Found root: {'y': -1.0, 'x': 1.0}\n",
      "Function value at root: [0.0, 0.0]\n",
      "Number of iterations needed to find the root: 15\n",
      "List of error values:[635662, 158204.9375000247, 39551.17187510495, 9887.730469171296, 2471.8701188730256, 617.905036038742, 154.41378428651586, 38.541047097218595, 9.573164573434067, 2.3323817712954913, 0.5266460586443844, 0.08928007423670614, 0.005873415697668527, 3.3705154425245354e-05, 1.1358842755271326e-09]\n",
      "\n"
     ]
    },
    {
     "data": {
      "image/png": "[encoded data removed]",
      "text/plain": [
       "<Figure size 432x288 with 1 Axes>"
      ]
     },
     "metadata": {
      "needs_background": "light"
     },
     "output_type": "display_data"
    },
    {
     "name": "stdout",
     "output_type": "stream",
     "text": [
      "Evaluation of our function at root number 0: [1.9809373421798498e-17, 0.0]\n",
      "Evaluation of our function at root number 1: [0.0, 0.0]\n"
     ]
    }
   ],
   "source": [
    "# Demo a vector valued function\n",
    "x = Variable('x')\n",
    "y = Variable('y')\n",
    "\n",
    "test_f3 = VectorFunction([x**2+y, y+x])\n",
    "results_t3= vectorNewton(test_f3, num_starting_vals=10, verbose=True)\n",
    "pretty_print_results(results_t3)\n",
    "\n",
    "roots = [result[0] for result in results_t3]\n",
    "val_at_root = [result[1] for result in results_t3]\n",
    "\n",
    "for i, root in enumerate(roots):\n",
    "    r = test_f3.get_val(root)\n",
    "    print(\"Evaluation of our function at root number {}: {}\".format(i,r))"
   ]
  },
  {
   "cell_type": "code",
   "execution_count": 14,
   "metadata": {},
   "outputs": [
    {
     "name": "stdout",
     "output_type": "stream",
     "text": [
      "RootFinder found a total of 3 roots for the function\n",
      "\n",
      "Found root: {'x3': 0.1449316569875842, 'x1': 1.0989425786269242, 'x2': 0.3676166798271156}\n",
      "Function value at root: [1.648730041381441e-10, -1.2653877945467684e-11, -6.0827121117768e-11]\n",
      "Number of iterations needed to find the root: 34\n",
      "List of error values:[43494661, 2728279788.224541, 735630032.3675457, 177772274.92872214, 61636218.371008724, 12862187.103012213, 2553170.7024898403, 28425729.40577887, 8403823.31531859, 2483068.668997096, 726980.7406233466, 212011.65842703314, 61807.58500216453, 18033.93539348761, 5269.325492361575, 1542.7665105325755, 453.01453565206884, 133.5878016829805, 39.99093848474334, 20.66659732221497, 10.126242365528258, 135.65814026096587, 1233.9199003832548, 380.66001207017007, 120.32827050461646, 55.84875464970435, 3.2219971606748556, 0.3760181480770073, 0.09473938099527252, 0.02382287894291868, 0.005271784958037096, 0.0009863639551856984, 9.229885195571885e-05, 1.2419102369265467e-06]\n",
      "\n",
      "Found root: {'x3': 0.14198753928289765, 'x1': 1.160220783956205, 'x2': 0.34105254800437096}\n",
      "Function value at root: [8.289171571362886e-10, -3.9479086666460717e-11, -3.0565372455271245e-10]\n",
      "Number of iterations needed to find the root: 38\n",
      "List of error values:[358048945, 136172531.0751044, 61608880.97024793, 251235686705.6727, 70691221645.25096, 20028944748.44764, 5697073346.199143, 1619567181.290007, 440841126.6910059, 66272055.44850306, 7249427.348158073, 1214.550935507512, 321.46990621125883, 84.49077345412782, 20.99350253012035, 23.809866164173858, 4.7229202811586415, 2046.226388115709, 601.3066905876861, 5480.867368061847, 164413.21404260604, 42422.85282746169, 18197.081637780353, 1028.7331647790993, 306.4398137278719, 90.83992281983785, 28.378621944589113, 156.0288024665873, 31.914655237208386, 9.054473248280049, 2.616232609550561, 0.6837817085850459, 0.15052494499723523, 0.029726321192498795, 0.006075692243906472, 0.0012249952601275926, 0.00013613568817411048, 2.7215718293449598e-06]\n",
      "\n",
      "Found root: {'x3': 0.9999999999998743, 'x1': 1.0000000000005078, 'x2': 0.9999999999999579}\n",
      "Function value at root: [4.1522341120980855e-14, -1.2612133559741778e-13, 8.056888489704761e-13]\n",
      "Number of iterations needed to find the root: 36\n",
      "List of error values:[74050967, 19585800.930572506, 4732849.857195033, 547576.28851974, 10163113.930021618, 43498119.19872614, 5283417333.466318, 1026532241.5063467, 844581084582.1974, 246514386277.20953, 72124340138.86476, 19673835068.673973, 2761360738.879694, 161039353.17371202, 3058351209.3549623, 413830469.7291236, 121502490.26952516, 35985655.311176546, 10638334.844576044, 3128787.624643368, 915034.9514978579, 266200.1492817758, 77097.77338053395, 22243.042865134346, 6392.13688740741, 1828.7478669993534, 520.2294968303671, 146.9055668145453, 41.187848748065605, 11.602349416661708, 3.4914139327386327, 1.345655274708181, 0.7562966548593497, 0.07835043028782473, 0.0019125121728114092, 2.2508000608878476e-06]\n",
      "\n"
     ]
    },
    {
     "data": {
      "image/png": "[encoded data removed]",
      "text/plain": [
       "<Figure size 432x288 with 1 Axes>"
      ]
     },
     "metadata": {
      "needs_background": "light"
     },
     "output_type": "display_data"
    },
    {
     "name": "stdout",
     "output_type": "stream",
     "text": [
      "Evaluation of our function at root number 0: [1.648730041381441e-10, -1.2653877945467684e-11, -6.0827121117768e-11]\n",
      "Evaluation of our function at root number 1: [8.289171571362886e-10, -3.9479086666460717e-11, -3.0565372455271245e-10]\n",
      "Evaluation of our function at root number 2: [4.1522341120980855e-14, -1.2612133559741778e-13, 8.056888489704761e-13]\n"
     ]
    }
   ],
   "source": [
    "# Demo a second vector valued function\n",
    "x1 = Variable('x1')\n",
    "x2 = Variable('x2')\n",
    "x3 = Variable('x3')\n",
    "\n",
    "f1 = x1**2 - 2*x1+x2**2-x3+1\n",
    "f2 = x1*x2**2-x1-3*x2+x2*x3+2\n",
    "f3 = x1*x3**2-3*x3+x2*x3**2+x1*x2\n",
    "\n",
    "test_f4 = VectorFunction([f1,f2,f3])\n",
    "results_t4= vectorNewton(test_f4, num_starting_vals=5, verbose=True)\n",
    "pretty_print_results(results_t4)\n",
    "\n",
    "roots = [result[0] for result in results_t4]\n",
    "val_at_root = [result[1] for result in results_t4]\n",
    "\n",
    "for i, root in enumerate(roots):\n",
    "    r = test_f4.get_val(root)\n",
    "    print(\"Evaluation of our function at root number {}: {}\".format(i,r))"
   ]
  },
  {
   "cell_type": "code",
   "execution_count": 5,
   "metadata": {},
   "outputs": [
    {
     "name": "stdout",
     "output_type": "stream",
     "text": [
      "[3.0000000000000018]\n"
     ]
    }
   ],
   "source": [
    "from AutoDiff.root_finder_multiple import root_finder_multiple \n",
    "\n",
    "x = Variable('x') \n",
    "\n",
    "f_1 = (x-2)*(x-3)\n",
    "f_2 = (-x+2)*(x-3)\n",
    "f_3 = (x-3)\n",
    "roots=root_finder_multiple([f_1,f_2,f_3])\n",
    "print(roots)"
   ]
  },
  {
   "cell_type": "code",
   "execution_count": 6,
   "metadata": {},
   "outputs": [
    {
     "data": {
      "text/plain": [
       "<matplotlib.collections.PathCollection at 0x119719e48>"
      ]
     },
     "execution_count": 6,
     "metadata": {},
     "output_type": "execute_result"
    },
    {
     "data": {
      "image/png": "[encoded data removed]",
      "text/plain": [
       "<matplotlib.figure.Figure at 0x1107f9160>"
      ]
     },
     "metadata": {},
     "output_type": "display_data"
    }
   ],
   "source": [
    "plt.plot(np.linspace(0,4,100),np.zeros(100))\n",
    "plt.plot(np.linspace(0,4,100),[(i-2)*(i-3) for i in np.linspace(0,4,100)])\n",
    "plt.plot(np.linspace(0,4,100),[(-i+2)*(i-3) for i in np.linspace(0,4,100)])\n",
    "plt.plot(np.linspace(0,4,100),[i-3 for i in np.linspace(0,4,100)])\n",
    "plt.scatter([3],[0], s=80)"
   ]
  },
  {
   "cell_type": "markdown",
   "metadata": {},
   "source": [
    "### Neural Network Demo\n",
    "Trains a neural network to find a fit for a set of inputs and corresponding outputs"
   ]
  },
  {
   "cell_type": "code",
   "execution_count": 15,
   "metadata": {},
   "outputs": [],
   "source": [
    "input_dim = 1\n",
    "hidden_dim = 12\n",
    "out_dim = 1\n",
    "lr = 0.03\n",
    "nn = NeuralNet(input_dim, hidden_dim, out_dim, lr)\n",
    "\n",
    "X_data = np.random.randn(3000, input_dim)\n",
    "y_data = np.sin(np.multiply(X_data, X_data))\n",
    "num_train = 2700\n",
    "X_train, y_train = X_data[0:num_train,:], y_data[0:num_train]\n",
    "X_test, y_test = X_data[num_train:,:], y_data[num_train:]"
   ]
  },
  {
   "cell_type": "code",
   "execution_count": null,
   "metadata": {},
   "outputs": [],
   "source": [
    "num_epochs = 60\n",
    "tol = 1e-4\n",
    "prev_loss = 1e6\n",
    "for epoch in range(num_epochs):\n",
    "    running_loss = 0\n",
    "    for i in range(X_train.shape[0]):\n",
    "        loss, _ = nn.forward(X_train[i,:], y_train[i])\n",
    "        running_loss += loss[0]\n",
    "        nn.backward()\n",
    "    print('Loss after epoch {} is: {:.4f}'.format(epoch + 1, running_loss))\n",
    "    if abs(running_loss - prev_loss) < tol:\n",
    "        print('Training converged, stopping early.')\n",
    "        break\n",
    "    prev_loss = running_loss"
   ]
  },
  {
   "cell_type": "code",
   "execution_count": null,
   "metadata": {},
   "outputs": [],
   "source": [
    "# Test on the test set and plot against train set\n",
    "y_pred = [0.0]*len(y_test)\n",
    "for i in range(len(y_test)):\n",
    "    _, pred = nn.forward(X_test[i,:], y_test[i])\n",
    "    y_pred[i] = list(pred)[0]\n",
    "    \n",
    "fig = plt.gcf()\n",
    "fig.set_size_inches(9, 6)\n",
    "_ = plt.scatter(X_test[:,0], y_test, marker='o', s=10, label=r'Ground Truth ($f(x) = sin(x^2)$)')\n",
    "_ = plt.scatter(X_test[:,0], y_pred, marker='v', s=10, label='Prediction (on Test Set)')\n",
    "_ = plt.xlabel('X', fontsize=14)\n",
    "_ = plt.ylabel('y', fontsize=14)\n",
    "_ = plt.legend(loc='best', fontsize=14)\n",
    "_ = plt.title('Ground Truth vs Predictions (after {} epochs)'.format(num_epochs), fontsize=14)\n",
    "fig.savefig('neural_net.png')"
   ]
  },
  {
   "cell_type": "markdown",
   "metadata": {},
   "source": [
    "# Background\n",
    "Automatic differentiation (AD) allows us to calculate the derivative to machine precision while avoiding symbolic differentiation's shortcomings. Our package implements on version of AD, the forward mode, by using an extension of the real numbers called the \"dual numbers.\" The forward mode of AD finds the derivative of all intermediate variables with respect to our independent variable and combines them into a final derivative using the chain rule.\n",
    "\n",
    "AD can also be used in \"reverse mode,\" which we will not discuss in detail her, but this method shares many of the same characteristics as forward mode. However, the reverse mode computes derivatives of the dependent variable with respect to the intermediate variables. \n",
    "\n",
    "#### Dual Numbers\n",
    "To carry out the forward mode AD we utilize dual numbers. Dual numbers are defined as numbers of the form $x + x'\\epsilon$, where $\\epsilon^2=0$ and $x \\in \\mathbb{R}^n$. We use operator overloading to redefine elementary operations to suit our problem. To see why this is useful, let's examine how dual numbers behave under different mathematical operations:\n",
    "\n",
    "Addition: $(x+x'\\epsilon) + (y + y'\\epsilon) = x+y + (x'+y')\\epsilon$\n",
    "\n",
    "Subtraction: $(x+x'\\epsilon) - (y + y'\\epsilon) = x-y + (x'-y')\\epsilon$\n",
    "\n",
    "So far, this is as we might expect.\n",
    "\n",
    "Multiplication: $(x+x'\\epsilon) \\times (y + y'\\epsilon) = xy + y(x')\\epsilon+ x(y')\\epsilon$\n",
    "\n",
    "Our definition of $\\epsilon$ allows the multiplication of dual numbers to behave like the product rule.\n",
    "\n",
    "Division: $\\frac{(x+x'\\epsilon)}{(y + y'\\epsilon)} = \\frac{(x+x'\\epsilon)(y - y'\\epsilon)}{(y + y'\\epsilon)(y - y'\\epsilon)} = \\frac{xy+xy'\\epsilon-yx'\\epsilon}{y^2} = \\frac{x}{y}+\\epsilon \\frac{xy'-yx'}{y^2}$\n",
    "\n",
    "Division also follows rules for derivatives.\n",
    "\n",
    "Finally, observe how functions of dual numbers behave:\n",
    "\n",
    "$f(x+x'\\epsilon) = f(x)+\\epsilon f'(x)x'$\n",
    "\n",
    "Which implies the following:\n",
    "\n",
    "$g(f(x+x'\\epsilon)) = g(f(x)+\\epsilon f'(x)x') = g(f(x))+\\epsilon g'(f(x))f'(x)x'$\n",
    "\n",
    "The above example illustrates how dual numbers can be used to simultaneously calculate the value of a function at a point, $g(f(x))$, and the derivative, $g'(f(x))f'(x)x'$.\n",
    "\n",
    "#### Tracing the computational graph\n",
    "By keeping track of the intermediate values of the derivative we can calculate the derivative of composition of many elementary functions. We can picture this decomposition as a graph or table. For example, consider the following function$^{1}$: $$f\\left(x, y, z\\right) = \\dfrac{1}{xyz} + \\sin\\left(\\dfrac{1}{x} + \\dfrac{1}{y} + \\dfrac{1}{z}\\right).$$\n",
    "\n",
    "If we want to evaluate $f$ at $\\left(1, 2, 3\\right)$, we can construct the following table which keeps track for the elementary function, current value, and the elementary function derivative (evaluated with respect to all our variables).\n",
    "\n",
    "| Trace | Elementary Function | Current Value | Elementary Function Derivative | $\\nabla_{x}$ Value  | $\\nabla_{y}$ Value  | $\\nabla_{z}$ Value  |\n",
    "| :---: | :-----------------: | :-----------: | :----------------------------: | :-----------------: | :-----------------: | :-----------------: |\n",
    "| $x_{1}$ | $x_{1}$ | $1$ | $\\dot{x}_1$ | $1$ | $0$ | $0$ | \n",
    "| $x_{2}$ | $x_{2}$ | $2$ | $\\dot{x}_2$ | $0$ | $1$ | $0$ | \n",
    "| $x_{3}$ | $x_{3}$ | $3$ | $\\dot{x}_3$ | $0$ | $0$ | $1$ | \n",
    "| $x_{4}$ | $1/x_{1}$ | $1$ | $-\\dot{x}_{1}/x_{1}^{2}$ | $-1$ | $0$ | $0$ | \n",
    "| $x_{5}$ | $1/x_{2}$ | $\\frac{1}{2}$ | $-\\dot{x}_{2}/x_{2}^{2}$ | $0$ | $-\\frac{1}{4}$ | $0$ | \n",
    "| $x_{6}$ | $1/x_{3}$ | $\\frac{1}{3}$ | $-\\dot{x}_{3}/x_{3}^{2}$ | $0$ | $0$ | $-\\frac{1}{9}$ | \n",
    "| $x_{7}$ | $x_4 x_5 x_6$ | $\\frac{1}{6}$ | $x_4(x_5\\dot{x}_6 + x_6\\dot{x}_5) + x_5x_6\\dot{x}_4$ | $-\\frac{1}{6}$ | $-\\frac{1}{12}$ | $-\\frac{1}{18}$ | \n",
    "| $x_{8}$ | $x_4 + x_5 + x_6$ | $\\frac{11}{6}$ | $\\dot{x}_4 + \\dot{x}_5 + \\dot{x}_6$ | $-1$ | $-\\frac{1}{4}$ | $-\\frac{1}{9}$ | \n",
    "| $x_{9}$ | $sin(x_8)$ | $sin(\\frac{11}{6})$ | $cos(x_8)\\dot{x}_8$ | $-cos(\\frac{11}{6})$ | $-\\frac{1}{4}cos(\\frac{11}{6})$ | $-\\frac{1}{9}cos(\\frac{11}{6})$ | \n",
    "| $x_{10}$ | $x_7 + x_9$ | $sin(\\frac{11}{6})+\\frac{1}{6}$ | $\\dot{x}_7 + \\dot{x}_9$ | $-cos(\\frac{11}{6})-\\frac{1}{6}$ | $-\\frac{1}{4}cos(\\frac{11}{6})-\\frac{1}{12}$ | $-\\frac{1}{9}cos(\\frac{11}{6})-\\frac{1}{18}$ | \n",
    "\n",
    "As this example shows, we can use AD for both scalar and vector functions. AD can also be used for vector valued functions. The follow sections will make the implementation of these varients clear.\n",
    "\n",
    "$^1$Example from Harvard CS207 Homework 4"
   ]
  },
  {
   "cell_type": "markdown",
   "metadata": {},
   "source": [
    "# Software Organization"
   ]
  },
  {
   "cell_type": "markdown",
   "metadata": {},
   "source": [
    "## Directory Structure"
   ]
  },
  {
   "cell_type": "markdown",
   "metadata": {},
   "source": [
    "```\n",
    "AutoDiff/\n",
    "    AutoDiff/\n",
    "        __init__.py\n",
    "        ad.py\n",
    "        nn.py\n",
    "        root_finder.py\n",
    "        root_finder_multiple.py\n",
    "        tests/\n",
    "            test_root_finder.py\n",
    "            test_AutoDiff.py\n",
    "            test_root_finder_multiple.py\n",
    "    README.md\n",
    "    setup.py\n",
    "    LICENSE\n",
    "    requirements.txt\n",
    "```"
   ]
  },
  {
   "cell_type": "markdown",
   "metadata": {},
   "source": [
    "## Basic Modules\n",
    "Our ad.py file contains our main classes: DiffObj, Variable, VectorFunction, and MathOps, all imported in our init file. This main module supports basic automatic differentiation. Our package contains two other modules: nn to support basic function fitting with neural networks, and root_finder to find roots of input functions."
   ]
  },
  {
   "cell_type": "markdown",
   "metadata": {},
   "source": [
    "## Testing\n",
    "Comprehensive tests can be found in the /tests directory. Testing is automated with both TravisCI and Coveralls. In addition, we have also written DocTest code for each class function and our package passes all doctest by running doctest.testmod().\n",
    "\n",
    "Note that for root_finder, when dealing with functions that have many y values very close to the actual roots, you may have to scale tolerance to weed out incorrect root values (as with the function f(x) = x^3, for which using the default tolerance gave a list of roots containing many values very close to x = 0)."
   ]
  },
  {
   "cell_type": "markdown",
   "metadata": {},
   "source": [
    "# Implementation Details"
   ]
  },
  {
   "cell_type": "markdown",
   "metadata": {},
   "source": [
    "## Core Data Structures\n",
    "\n",
    "There are two core data structures in our implementation:\n",
    "\n",
    "1. **Lists**: The name_list (a list of strings) representing variable names, that is stored in every Diffobj instance to indicate the variables influencing that instance. Eg. for the DiffObj w, where w represents sin(x)+y, the name_list of Variable x is ['x'], the name_list of Variable y is ['y'] and the name_list of w is ['x','y'].\n",
    "\n",
    "2. **Dictionaries**: The dictionary value_dict, an argument of DiffObj.get_der, containing names and values that indicate the point in space at which we need to compute derivative and evaluate an expression, for example in w.get_val(value_dict). We also use Dictionarie for storing partial derivatives with respect to variables."
   ]
  },
  {
   "cell_type": "markdown",
   "metadata": {},
   "source": [
    "## Core Classes"
   ]
  },
  {
   "cell_type": "markdown",
   "metadata": {},
   "source": [
    "### 1. Class DiffObj()\n",
    "Any function for which a user wants to evaluate its value and gradient, will be represented by an instance of this class DiffObj, or by instances of classes which inherit from DiffObj (e.g. class Variable, etc.) A mathematical equivalent of a DiffObj object will be:\n",
    " * a variable such as $x$, which we have implemented via a Sub-class 'Variable'\n",
    " * a mathematical expression such as $x^2 + sin(y)$.\n",
    "\n",
    "DiffObj enforces that each class which inherits from it, must implement two functions:\n",
    "\n",
    "    CLASS FUNCTIONS\n",
    "    ==================\n",
    "    The functions get_val and get_der are exposed to the user, that is, a user of our package can\n",
    "    call these functions.\n",
    "\n",
    "    (1) get_val:        This is used to evaluate the function represented by a DiffObj instance at\n",
    "                        a particular point.\n",
    "\n",
    "    (2) get_der:        This is used to evalate the gradient of the function repreesnted by a DiffObj\n",
    "                        instance, at a particular point.\n",
    "   \n",
    "    CLASS ATTRIBUTES\n",
    "    ================\n",
    "    The attributes are not meant to be used by an end-user of our package, and they are meant for internal\n",
    "    computation.\n",
    "\n",
    "    name_list:          A list of strings, where each item in the list represents the variables inside\n",
    "                        the function represented by this DiffObj. E.g. for f(x,y) = x + y, the name_list\n",
    "                        for a DiffObj representing f will be ['x', 'y'] (assuming the x.name_list = ['x']\n",
    "                        and y.name_list = ['y'].\n",
    "    operator:           A single string representing the \"operator\". By default, DiffObj assumes that it\n",
    "                        represents two DiffObj's connected by an binary operator such as 'add'. However,\n",
    "                        we use the same definition for unary operators such as negation or cosine.\n",
    "    operand_list:       A list of two DiffObjs, which together with self.operator, comprise this instance\n",
    "                        of DiffObj.\n",
    "\n",
    "    CLASS FUNCTIONS\n",
    "    ================\n",
    "    get_val(self, value_dict)\n",
    "        INPUT\n",
    "        ======\n",
    "        value_dict:     A dictionary, whose keys are strings representing variables which feature\n",
    "                        in the formula represented by this DiffObj. The values at those keys are\n",
    "                        the values at which the formula representing this DiffObj will be evaluated.\n",
    "\n",
    "                        E.g. For a DiffObj which represents the function f(x,y) = x + y, the value_dict\n",
    "                        argument may look like value_dict = {'x': 10, 'y': 5}\n",
    "        OUTPUT\n",
    "        ======\n",
    "\n",
    "        DOCTEST\n",
    "        ======\n",
    "        >>> z=x+y\n",
    "        >>> z.get_val({'x':1,'y':1})\n",
    "        2\n",
    "\n",
    "\n",
    "        result:         A floating point number, which equals the evaluation of the function\n",
    "                        represented by this DiffObj, at the variable values given by val_dict.\n",
    "\n",
    "    get_der(self, value_dict, with_respect_to=None)\n",
    "        INPUT\n",
    "        ======\n",
    "        value_dict:         A dictionary, whose keys are strings representing variables which feature\n",
    "                            in the formula represented by this DiffObj. The values at those keys are\n",
    "                            the values at which the gradient of formula representing this DiffObj will\n",
    "                            be evaluated.\n",
    "\n",
    "                            E.g. For a DiffObj which represents the function f(x,y) = x + y, the value_dict\n",
    "                            argument may look like value_dict = {'x': 10, 'y': 5}\n",
    "        with_respect_to:    A list of strings representing variables, with respect to which we want the\n",
    "                            gradient of this DifObj. By default, if this list is not provided, then the\n",
    "                            gradient with respect to all variables featuring in the DiffObj is returned.\n",
    "\n",
    "        OUTPUT\n",
    "        ======\n",
    "        result:             A dictionary, whose keys are strings representing variables which feature\n",
    "                            in the formula represented by this DiffObj. The value associated withe each\n",
    "                            key is a floating point number which is the partial derivative of this DiffObj\n",
    "                            with respect to that variable.\n",
    "\n",
    "        DOCTEST\n",
    "        ======\n",
    "        >>> z=x+y\n",
    "        >>> z.get_der({'x':0,'y':0})\n",
    "        {'y': 1, 'x': 1}\n",
    "        \n",
    "    Other class functions: These include the overloaded operators listed in the functionality section above. \n",
    "                            We have provided detailed documentation for these overloaded functions inside our code. "
   ]
  },
  {
   "cell_type": "markdown",
   "metadata": {},
   "source": [
    "### 2. Class Variable(DiffObj)\n",
    "This subclass inherits from DiffObj, and is basically used for representing a variable such as x or y.\n",
    "\n",
    "    All variables inside a function whose derivative and value a user wants to calculate,\n",
    "    will be instances of the Variable class, which inherits from DiffObj and implements\n",
    "    get_val and get_der\n",
    "\n",
    "    CLASS ATTRIBUTES\n",
    "    ================\n",
    "    var_name:           A string, which is unique to this Variable instance.\n",
    "                        E.g. x = Variable('x')\n",
    "\n",
    "    CLASS FUNCTIONS\n",
    "    ===============\n",
    "    This implements get_val and get_der, a description of which is provided in the\n",
    "    Super-class DiffObj."
   ]
  },
  {
   "cell_type": "markdown",
   "metadata": {},
   "source": [
    "### 3. Class MathOps()\n",
    "    This class inherits from the DiffObj class. It implements non-elementary unary functions\n",
    "    including: sin, cos, tan, log, exp.\n",
    "\n",
    "    INSTANTIATION\n",
    "    ===============\n",
    "    If a is of type DiffObj, then the invoking the constructor as follows will return an\n",
    "    object b of type MathOps:\n",
    "\n",
    "    b = MathOps.sin(a)\n",
    "\n",
    "    CLASS ATTRIBUTES\n",
    "    ================\n",
    "    The attributes are not meant to be used by an end-user of our package, and they are meant for internal\n",
    "    computation.\n",
    "\n",
    "    name_list:          A list of strings, where each item in the list represents the variables inside\n",
    "                        the function represented by this DiffObj. E.g. for f(x,y) = x + y, the name_list\n",
    "                        for a DiffObj representing f will be ['x', 'y'] (assuming the x.name_list = ['x']\n",
    "                        and y.name_list = ['y'].\n",
    "    operator:           A string, such as 'sin' or 'log', which represents one of the unary math operators\n",
    "                        implemented by this class.\n",
    "    operand_list:       A list of length 1 containing the DiffObj which the user has passed as an argument\n",
    "                        to one of the classmethods of MathOps.\n",
    "    CLASS FUNCTIONS\n",
    "    ================\n",
    "    Note: This class implements classmethods named 'sin', 'cos', 'tan', 'log' and 'exp', and these\n",
    "    classmethods basically return an instance of type DiffObj, which supports get_val and get_der\n",
    "    for functions like sin, log, cos, tan, exp."
   ]
  },
  {
   "cell_type": "markdown",
   "metadata": {},
   "source": [
    "### 4. Class NeuralNet()\n",
    "    This class implements a simple Neural Network using our Auto-Differentiation package. Basic\n",
    "    idea is that each node in a Neural Net represents a differntiatble function.\n",
    "\n",
    "    INSTANTIATION\n",
    "    ===============\n",
    "    Invoking the constructor as follows will return an object net of type NeuralNet:\n",
    "\n",
    "    net = NeuralNet(a, input_dim=2, hidden_dim=10, out_dim=1)\n",
    "    - input_dim is Integer, represents dimension of the input.\n",
    "    - hidden_dim is Integer, represents number of nodes in the hidden layer.\n",
    "    - output_dim is Integer, represents dimension of the output. Currently we only support \n",
    "       1 for this value.\n",
    "\n",
    "    CLASS ATTRIBUTES\n",
    "    ================\n",
    "    The attributes are not meant to be used by an end-user of our package, and they are meant for internal\n",
    "    computation.\n",
    "\n",
    "    name_list:          A list of strings, where each item in the list represents the variables inside\n",
    "                        the function represented by this DiffObj. E.g. for f(x,y) = x + y, the name_list\n",
    "                        for a DiffObj representing f will be ['x', 'y'] (assuming the x.name_list = ['x']\n",
    "                        and y.name_list = ['y'].\n",
    "    operator:           A string, such as 'sin' or 'log', which represents one of the unary math operators\n",
    "                        implemented by this class.\n",
    "    operand_list:       A list of length 1 containing the DiffObj which the user has passed as an argument\n",
    "                        to one of the classmethods of MathOps.\n",
    "    CLASS FUNCTIONS\n",
    "    ================\n",
    "    The key functions are as follows:\n",
    "    def forward(self, X, y):\n",
    "       This implements a forward pass through the network.\n",
    "       \n",
    "       INPUT\n",
    "       =====\n",
    "       X: A NumPy array of dimensions (input_dim x 1), this represents a single training sample. We do not\n",
    "          support training in batches currently.\n",
    "       y: A real number, this represents the Response Variable. Currently we do not support Categorical\n",
    "          responses.\n",
    "       \n",
    "       OUTPUT\n",
    "       ======\n",
    "       loss:        A real number representing the L2 loss of the network.\n",
    "       output_val:  The value of the output node for this forward pass.\n",
    "    \n",
    "    def backward(self):\n",
    "       This implements a backward pass through the network.\n",
    "       \n",
    "       INPUT\n",
    "       =====\n",
    "       None. It uses values cached during the forward pass.\n",
    "       \n",
    "       OUTPUT\n",
    "       ====== \n",
    "       No output - this function computes gradients and invokes UpdateParams\n",
    "       to update weights of the network.\n",
    "    \n",
    "    def AffineLayer(self, in_obj, wt_var, activation=False):\n",
    "       This implements an affine layer with optional Sigmoid activation.\n",
    "       \n",
    "       INPUT\n",
    "       =====\n",
    "       in_obj: A list of DiffObj instances which represents outputs of the previous\n",
    "               layer in the network.\n",
    "       wt_var: A list of dictionaries. The length of list equals hidden_dim. Each\n",
    "               dictionary represents weights used by a hidden node to interact with\n",
    "               outputs of the previous layer.\n",
    "       activation: If True then Sigmoid activation is used for final output of this layer."
   ]
  },
  {
   "cell_type": "markdown",
   "metadata": {},
   "source": [
    "# Implementation Details - Root Finding"
   ]
  },
  {
   "cell_type": "markdown",
   "metadata": {},
   "source": [
    "## root_finder\n",
    "\n",
    "This package allows the user to find the root of a specified function. It includes one function, VectorNewton, which finds an unspecified number of roots for scalar or multivariate vector functions. Because the number of roots may be unknown, root_finder uses a multithreading approach to quickly find roots, if they exist. The function works as follows:\n",
    "\n",
    "    1) A user specifies a function to root_finder\n",
    "    2) If not user provided, root_finder generates a list of starting values from the user specified or \n",
    "       default range\n",
    "    3) The root_finder searches in parallel for roots, starting at each starting value\n",
    "    4) Roots are found by using Newton's method: the tangent line is used as an approximate function at the point\n",
    "       and found using our AutoDiff package. The intercept of the tangent is found, and the next candidate point\n",
    "       is generated by calculating the function at the intersection of the tangent with the zero line/plane.\n",
    "    5) The error (distance from 0) is calculated, and if within tolerance, the root is returned. Otherwise, the \n",
    "       process continues until the max number of iterations is reached (100). \n",
    "\n",
    "\n",
    "    PACKAGE USE\n",
    "    ===========\n",
    "    If f is of type DiffObj, then the user calls the function VectorNewton as:\n",
    "\n",
    "    result = vectorNewton(f)\n",
    "    \n",
    "    FUNCTION SIGNATURE\n",
    "    ==================\n",
    "    vectorNewton(input_function,tolerance=1e-5, num_starting_vals = 20, \n",
    "\tstarting_val_range = (-1000,1000), starting_val_dict_list=None, verbose=True)\n",
    "\n",
    "    FUNCTION ARGUMENTS\n",
    "    ==================\n",
    "\n",
    "    input_function:     This is the DiffObj object that the user would like to find the root of. It can either \n",
    "                        an DiffObj or the child class, VectorFunction.\n",
    "                        \n",
    "    tolerance:          Optional float argument with default 1e-5. This is the threshold for considering a root. \n",
    "                        That is the norm(potential root)<tolerance to be considered a root.\n",
    "                        \n",
    "    num_starting_vals:  Optional argument with default value 20. Functions can have many roots, and a user may not\n",
    "                        know how many roots to expect before starting. This is the number of different starting \n",
    "                        values that the root_finder will check.\n",
    "    starting_val\n",
    "            _range: \n",
    "                        Optional argument, with default value (-1000,1000). This is the range of values over which \n",
    "                        the root_finder will select starting values. If the function is multivariate, all variables \n",
    "                        will be selected from this range. If the user does not supply starting values, or does not \n",
    "                        supply as many starting values as specified in num_starting_vals, starting values will \n",
    "                        be generated randomly in this range.\n",
    "    starting_\n",
    "        val_dict_list:  Optional argument, default value None. If the user would like to specify a list of starting\n",
    "                        values, they may do so using this parameter. For example, the user could input the list\n",
    "                        [{'x':4},{'x':10}] if they wanted to using the starting values 4 and 10. If they did not \n",
    "                        specify a number of starting values, then 18 more starting values would be generated from \n",
    "                        the starting_val_range. \n",
    "                        \n",
    "    verbose:            Optional argument, default True. If verbose is False, only the root values are returned \n",
    "                        after the function completes. If verbose is True, then a list of lists is returned. \n",
    "                        The outer list is a list of roots, and for each root there is a list with the first entry \n",
    "                        corresponding to the root value, the second to the function evaluated at the root value, \n",
    "                        the third corresponding to the number of iterations taken to find the root, and the \n",
    "                        fourth is a list of errors generated for each iteration of the root_finder on that root. \n",
    "                        For example, if the root_finder returned \n",
    "                        [[{'x':1.0},0.0,3,[10,5,0]],[{'x':2.0},0.1,3,[15,5,0.01]], we found two roots with values \n",
    "                        1.0 and 2.0 respectively. They evaluated to 0.0 and 0.1 respectively, and took 3 steps each. \n",
    "                        The final entries are the error lists for each root. \n",
    "                    \n",
    "    FUNCTION OUTPUT\n",
    "    ================\n",
    "    output:             Depending on the user input of verbose, the function either returns a list of dictionarys"
   ]
  },
  {
   "cell_type": "markdown",
   "metadata": {},
   "source": [
    "## Dependencies\n",
    "\n",
    "Our package relies on Math and NumPy."
   ]
  }
 ],
 "metadata": {
  "kernelspec": {
   "display_name": "Python 3",
   "language": "python",
   "name": "python3"
  },
  "language_info": {
   "codemirror_mode": {
    "name": "ipython",
    "version": 3
   },
   "file_extension": ".py",
   "mimetype": "text/x-python",
   "name": "python",
   "nbconvert_exporter": "python",
   "pygments_lexer": "ipython3",
   "version": "3.5.4"
  }
 },
 "nbformat": 4,
 "nbformat_minor": 2
}
