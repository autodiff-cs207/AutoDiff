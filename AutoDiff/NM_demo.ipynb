{
 "cells": [
  {
   "cell_type": "markdown",
   "metadata": {},
   "source": [
    "### root_finder"
   ]
  },
  {
   "cell_type": "markdown",
   "metadata": {},
   "source": [
    "This package allows the user to find the root of a specified function. It includes one function, VectorNewton, which finds an unspecified number of roots for scalar or multivariate vector functions. Because the number of roots may be unknown, root_finder uses a multithreading approach to quickly find roots, if they exist. The function works as follows:\n",
    "\n",
    "    1) A user specifies a function to root_finder\n",
    "    2) If not user provided, root_finder generates a \n",
    "\n",
    "\n",
    "    PACKAGE USE\n",
    "    ===========\n",
    "    If f is of type DiffObj, then the user calls the function VectorNewton as:\n",
    "\n",
    "    result = vectorNewton(f)\n",
    "    \n",
    "    FUNCTION SIGNATURE\n",
    "    ==================\n",
    "    vectorNewton(input_function,tolerance=1e-5, num_starting_vals = 20, \n",
    "\tstarting_val_range = (-1000,1000), starting_val_dict_list=None, verbose=True)\n",
    "\n",
    "    FUNCTION ARGUMENTS\n",
    "    ==================\n",
    "\n",
    "    input_function:     This is the DiffObj object that the user would like to find the root of. It can either \n",
    "                        an DiffObj or the child class, VectorFunction.\n",
    "                        \n",
    "    tolerance:          Optional float argument with default 1e-5. This is the threshold for considering a root. \n",
    "                        That is the norm(potential root)<tolerance to be considered a root.\n",
    "                        \n",
    "    num_starting_vals:  Optional argument with default value 20. Functions can have many roots, and a user may not\n",
    "                        know how many roots to expect before starting. This is the number of different starting \n",
    "                        values that the root_finder will check.\n",
    "    starting_val\n",
    "            _range: \n",
    "                        Optional argument, with default value (-1000,1000). This is the range of values over which \n",
    "                        the root_finder will select starting values. If the function is multivariate, all variables \n",
    "                        will be selected from this range. If the user does not supply starting values, or does not \n",
    "                        supply as many starting values as specified in num_starting_vals, starting values will \n",
    "                        be generated randomly in this range.\n",
    "    starting_\n",
    "        val_dict_list:  Optional argument, default value None. If the user would like to specify a list of starting\n",
    "                        values, they may do so using this parameter. For example, the user could input the list\n",
    "                        [{'x':4},{'x':10}] if they wanted to using the starting values 4 and 10. If they did not \n",
    "                        specify a number of starting values, then 18 more starting values would be generated from \n",
    "                        the starting_val_range. \n",
    "                        \n",
    "    verbose:            Optional argument, default True. If verbose is False, only the root values are returned \n",
    "                        after the function completes. If verbose is True, then a list of lists is returned. \n",
    "                        The outer list is a list of roots, and for each root there is a list with the first entry \n",
    "                        corresponding to the root value, the second to the function evaluated at the root value, \n",
    "                        the third corresponding to the number of iterations taken to find the root, and the \n",
    "                        fourth is a list of errors generated for each iteration of the root_finder on that root. \n",
    "                        For example, if the root_finder returned \n",
    "                        [[{'x':1.0},0.0,3,[10,5,0]],[{'x':2.0},0.1,3,[15,5,0.01]], we found two roots with values \n",
    "                        1.0 and 2.0 respectively. They evaluated to 0.0 and 0.1 respectively, and took 3 steps each. \n",
    "                        The final entries are the error lists for each root. \n",
    "                    \n",
    "    FUNCTION OUTPUT\n",
    "    ================\n",
    "    output:             Depending on the user input of verbose, the function either returns a list of dictionarys"
   ]
  },
  {
   "cell_type": "code",
   "execution_count": 76,
   "metadata": {},
   "outputs": [
    {
     "name": "stdout",
     "output_type": "stream",
     "text": [
      "The autoreload extension is already loaded. To reload it, use:\n",
      "  %reload_ext autoreload\n"
     ]
    }
   ],
   "source": [
    "import root_finder as rf\n",
    "from ad import DiffObj, Variable, VectorFunction\n",
    "from ad import MathOps as mo\n",
    "import random\n",
    "from scipy.interpolate import interp1d\n",
    "random.seed(13)\n",
    "\n",
    "import numpy as np\n",
    "import matplotlib.pyplot as plt\n",
    "import math\n",
    "%load_ext autoreload\n",
    "%autoreload 2"
   ]
  },
  {
   "cell_type": "code",
   "execution_count": 77,
   "metadata": {},
   "outputs": [],
   "source": [
    "def pretty_print_results(results_list):\n",
    "    print(\"RootFinder found a total of {} roots for the function\\n\".format(len(results_list))) \n",
    "    \n",
    "    if len(results_list) >0:\n",
    "        for root in results_list:   \n",
    "            print(\"Found root: {}\".format(root[0]))\n",
    "            print(\"Function value at root: {}\".format(root[1]))\n",
    "            print(\"Number of iterations needed to find the root: {}\".format(root[2]))\n",
    "            print(\"List of error values:{}\".format(root[3]))\n",
    "\n",
    "            plt.title(\"Error values vs. iteratation number\")\n",
    "            plt.xlabel(\"Iteration Number\")\n",
    "            plt.ylabel(\"Error Value\")\n",
    "            print()\n",
    "\n",
    "            # add smooth line\n",
    "            x = list(range(len(root[3])))\n",
    "            y = root[3]\n",
    "            if(len(x)>2):\n",
    "                x_new = np.linspace(min(x), max(x),500)\n",
    "                f = interp1d(x, y, kind='quadratic')\n",
    "                y_smooth=f(x_new)\n",
    "                plt.plot (x_new,y_smooth)      \n",
    "            plt.scatter(x,y)\n",
    "\n",
    "        labels = [\"Error for root {}\".format(i+1) for i in range(len(results_list))]\n",
    "        plt.legend(labels)\n",
    "        plt.show()"
   ]
  },
  {
   "cell_type": "code",
   "execution_count": 78,
   "metadata": {},
   "outputs": [
    {
     "name": "stdout",
     "output_type": "stream",
     "text": [
      "RootFinder found a total of 0 roots for the function\n",
      "\n"
     ]
    },
    {
     "ename": "ValueError",
     "evalue": "min() arg is an empty sequence",
     "output_type": "error",
     "traceback": [
      "\u001b[0;31m---------------------------------------------------------------------------\u001b[0m",
      "\u001b[0;31mValueError\u001b[0m                                Traceback (most recent call last)",
      "\u001b[0;32m<ipython-input-78-22c90f6421ca>\u001b[0m in \u001b[0;36m<module>\u001b[0;34m()\u001b[0m\n\u001b[1;32m     13\u001b[0m \u001b[0;34m\u001b[0m\u001b[0m\n\u001b[1;32m     14\u001b[0m \u001b[0mplt\u001b[0m\u001b[0;34m.\u001b[0m\u001b[0mtitle\u001b[0m\u001b[0;34m(\u001b[0m\u001b[0;34m\"Function and roots from rootfinder\"\u001b[0m\u001b[0;34m)\u001b[0m\u001b[0;34m\u001b[0m\u001b[0m\n\u001b[0;32m---> 15\u001b[0;31m \u001b[0mx_plt\u001b[0m \u001b[0;34m=\u001b[0m \u001b[0mnp\u001b[0m\u001b[0;34m.\u001b[0m\u001b[0marange\u001b[0m\u001b[0;34m(\u001b[0m\u001b[0mmin\u001b[0m\u001b[0;34m(\u001b[0m\u001b[0mroots\u001b[0m\u001b[0;34m)\u001b[0m\u001b[0;34m-\u001b[0m\u001b[0;36m5\u001b[0m\u001b[0;34m,\u001b[0m \u001b[0mmax\u001b[0m\u001b[0;34m(\u001b[0m\u001b[0mroots\u001b[0m\u001b[0;34m)\u001b[0m\u001b[0;34m+\u001b[0m\u001b[0;36m5\u001b[0m\u001b[0;34m,\u001b[0m\u001b[0;36m1\u001b[0m\u001b[0;34m)\u001b[0m\u001b[0;34m\u001b[0m\u001b[0m\n\u001b[0m\u001b[1;32m     16\u001b[0m \u001b[0my_plt\u001b[0m\u001b[0;34m=\u001b[0m \u001b[0mx_plt\u001b[0m\u001b[0;34m+\u001b[0m\u001b[0;36m1\u001b[0m\u001b[0;34m\u001b[0m\u001b[0m\n\u001b[1;32m     17\u001b[0m \u001b[0mx_new\u001b[0m \u001b[0;34m=\u001b[0m \u001b[0mnp\u001b[0m\u001b[0;34m.\u001b[0m\u001b[0mlinspace\u001b[0m\u001b[0;34m(\u001b[0m\u001b[0mmin\u001b[0m\u001b[0;34m(\u001b[0m\u001b[0mx_plt\u001b[0m\u001b[0;34m)\u001b[0m\u001b[0;34m,\u001b[0m \u001b[0mmax\u001b[0m\u001b[0;34m(\u001b[0m\u001b[0mx_plt\u001b[0m\u001b[0;34m)\u001b[0m\u001b[0;34m,\u001b[0m\u001b[0;36m500\u001b[0m\u001b[0;34m)\u001b[0m\u001b[0;34m\u001b[0m\u001b[0m\n",
      "\u001b[0;31mValueError\u001b[0m: min() arg is an empty sequence"
     ]
    },
    {
     "data": {
      "image/png": "[encoded data removed]",
      "text/plain": [
       "<Figure size 432x288 with 1 Axes>"
      ]
     },
     "metadata": {
      "needs_background": "light"
     },
     "output_type": "display_data"
    }
   ],
   "source": [
    "# Very basic test \n",
    "x = Variable('x')\n",
    "y = Variable('y')\n",
    "\n",
    "test_f0 =  x+1\n",
    "\n",
    "results_t0= rf.vectorNewton(test_f0, num_starting_vals=10, verbose=True)\n",
    "results_t0\n",
    "pretty_print_results(results_t0)\n",
    "\n",
    "roots = [result[0]['x'] for result in results_t0]\n",
    "val_at_root = [result[1] for result in results_t0]\n",
    "\n",
    "plt.title(\"Function and roots from rootfinder\")\n",
    "x_plt = np.arange(min(roots)-5, max(roots)+5,1)\n",
    "y_plt= x_plt+1\n",
    "x_new = np.linspace(min(x_plt), max(x_plt),500)\n",
    "f = interp1d(x_plt, y_plt)\n",
    "y_smooth=f(x_new)\n",
    "plt.plot (x_new,y_smooth) \n",
    "plt.axhline(y=0,color='r')\n",
    "plt.plot(roots, val_at_root, marker='o', markersize=10, color=\"black\")\n",
    "plt.legend([\"Function\",\"Line at zero\",\"root\"])\n",
    "#plt.scatter(x_plt,y_plt)\n",
    "plt.show()\n",
    "\n",
    "for i, root in enumerate(roots):\n",
    "    r = test_f0.get_val({'x':root})\n",
    "    print(\"Evaluation of our function at root number {}: {}\".format(i,r))"
   ]
  },
  {
   "cell_type": "code",
   "execution_count": 79,
   "metadata": {},
   "outputs": [
    {
     "name": "stdout",
     "output_type": "stream",
     "text": [
      "RootFinder found a total of 0 roots for the function\n",
      "\n"
     ]
    },
    {
     "ename": "ValueError",
     "evalue": "min() arg is an empty sequence",
     "output_type": "error",
     "traceback": [
      "\u001b[0;31m---------------------------------------------------------------------------\u001b[0m",
      "\u001b[0;31mValueError\u001b[0m                                Traceback (most recent call last)",
      "\u001b[0;32m<ipython-input-79-d18c34216a19>\u001b[0m in \u001b[0;36m<module>\u001b[0;34m()\u001b[0m\n\u001b[1;32m      8\u001b[0m \u001b[0;34m\u001b[0m\u001b[0m\n\u001b[1;32m      9\u001b[0m \u001b[0mplt\u001b[0m\u001b[0;34m.\u001b[0m\u001b[0mtitle\u001b[0m\u001b[0;34m(\u001b[0m\u001b[0;34m\"Function and roots from rootfinder\"\u001b[0m\u001b[0;34m)\u001b[0m\u001b[0;34m\u001b[0m\u001b[0m\n\u001b[0;32m---> 10\u001b[0;31m \u001b[0mx_plt\u001b[0m \u001b[0;34m=\u001b[0m \u001b[0mnp\u001b[0m\u001b[0;34m.\u001b[0m\u001b[0marange\u001b[0m\u001b[0;34m(\u001b[0m\u001b[0mmin\u001b[0m\u001b[0;34m(\u001b[0m\u001b[0mroots\u001b[0m\u001b[0;34m)\u001b[0m\u001b[0;34m-\u001b[0m\u001b[0;36m5\u001b[0m\u001b[0;34m,\u001b[0m \u001b[0mmax\u001b[0m\u001b[0;34m(\u001b[0m\u001b[0mroots\u001b[0m\u001b[0;34m)\u001b[0m\u001b[0;34m+\u001b[0m\u001b[0;36m5\u001b[0m\u001b[0;34m,\u001b[0m\u001b[0;36m1\u001b[0m\u001b[0;34m)\u001b[0m\u001b[0;34m\u001b[0m\u001b[0m\n\u001b[0m\u001b[1;32m     11\u001b[0m \u001b[0my_plt\u001b[0m\u001b[0;34m=\u001b[0m \u001b[0mx_plt\u001b[0m\u001b[0;34m**\u001b[0m\u001b[0;36m3\u001b[0m \u001b[0;34m+\u001b[0m\u001b[0;36m1\u001b[0m\u001b[0;34m\u001b[0m\u001b[0m\n\u001b[1;32m     12\u001b[0m \u001b[0mx_new\u001b[0m \u001b[0;34m=\u001b[0m \u001b[0mnp\u001b[0m\u001b[0;34m.\u001b[0m\u001b[0mlinspace\u001b[0m\u001b[0;34m(\u001b[0m\u001b[0mmin\u001b[0m\u001b[0;34m(\u001b[0m\u001b[0mx_plt\u001b[0m\u001b[0;34m)\u001b[0m\u001b[0;34m,\u001b[0m \u001b[0mmax\u001b[0m\u001b[0;34m(\u001b[0m\u001b[0mx_plt\u001b[0m\u001b[0;34m)\u001b[0m\u001b[0;34m,\u001b[0m\u001b[0;36m500\u001b[0m\u001b[0;34m)\u001b[0m\u001b[0;34m\u001b[0m\u001b[0m\n",
      "\u001b[0;31mValueError\u001b[0m: min() arg is an empty sequence"
     ]
    },
    {
     "data": {
      "image/png": "[encoded data removed]",
      "text/plain": [
       "<Figure size 432x288 with 1 Axes>"
      ]
     },
     "metadata": {
      "needs_background": "light"
     },
     "output_type": "display_data"
    }
   ],
   "source": [
    "x = Variable('x')\n",
    "test_f1 = x**3+1\n",
    "results_t1= rf.vectorNewton(test_f1, num_starting_vals=10, verbose=True)\n",
    "pretty_print_results(results_t1)\n",
    "\n",
    "roots = [result[0]['x'] for result in results_t1]\n",
    "val_at_root = [result[1] for result in results_t1]\n",
    "\n",
    "plt.title(\"Function and roots from rootfinder\")\n",
    "x_plt = np.arange(min(roots)-5, max(roots)+5,1)\n",
    "y_plt= x_plt**3 +1\n",
    "x_new = np.linspace(min(x_plt), max(x_plt),500)\n",
    "f = interp1d(x_plt, y_plt)\n",
    "y_smooth=f(x_new)\n",
    "plt.plot (x_new,y_smooth) \n",
    "plt.axhline(y=0,color='r')\n",
    "plt.plot(roots, val_at_root, marker='o', markersize=10, color=\"black\")\n",
    "plt.legend([\"Function\",\"Line at zero\",\"root\"])\n",
    "plt.show()\n",
    "\n",
    "for i, root in enumerate(roots):\n",
    "    r = test_f1.get_val({'x':root})\n",
    "    print(\"Evaluation of our function at root number {}: {}\".format(i,r))"
   ]
  },
  {
   "cell_type": "code",
   "execution_count": 73,
   "metadata": {},
   "outputs": [
    {
     "name": "stdout",
     "output_type": "stream",
     "text": [
      "RootFinder found a total of 0 roots for the function\n",
      "\n"
     ]
    },
    {
     "ename": "ValueError",
     "evalue": "min() arg is an empty sequence",
     "output_type": "error",
     "traceback": [
      "\u001b[0;31m---------------------------------------------------------------------------\u001b[0m",
      "\u001b[0;31mValueError\u001b[0m                                Traceback (most recent call last)",
      "\u001b[0;32m<ipython-input-73-7cfd8730af33>\u001b[0m in \u001b[0;36m<module>\u001b[0;34m()\u001b[0m\n\u001b[1;32m      9\u001b[0m \u001b[0;34m\u001b[0m\u001b[0m\n\u001b[1;32m     10\u001b[0m \u001b[0mplt\u001b[0m\u001b[0;34m.\u001b[0m\u001b[0mtitle\u001b[0m\u001b[0;34m(\u001b[0m\u001b[0;34m\"Function and roots from rootfinder\"\u001b[0m\u001b[0;34m)\u001b[0m\u001b[0;34m\u001b[0m\u001b[0m\n\u001b[0;32m---> 11\u001b[0;31m \u001b[0mx_plt\u001b[0m \u001b[0;34m=\u001b[0m \u001b[0mnp\u001b[0m\u001b[0;34m.\u001b[0m\u001b[0marange\u001b[0m\u001b[0;34m(\u001b[0m\u001b[0mmin\u001b[0m\u001b[0;34m(\u001b[0m\u001b[0mroots\u001b[0m\u001b[0;34m)\u001b[0m\u001b[0;34m-\u001b[0m\u001b[0;36m5\u001b[0m\u001b[0;34m,\u001b[0m \u001b[0mmax\u001b[0m\u001b[0;34m(\u001b[0m\u001b[0mroots\u001b[0m\u001b[0;34m)\u001b[0m\u001b[0;34m+\u001b[0m\u001b[0;36m5\u001b[0m\u001b[0;34m,\u001b[0m\u001b[0;36m1\u001b[0m\u001b[0;34m)\u001b[0m\u001b[0;34m\u001b[0m\u001b[0m\n\u001b[0m\u001b[1;32m     12\u001b[0m \u001b[0my_plt\u001b[0m\u001b[0;34m=\u001b[0m \u001b[0mnp\u001b[0m\u001b[0;34m.\u001b[0m\u001b[0msin\u001b[0m\u001b[0;34m(\u001b[0m\u001b[0mx_plt\u001b[0m\u001b[0;34m)\u001b[0m\u001b[0;34m+\u001b[0m\u001b[0;36m0.5\u001b[0m\u001b[0;34m\u001b[0m\u001b[0m\n\u001b[1;32m     13\u001b[0m \u001b[0mx_new\u001b[0m \u001b[0;34m=\u001b[0m \u001b[0mnp\u001b[0m\u001b[0;34m.\u001b[0m\u001b[0mlinspace\u001b[0m\u001b[0;34m(\u001b[0m\u001b[0mmin\u001b[0m\u001b[0;34m(\u001b[0m\u001b[0mx_plt\u001b[0m\u001b[0;34m)\u001b[0m\u001b[0;34m,\u001b[0m \u001b[0mmax\u001b[0m\u001b[0;34m(\u001b[0m\u001b[0mx_plt\u001b[0m\u001b[0;34m)\u001b[0m\u001b[0;34m,\u001b[0m\u001b[0;36m500\u001b[0m\u001b[0;34m)\u001b[0m\u001b[0;34m\u001b[0m\u001b[0m\n",
      "\u001b[0;31mValueError\u001b[0m: min() arg is an empty sequence"
     ]
    },
    {
     "data": {
      "image/png": "[encoded data removed]",
      "text/plain": [
       "<Figure size 432x288 with 1 Axes>"
      ]
     },
     "metadata": {
      "needs_background": "light"
     },
     "output_type": "display_data"
    }
   ],
   "source": [
    "# Test a function with many roots \n",
    "x = Variable('x')\n",
    "test_f2 = mo.sin(x)+0.5\n",
    "results_t2= rf.vectorNewton(test_f2, num_starting_vals=20, starting_val_range = (-10,10), verbose=True)\n",
    "pretty_print_results(results_t2)\n",
    "\n",
    "roots = [result[0]['x'] for result in results_t2]\n",
    "val_at_root = [result[1] for result in results_t2]\n",
    "\n",
    "plt.title(\"Function and roots from rootfinder\")\n",
    "x_plt = np.arange(min(roots)-5, max(roots)+5,1)\n",
    "y_plt= np.sin(x_plt)+0.5\n",
    "x_new = np.linspace(min(x_plt), max(x_plt),500)\n",
    "f = interp1d(x_plt, y_plt, kind='quadratic')\n",
    "y_smooth=f(x_new)\n",
    "plt.plot (x_new,y_smooth) \n",
    "plt.axhline(y=0,color='r')\n",
    "plt.scatter(roots, val_at_root, marker='o', s=30, color=\"black\")\n",
    "plt.legend([\"Function\",\"Line at zero\",\"roots\"])\n",
    "plt.show()\n",
    "\n",
    "for i, root in enumerate(roots):\n",
    "    r = test_f2.get_val({'x':root})\n",
    "    print(\"Evaluation of our function at root number {}: {}\".format(i,r))"
   ]
  },
  {
   "cell_type": "code",
   "execution_count": 74,
   "metadata": {},
   "outputs": [
    {
     "name": "stdout",
     "output_type": "stream",
     "text": [
      "<ad.DiffObj object at 0x10f39e278>\n",
      "<ad.DiffObj object at 0x10f39e710>\n",
      "RootFinder found a total of 2 roots for the function\n",
      "\n",
      "Found root: {'x': -7.529428631859002e-16, 'y': 7.529428631859002e-16}\n",
      "Function value at root: [7.529428631859008e-16, 0.0]\n",
      "Number of iterations needed to find the root: 14\n",
      "List of error values:[221370, 55342.43750007058, 13835.546875299979, 3458.824219954313, 864.6435595056826, 216.09840794222754, 53.96217420702665, 13.42833177115071, 3.2957252604519525, 0.7658380299180744, 0.14434089657878282, 0.01320830188164656, 0.00016570453643513616, 2.7439805793980184e-08]\n",
      "\n",
      "Found root: {'x': 1.0, 'y': -1.0}\n",
      "Function value at root: [0.0, 0.0]\n",
      "Number of iterations needed to find the root: 14\n",
      "List of error values:[164536, 40501.43750009644, 10125.296875409895, 2531.2617203955992, 632.7529362711012, 158.12575875170504, 39.46903834570143, 9.805152974600166, 2.390342173265977, 0.5410033369109024, 0.09250422750798659, 0.006245931743024791, 3.806076361234645e-05, 1.4484011767734728e-09]\n",
      "\n"
     ]
    },
    {
     "data": {
      "image/png": "[encoded data removed]",
      "text/plain": [
       "<Figure size 432x288 with 1 Axes>"
      ]
     },
     "metadata": {
      "needs_background": "light"
     },
     "output_type": "display_data"
    },
    {
     "name": "stdout",
     "output_type": "stream",
     "text": [
      "Evaluation of our function at root number 0: [7.529428631859008e-16, 0.0]\n",
      "Evaluation of our function at root number 1: [0.0, 0.0]\n"
     ]
    }
   ],
   "source": [
    "# Test a vector valued function\n",
    "x = Variable('x')\n",
    "y = Variable('y')\n",
    "\n",
    "test_f3 = VectorFunction([x**2+y, y+x])\n",
    "results_t3= rf.vectorNewton(test_f3, num_starting_vals=10, verbose=True)\n",
    "pretty_print_results(results_t3)\n",
    "\n",
    "roots = [result[0] for result in results_t3]\n",
    "val_at_root = [result[1] for result in results_t3]\n",
    "\n",
    "for i, root in enumerate(roots):\n",
    "    r = test_f3.get_val(root)\n",
    "    print(\"Evaluation of our function at root number {}: {}\".format(i,r))"
   ]
  },
  {
   "cell_type": "code",
   "execution_count": 27,
   "metadata": {},
   "outputs": [
    {
     "name": "stdout",
     "output_type": "stream",
     "text": [
      "RootFinder found a total of 3 roots for the function\n",
      "\n",
      "Found root: {'x3': 0.9999999999999999, 'x2': 1.0, 'x1': 1.0000000000000002}\n",
      "Function value at root: [1.1102230246251565e-16, 0.0, 4.440892098500626e-16]\n",
      "Number of iterations needed to find the root: 32\n",
      "List of error values:[285668635, 80404753.90463038, 22720699.39424774, 841970952.4702804, 212573032.30740777, 731381712.1285093, 154815680.37972334, 43112262.205004804, 11874894.731216995, 3140613.226724032, 1025965.7560503269, 609313.9914693758, 119953.08491261136, 148525.90453915, 4556553.194366214, 1341011.0781090138, 397083.2571773286, 116236.16663815606, 33661.7761169409, 9690.43983200984, 2776.833031766765, 791.519758746388, 224.07869830316247, 62.94958680628985, 17.64970057066941, 5.129441640826549, 1.7678360453688255, 0.9223829684219021, 0.13035109479535478, 0.0102900829139001, 2.016405358662432e-05, 1.726880860530855e-10]\n",
      "\n",
      "Found root: {'x3': 1.519323203656175, 'x2': -0.12797571432512553, 'x1': 2.225946744445856}\n",
      "Function value at root: [1.824396189675781e-11, 1.8290036152279754e-11, 1.983802011551461e-12]\n",
      "Number of iterations needed to find the root: 37\n",
      "List of error values:[81883663, 19605924.883942563, 4650101.754006757, 14732686.890085379, 16753254.33990889, 933988.7769469552, 5107.926329230715, 180348.80065231907, 53155.45167276232, 3023334.131927552, 318627.61535231624, 266187094.53719848, 78351451.99872142, 20728477.765689593, 6126967.194373415, 1793497.1894166027, 531411.1773041562, 156535.18419289187, 45822.287583546124, 13391.493408519864, 3916.573698091904, 1147.727819589009, 337.36168464733265, 99.6402016408491, 30.330960766789847, 46.67650230292808, 14.758989281005746, 8.585063757661144, 31.691174035463554, 16.76053872321975, 4.92557638276521, 15.43234776875305, 3.707359614580253, 0.947176878262206, 0.11021782082822756, 0.004165340456587396, 8.295174021344387e-06]\n",
      "\n",
      "Found root: {'x3': 9.93842280011103, 'x2': -2.519358496034511, 'x1': 2.895060835057745}\n",
      "Function value at root: [0.0, 0.0, 4.440892098500626e-15]\n",
      "Number of iterations needed to find the root: 18\n",
      "List of error values:[108824035, 21066744.2438746, 5994875.749451308, 1683648.7947650298, 494259.5943059089, 116635.11717576132, 46990.25859337282, 20215.630175275048, 1974630.8897606276, 538630.5509915779, 54204.62704275669, 6761.479130316283, 403.79822358940464, 25.10173410043617, 4.965427207506187, 0.6605389752563591, 0.0004914685238297523, 3.4032341389433896e-09]\n",
      "\n"
     ]
    },
    {
     "data": {
      "image/png": "[encoded data removed]",
      "text/plain": [
       "<Figure size 432x288 with 1 Axes>"
      ]
     },
     "metadata": {
      "needs_background": "light"
     },
     "output_type": "display_data"
    },
    {
     "name": "stdout",
     "output_type": "stream",
     "text": [
      "Evaluation of our function at root number 0: [1.1102230246251565e-16, 0.0, 4.440892098500626e-16]\n",
      "Evaluation of our function at root number 1: [1.824396189675781e-11, 1.8290036152279754e-11, 1.983802011551461e-12]\n",
      "Evaluation of our function at root number 2: [0.0, 0.0, 4.440892098500626e-15]\n"
     ]
    }
   ],
   "source": [
    "# Test a second vector valued function\n",
    "x1 = Variable('x1')\n",
    "x2 = Variable('x2')\n",
    "x3 = Variable('x3')\n",
    "\n",
    "f1 = x1**2 - 2*x1+x2**2-x3+1\n",
    "f2 = x1*x2**2-x1-3*x2+x2*x3+2\n",
    "f3 = x1*x3**2-3*x3+x2*x3**2+x1*x2\n",
    "\n",
    "test_f4 = VectorFunction([f1,f2,f3])\n",
    "results_t4= rf.vectorNewton(test_f4, num_starting_vals=5, verbose=True)\n",
    "pretty_print_results(results_t4)\n",
    "\n",
    "roots = [result[0] for result in results_t4]\n",
    "val_at_root = [result[1] for result in results_t4]\n",
    "\n",
    "for i, root in enumerate(roots):\n",
    "    r = test_f4.get_val(root)\n",
    "    print(\"Evaluation of our function at root number {}: {}\".format(i,r))"
   ]
  }
 ],
 "metadata": {
  "kernelspec": {
   "display_name": "Python 3",
   "language": "python",
   "name": "python3"
  },
  "language_info": {
   "codemirror_mode": {
    "name": "ipython",
    "version": 3
   },
   "file_extension": ".py",
   "mimetype": "text/x-python",
   "name": "python",
   "nbconvert_exporter": "python",
   "pygments_lexer": "ipython3",
   "version": "3.5.6"
  }
 },
 "nbformat": 4,
 "nbformat_minor": 2
}
