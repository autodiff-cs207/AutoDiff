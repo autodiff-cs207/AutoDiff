{
 "cells": [
  {
   "cell_type": "markdown",
   "metadata": {},
   "source": []
  },
  {
   "cell_type": "code",
   "execution_count": 6,
   "metadata": {},
   "outputs": [],
   "source": [
    "#import root_finder as rf\n",
    "from ad import DiffObj, Variable, VectorFunction\n",
    "from ad import MathOps as mo\n",
    "import random\n",
    "from scipy.interpolate import interp1d\n",
    "random.seed(13)\n",
    "\n",
    "import numpy as np\n",
    "import matplotlib.pyplot as plt\n",
    "import math\n",
    "%load_ext autoreload\n",
    "%autoreload 2"
   ]
  },
  {
   "cell_type": "code",
   "execution_count": 7,
   "metadata": {},
   "outputs": [
    {
     "name": "stdout",
     "output_type": "stream",
     "text": [
      "['x1', 'x1', 'x2', 'x3']\n",
      "3\n"
     ]
    },
    {
     "ename": "ValueError",
     "evalue": "Missing 1 default value(s).",
     "output_type": "error",
     "traceback": [
      "\u001b[0;31m---------------------------------------------------------------------------\u001b[0m",
      "\u001b[0;31mValueError\u001b[0m                                Traceback (most recent call last)",
      "\u001b[0;32m<ipython-input-7-6adca65231cf>\u001b[0m in \u001b[0;36m<module>\u001b[0;34m()\u001b[0m\n\u001b[1;32m     10\u001b[0m \u001b[0mv2\u001b[0m \u001b[0;34m=\u001b[0m \u001b[0mVectorFunction\u001b[0m\u001b[0;34m(\u001b[0m\u001b[0;34m[\u001b[0m\u001b[0mf2\u001b[0m\u001b[0;34m,\u001b[0m\u001b[0mf3\u001b[0m\u001b[0;34m]\u001b[0m\u001b[0;34m)\u001b[0m\u001b[0;34m\u001b[0m\u001b[0m\n\u001b[1;32m     11\u001b[0m \u001b[0;31m#print(type(f1),type(f2))\u001b[0m\u001b[0;34m\u001b[0m\u001b[0;34m\u001b[0m\u001b[0m\n\u001b[0;32m---> 12\u001b[0;31m \u001b[0mprint\u001b[0m\u001b[0;34m(\u001b[0m\u001b[0mf1\u001b[0m\u001b[0;34m==\u001b[0m\u001b[0mf2\u001b[0m\u001b[0;34m)\u001b[0m\u001b[0;34m\u001b[0m\u001b[0m\n\u001b[0m\u001b[1;32m     13\u001b[0m \u001b[0;34m\u001b[0m\u001b[0m\n\u001b[1;32m     14\u001b[0m \u001b[0;31m#x3.get_dict_val()\u001b[0m\u001b[0;34m\u001b[0m\u001b[0;34m\u001b[0m\u001b[0m\n",
      "\u001b[0;32m~/CS207/autodiff/AutoDiff/AutoDiff/ad.py\u001b[0m in \u001b[0;36m__eq__\u001b[0;34m(self, other)\u001b[0m\n\u001b[1;32m    531\u001b[0m         \u001b[0;32mif\u001b[0m \u001b[0;32mnot\u001b[0m \u001b[0;34m(\u001b[0m\u001b[0mtype\u001b[0m\u001b[0;34m(\u001b[0m\u001b[0mself\u001b[0m\u001b[0;34m)\u001b[0m\u001b[0;34m==\u001b[0m\u001b[0mtype\u001b[0m\u001b[0;34m(\u001b[0m\u001b[0mother\u001b[0m\u001b[0;34m)\u001b[0m\u001b[0;34m)\u001b[0m\u001b[0;34m:\u001b[0m\u001b[0;34m\u001b[0m\u001b[0m\n\u001b[1;32m    532\u001b[0m             \u001b[0;32mreturn\u001b[0m \u001b[0;32mFalse\u001b[0m\u001b[0;34m\u001b[0m\u001b[0m\n\u001b[0;32m--> 533\u001b[0;31m         \u001b[0mdict_val_self\u001b[0m \u001b[0;34m=\u001b[0m \u001b[0mself\u001b[0m\u001b[0;34m.\u001b[0m\u001b[0mget_dict_val\u001b[0m\u001b[0;34m(\u001b[0m\u001b[0;34m)\u001b[0m\u001b[0;34m\u001b[0m\u001b[0m\n\u001b[0m\u001b[1;32m    534\u001b[0m         \u001b[0mdict_val_other\u001b[0m \u001b[0;34m=\u001b[0m \u001b[0mother\u001b[0m\u001b[0;34m.\u001b[0m\u001b[0mget_dict_val\u001b[0m\u001b[0;34m(\u001b[0m\u001b[0;34m)\u001b[0m\u001b[0;34m\u001b[0m\u001b[0m\n\u001b[1;32m    535\u001b[0m         return (self.get_val(dict_val_self) == other.get_val(dict_val_other) and \n",
      "\u001b[0;32m~/CS207/autodiff/AutoDiff/AutoDiff/ad.py\u001b[0m in \u001b[0;36mget_dict_val\u001b[0;34m(self)\u001b[0m\n\u001b[1;32m    463\u001b[0m \u001b[0;34m\u001b[0m\u001b[0m\n\u001b[1;32m    464\u001b[0m                     \u001b[0mprint\u001b[0m\u001b[0;34m(\u001b[0m\u001b[0mlen\u001b[0m\u001b[0;34m(\u001b[0m\u001b[0mlist\u001b[0m\u001b[0;34m(\u001b[0m\u001b[0mdefault_val_dict\u001b[0m\u001b[0;34m.\u001b[0m\u001b[0mkeys\u001b[0m\u001b[0;34m(\u001b[0m\u001b[0;34m)\u001b[0m\u001b[0;34m)\u001b[0m\u001b[0;34m)\u001b[0m\u001b[0;34m)\u001b[0m\u001b[0;34m\u001b[0m\u001b[0m\n\u001b[0;32m--> 465\u001b[0;31m                     \u001b[0;32mraise\u001b[0m \u001b[0mValueError\u001b[0m\u001b[0;34m(\u001b[0m\u001b[0;34m\"Missing {} default value(s).\"\u001b[0m\u001b[0;34m.\u001b[0m\u001b[0mformat\u001b[0m\u001b[0;34m(\u001b[0m\u001b[0mlen\u001b[0m\u001b[0;34m(\u001b[0m\u001b[0mval_list\u001b[0m\u001b[0;34m)\u001b[0m \u001b[0;34m-\u001b[0m\u001b[0mlen\u001b[0m\u001b[0;34m(\u001b[0m\u001b[0mlist\u001b[0m\u001b[0;34m(\u001b[0m\u001b[0mdefault_val_dict\u001b[0m\u001b[0;34m.\u001b[0m\u001b[0mkeys\u001b[0m\u001b[0;34m(\u001b[0m\u001b[0;34m)\u001b[0m\u001b[0;34m)\u001b[0m\u001b[0;34m)\u001b[0m\u001b[0;34m)\u001b[0m\u001b[0;34m)\u001b[0m\u001b[0;34m\u001b[0m\u001b[0m\n\u001b[0m\u001b[1;32m    466\u001b[0m                 \u001b[0;32melse\u001b[0m\u001b[0;34m:\u001b[0m\u001b[0;34m\u001b[0m\u001b[0m\n\u001b[1;32m    467\u001b[0m                     \u001b[0;32mreturn\u001b[0m \u001b[0mdefault_val_dict\u001b[0m\u001b[0;34m\u001b[0m\u001b[0m\n",
      "\u001b[0;31mValueError\u001b[0m: Missing 1 default value(s)."
     ]
    }
   ],
   "source": [
    "x1 = Variable('x1',1)\n",
    "x2 = Variable('x2',4)\n",
    "x3 = Variable('x3',2)\n",
    "f1 = x1**2 - 2*x1+x2**2-x3+1\n",
    "f2 = x1*x2**2-x1-3*x2+x2*x3+2\n",
    "f3 = x1*x3**2-3*x3+x2*x3**2+x1*x2\n",
    "\n",
    "\n",
    "v1 = VectorFunction([f1,f2])\n",
    "v2 = VectorFunction([f2,f3])\n",
    "#print(type(f1),type(f2))\n",
    "print(f1==f2)\n",
    "\n",
    "#x3.get_dict_val()"
   ]
  },
  {
   "cell_type": "code",
   "execution_count": null,
   "metadata": {},
   "outputs": [],
   "source": [
    "def pretty_print_results(results_list):\n",
    "    print(\"RootFinder found a total of {} roots for the function\\n\".format(len(results_list))) \n",
    "    for root in results_list:   \n",
    "        print(\"Found root: {}\".format(root[0]))\n",
    "        print(\"Function value at root: {}\".format(root[1]))\n",
    "        print(\"Number of iterations needed to find the root: {}\".format(root[2]))\n",
    "        print(\"List of error values:{}\".format(root[3]))\n",
    "        \n",
    "        plt.title(\"Error values vs. iteratation number\")\n",
    "        plt.xlabel(\"Iteration Number\")\n",
    "        plt.ylabel(\"Error Value\")\n",
    "        print()\n",
    "        \n",
    "        # add smooth line\n",
    "        x = list(range(len(root[3])))\n",
    "        y = root[3]\n",
    "        if(len(x)>2):\n",
    "            x_new = np.linspace(min(x), max(x),500)\n",
    "            f = interp1d(x, y, kind='quadratic')\n",
    "            y_smooth=f(x_new)\n",
    "            plt.plot (x_new,y_smooth)      \n",
    "        plt.scatter(x,y)\n",
    "    \n",
    "    labels = [\"Error for root {}\".format(i+1) for i in range(len(results_list))]\n",
    "    plt.legend(labels)\n",
    "    plt.show()"
   ]
  },
  {
   "cell_type": "code",
   "execution_count": null,
   "metadata": {},
   "outputs": [],
   "source": [
    "# Very basic test \n",
    "x = Variable('x')\n",
    "y = Variable('y')\n",
    "\n",
    "test_f0 =  x+1\n",
    "\n",
    "results_t0= rf.vectorNewton(test_f0, num_starting_vals=10, verbose=True)\n",
    "results_t0\n",
    "pretty_print_results(results_t0)\n",
    "\n",
    "roots = [result[0]['x'] for result in results_t0]\n",
    "val_at_root = [result[1] for result in results_t0]\n",
    "\n",
    "plt.title(\"Function and roots from rootfinder\")\n",
    "x_plt = np.arange(min(roots)-5, max(roots)+5,1)\n",
    "y_plt= x_plt+1\n",
    "x_new = np.linspace(min(x_plt), max(x_plt),500)\n",
    "f = interp1d(x_plt, y_plt)\n",
    "y_smooth=f(x_new)\n",
    "plt.plot (x_new,y_smooth) \n",
    "plt.axhline(y=0,color='r')\n",
    "plt.plot(roots, val_at_root, marker='o', markersize=10, color=\"black\")\n",
    "plt.legend([\"Function\",\"Line at zero\",\"root\"])\n",
    "#plt.scatter(x_plt,y_plt)\n",
    "plt.show()\n",
    "\n",
    "for i, root in enumerate(roots):\n",
    "    r = test_f0.get_val({'x':root})\n",
    "    print(\"Evaluation of our function at root number {}: {}\".format(i,r))"
   ]
  },
  {
   "cell_type": "code",
   "execution_count": null,
   "metadata": {},
   "outputs": [],
   "source": [
    "x = Variable('x')\n",
    "test_f1 = x**3+1\n",
    "results_t1= rf.vectorNewton(test_f1, num_starting_vals=10, verbose=True)\n",
    "pretty_print_results(results_t1)\n",
    "\n",
    "roots = [result[0]['x'] for result in results_t1]\n",
    "val_at_root = [result[1] for result in results_t1]\n",
    "\n",
    "plt.title(\"Function and roots from rootfinder\")\n",
    "x_plt = np.arange(min(roots)-5, max(roots)+5,1)\n",
    "y_plt= x_plt**3 +1\n",
    "x_new = np.linspace(min(x_plt), max(x_plt),500)\n",
    "f = interp1d(x_plt, y_plt)\n",
    "y_smooth=f(x_new)\n",
    "plt.plot (x_new,y_smooth) \n",
    "plt.axhline(y=0,color='r')\n",
    "plt.plot(roots, val_at_root, marker='o', markersize=10, color=\"black\")\n",
    "plt.legend([\"Function\",\"Line at zero\",\"root\"])\n",
    "plt.show()\n",
    "\n",
    "for i, root in enumerate(roots):\n",
    "    r = test_f1.get_val({'x':root})\n",
    "    print(\"Evaluation of our function at root number {}: {}\".format(i,r))"
   ]
  },
  {
   "cell_type": "code",
   "execution_count": null,
   "metadata": {},
   "outputs": [],
   "source": [
    "# Test a function with many roots \n",
    "x = Variable('x')\n",
    "test_f2 = mo.sin(x)+0.5\n",
    "results_t2= rf.vectorNewton(test_f2, num_starting_vals=20, starting_val_range = (-10,10), verbose=True)\n",
    "pretty_print_results(results_t2)\n",
    "\n",
    "roots = [result[0]['x'] for result in results_t2]\n",
    "val_at_root = [result[1] for result in results_t2]\n",
    "\n",
    "plt.title(\"Function and roots from rootfinder\")\n",
    "x_plt = np.arange(min(roots)-5, max(roots)+5,1)\n",
    "y_plt= np.sin(x_plt)+0.5\n",
    "x_new = np.linspace(min(x_plt), max(x_plt),500)\n",
    "f = interp1d(x_plt, y_plt, kind='quadratic')\n",
    "y_smooth=f(x_new)\n",
    "plt.plot (x_new,y_smooth) \n",
    "plt.axhline(y=0,color='r')\n",
    "plt.scatter(roots, val_at_root, marker='o', s=30, color=\"black\")\n",
    "plt.legend([\"Function\",\"Line at zero\",\"roots\"])\n",
    "plt.show()\n",
    "\n",
    "for i, root in enumerate(roots):\n",
    "    r = test_f2.get_val({'x':root})\n",
    "    print(\"Evaluation of our function at root number {}: {}\".format(i,r))"
   ]
  },
  {
   "cell_type": "code",
   "execution_count": null,
   "metadata": {},
   "outputs": [],
   "source": [
    "# Test a vector valued function\n",
    "x = Variable('x')\n",
    "y = Variable('y')\n",
    "\n",
    "test_f3 = VectorFunction([x**2+y, y+x])\n",
    "results_t3= rf.vectorNewton(test_f3, num_starting_vals=10, verbose=True)\n",
    "pretty_print_results(results_t3)\n",
    "\n",
    "roots = [result[0] for result in results_t3]\n",
    "val_at_root = [result[1] for result in results_t3]\n",
    "\n",
    "for i, root in enumerate(roots):\n",
    "    r = test_f3.get_val(root)\n",
    "    print(\"Evaluation of our function at root number {}: {}\".format(i,r))"
   ]
  },
  {
   "cell_type": "code",
   "execution_count": null,
   "metadata": {},
   "outputs": [],
   "source": [
    "# Test a second vector valued function\n",
    "x1 = Variable('x1')\n",
    "x2 = Variable('x2')\n",
    "x3 = Variable('x3')\n",
    "\n",
    "f1 = x1**2 - 2*x1+x2**2-x3+1\n",
    "f2 = x1*x2**2-x1-3*x2+x2*x3+2\n",
    "f3 = x1*x3**2-3*x3+x2*x3**2+x1*x2\n",
    "\n",
    "test_f4 = VectorFunction([f1,f2,f3])\n",
    "results_t4= rf.vectorNewton(test_f4, num_starting_vals=5, verbose=True)\n",
    "pretty_print_results(results_t4)\n",
    "\n",
    "roots = [result[0] for result in results_t4]\n",
    "val_at_root = [result[1] for result in results_t4]\n",
    "\n",
    "for i, root in enumerate(roots):\n",
    "    r = test_f4.get_val(root)\n",
    "    print(\"Evaluation of our function at root number {}: {}\".format(i,r))"
   ]
  },
  {
   "cell_type": "code",
   "execution_count": null,
   "metadata": {},
   "outputs": [],
   "source": []
  },
  {
   "cell_type": "code",
   "execution_count": null,
   "metadata": {},
   "outputs": [],
   "source": []
  }
 ],
 "metadata": {
  "kernelspec": {
   "display_name": "Python 3",
   "language": "python",
   "name": "python3"
  },
  "language_info": {
   "codemirror_mode": {
    "name": "ipython",
    "version": 3
   },
   "file_extension": ".py",
   "mimetype": "text/x-python",
   "name": "python",
   "nbconvert_exporter": "python",
   "pygments_lexer": "ipython3",
   "version": "3.5.6"
  }
 },
 "nbformat": 4,
 "nbformat_minor": 2
}
