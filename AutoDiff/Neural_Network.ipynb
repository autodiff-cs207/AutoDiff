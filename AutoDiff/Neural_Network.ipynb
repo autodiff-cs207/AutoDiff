{
 "cells": [
  {
   "cell_type": "markdown",
   "metadata": {},
   "source": [
    "# Building a Neural Net using AutoDiff\n",
    "In this notebook, we demostrate the use of our AutoDiff package. We implement a Neural Network, with a single hidden layer, with the Sigmoid activation function. We implement forward and backward passes for the Network, and train it using Stochastic Gradient descent with a batch size of 1. All gradient computations required for training this Neural Net have been implemented using our AutoDiff package. Specifically, we create a computational graph before training wherein each Node of the Neural Net is an instance of our AutoDiff's class `DiffObj`. During training:\n",
    "* For a forward pass, we invoke the `DiffObj` method `get_val` to compute values of various nodes.\n",
    "* For backward pass, we invoke the `DiffObj` method `get_der` to compute various gradients. Mostly, we only need gradients w.r.t Network weights, so we use the `with_respect_to` argument of the `get_der` method to compute partial gradients.\n",
    "\n",
    "For demonstration, we train a Neural Net (with 10 nodes in the hidden layer) on synthetic data generated using the function $f(x) = sin(x^2)$. We then compute the predictions on our Test Set (which is also generated using $f(x)$), and plot the truth value and prediction."
   ]
  },
  {
   "cell_type": "code",
   "execution_count": 6,
   "metadata": {},
   "outputs": [
    {
     "name": "stdout",
     "output_type": "stream",
     "text": [
      "The autoreload extension is already loaded. To reload it, use:\n",
      "  %reload_ext autoreload\n"
     ]
    }
   ],
   "source": [
    "from AutoDiff import DiffObj, Variable, Constant\n",
    "from AutoDiff import MathOps as mo\n",
    "from AutoDiff.nn import NeuralNet\n",
    "import numpy as np\n",
    "import matplotlib.pyplot as plt\n",
    "\n",
    "%load_ext autoreload\n",
    "%autoreload 2"
   ]
  },
  {
   "cell_type": "code",
   "execution_count": 7,
   "metadata": {},
   "outputs": [],
   "source": [
    "import numpy as np"
   ]
  },
  {
   "cell_type": "code",
   "execution_count": 8,
   "metadata": {},
   "outputs": [],
   "source": [
    "# Demonstration of Neural Network\n",
    "input_dim = 1\n",
    "hidden_dim = 12\n",
    "out_dim = 1\n",
    "lr = 0.1\n",
    "nn = NeuralNet(input_dim, hidden_dim, out_dim, lr)\n",
    "\n",
    "X_data = np.random.randn(3000, input_dim)\n",
    "y_data = np.sin(np.multiply(X_data, X_data))\n",
    "num_train = 2700\n",
    "X_train, y_train = X_data[0:num_train,:], y_data[0:num_train]\n",
    "X_test, y_test = X_data[num_train:,:], y_data[num_train:]"
   ]
  },
  {
   "cell_type": "code",
   "execution_count": null,
   "metadata": {},
   "outputs": [],
   "source": [
    "num_epochs = 60\n",
    "tol = 1e-4\n",
    "prev_loss = 1e6\n",
    "for epoch in range(num_epochs):\n",
    "    running_loss = 0\n",
    "    for i in range(X_train.shape[0]):\n",
    "        loss, _ = nn.forward(X_train[i,:], y_train[i])\n",
    "        running_loss += loss[0]\n",
    "        nn.backward()\n",
    "    print('Loss after epoch {} is: {:.4f}'.format(epoch + 1, running_loss))\n",
    "    if abs(running_loss - prev_loss) < tol:\n",
    "        print('Training converged, stopping early.')\n",
    "        break\n",
    "    prev_loss = running_loss"
   ]
  },
  {
   "cell_type": "code",
   "execution_count": null,
   "metadata": {},
   "outputs": [],
   "source": [
    "# Test on the test set\n",
    "y_pred = [0.0]*len(y_test)\n",
    "for i in range(len(y_test)):\n",
    "    _, pred = nn.forward(X_test[i,:], y_test[i])\n",
    "    y_pred[i] = list(pred)[0]"
   ]
  },
  {
   "cell_type": "code",
   "execution_count": null,
   "metadata": {},
   "outputs": [],
   "source": [
    "fig = plt.gcf()\n",
    "fig.set_size_inches(9, 6)\n",
    "_ = plt.scatter(X_test[:,0], y_test, marker='o', s=10, label=r'Ground Truth ($f(x) = sin(x^2)$)')\n",
    "_ = plt.scatter(X_test[:,0], y_pred, marker='v', s=10, label='Prediction (on Test Set)')\n",
    "_ = plt.xlabel('X', fontsize=14)\n",
    "_ = plt.ylabel('y', fontsize=14)\n",
    "_ = plt.legend(loc='best', fontsize=14)\n",
    "_ = plt.title('Ground Truth vs Predictions (after {} epochs)'.format(num_epochs), fontsize=14)\n",
    "fig.savefig('neural_net.png')"
   ]
  },
  {
   "cell_type": "code",
   "execution_count": null,
   "metadata": {},
   "outputs": [],
   "source": []
  }
 ],
 "metadata": {
  "kernelspec": {
   "display_name": "Python 3",
   "language": "python",
   "name": "python3"
  },
  "language_info": {
   "codemirror_mode": {
    "name": "ipython",
    "version": 3
   },
   "file_extension": ".py",
   "mimetype": "text/x-python",
   "name": "python",
   "nbconvert_exporter": "python",
   "pygments_lexer": "ipython3",
   "version": "3.5.2"
  }
 },
 "nbformat": 4,
 "nbformat_minor": 2
}
