{
 "cells": [
  {
   "cell_type": "markdown",
   "metadata": {},
   "source": [
    "# Building a Neural Net using AutoDiff\n",
    "In this notebook, we demostrate the use of our AutoDiff package. We implement a Neural Network, with a single hidden layer, with the Sigmoid activation function. We implement forward and backward passes for the Network, and train it using Stochastic Gradient descent with a batch size of 1. All gradient computations required for training this Neural Net have been implemented using our AutoDiff package.\n",
    "\n",
    "For demonstration, we train a Neural Net (with 10 nodes in the hidden layer) on synthetic data generated using the function $f(x) = sin(x^2)$. We then compute the predictions on our Test Set (which is also generated using $f(x)$), and plot the truth value and prediction."
   ]
  },
  {
   "cell_type": "code",
   "execution_count": 410,
   "metadata": {},
   "outputs": [
    {
     "name": "stdout",
     "output_type": "stream",
     "text": [
      "The autoreload extension is already loaded. To reload it, use:\n",
      "  %reload_ext autoreload\n"
     ]
    }
   ],
   "source": [
    "from AutoDiff import DiffObj, Variable, Constant\n",
    "from AutoDiff import MathOps as mo\n",
    "import numpy as np\n",
    "import matplotlib.pyplot as plt\n",
    "\n",
    "%load_ext autoreload\n",
    "%autoreload 2"
   ]
  },
  {
   "cell_type": "code",
   "execution_count": 563,
   "metadata": {},
   "outputs": [],
   "source": [
    "class NeuralNet(object):\n",
    "    def __init__(self, input_dim, hidden_dim, out_dim, lr=0.1):\n",
    "        self.in_var, self.in_val = self.DeclareVariables('x', (1, input_dim+1))\n",
    "        self.hid_wt_var, self.hid_wt_val = self.DeclareVariables('w', (hidden_dim, input_dim+1))\n",
    "        self.hid_function = self.AffineLayer(self.in_var[0].values(), self.hid_wt_var, \\\n",
    "                                             activation=True)\n",
    "        self.hid_var, self.hid_val = self.DeclareVariables('h', (1, hidden_dim))\n",
    "        self.out_wt_var, self.out_wt_val = self.DeclareVariables('v', (out_dim, hidden_dim))\n",
    "        self.out_function = self.AffineLayer(self.hid_var[0].values(), self.out_wt_var)\n",
    "        self.out_var, self.out_val = self.DeclareVariables('z', (1, out_dim))\n",
    "        self.out_true_var, self.out_true_val = self.DeclareVariables('y', (out_dim, 1))\n",
    "        self.loss = self.GetLoss('l2')\n",
    "        self.lr = lr\n",
    "    \n",
    "    @classmethod\n",
    "    def Sigmoid(cls, x):\n",
    "        return 1/(1 + mo.exp(-x))\n",
    "    \n",
    "    def DeclareVariables(self, base_name, dim):\n",
    "        var = [{base_name + '_' + str(i+1) + ('_' + str(j+1) if dim[1] > 1 else '') : \\\n",
    "               Variable(base_name + '_' + str(i+1) + ('_' + str(j+1) if dim[1] > 1 else '')) \\\n",
    "               for j in range(dim[1])} for i in range(dim[0])]\n",
    "        val_dict = [{base_name + '_' + str(i+1) + ('_' + str(j+1) if dim[1] > 1 else '') : np.random.randn()\\\n",
    "               for j in range(dim[1])} for i in range(dim[0])]\n",
    "        return var, val_dict\n",
    "    \n",
    "    def AffineLayer(self, in_obj, wt_var, activation=False):\n",
    "        layer_out = [None]*len(wt_var)\n",
    "        for idx, node_wt in enumerate(wt_var):\n",
    "            layer_out[idx] = sum(a*b for a,b in zip(in_obj, node_wt.values()))\n",
    "            if activation:\n",
    "                layer_out[idx] = NeuralNet.Sigmoid(layer_out[idx])\n",
    "        return layer_out\n",
    "    \n",
    "    def UpdateParams(self, wt_val, grad):\n",
    "        for w, dw in zip(wt_val, grad):\n",
    "            new_w = np.asarray(list(w.values())) - self.lr*np.asarray(dw)\n",
    "            w.update(zip(w.keys(), new_w))\n",
    "    \n",
    "    def GetLoss(self, loss_fn='l2'):\n",
    "        loss_obj = None\n",
    "        if loss_fn == 'l2':\n",
    "            loss_obj = sum((a - b)**2 for a,b in zip(self.out_true_var[0].values(), \\\n",
    "                                              self.out_var[0].values()))\n",
    "        return loss_obj\n",
    "    \n",
    "    def forward(self, X, y):\n",
    "        X_with_bias = np.array([1] + list(X))\n",
    "        self.in_val[0].update(zip(self.in_val[0].keys(), X_with_bias))\n",
    "        hid_vals = []\n",
    "        for idx, hid_wt in enumerate(self.hid_wt_val):\n",
    "            val_dict = {**self.in_val[0], **hid_wt}\n",
    "            hid_vals += [self.hid_function[idx].get_val(val_dict)]\n",
    "        self.hid_val[0].update(zip(self.hid_val[0].keys(), hid_vals))\n",
    "        out_vals = []\n",
    "        for idx, out_wt in enumerate(self.out_wt_val):\n",
    "            val_dict = {**self.hid_val[0], **out_wt}\n",
    "            out_vals += [self.out_function[idx].get_val(val_dict)]\n",
    "        self.out_val[0].update(zip(self.out_val[0].keys(), out_vals))\n",
    "        self.out_true_val[0].update(zip(self.out_true_val[0].keys(), [y]))\n",
    "        val_dict = {**self.out_val[0], **self.out_true_val[0]}\n",
    "        loss = self.loss.get_val(val_dict)\n",
    "        return loss, self.out_val[0].values()\n",
    "        \n",
    "    def backward(self):\n",
    "        val_dict = {**self.out_val[0], **self.out_true_val[0]}\n",
    "        dLdz = self.loss.get_der(val_dict, with_respect_to=self.out_val[0].keys())\n",
    "        dzdv, dzdh = [], []\n",
    "        for idx, out_wt in enumerate(self.out_wt_val):\n",
    "            val_dict = {**self.hid_val[0], **out_wt}\n",
    "            dzdv += [self.out_function[idx].get_der(val_dict, \\\n",
    "                                                 with_respect_to=out_wt.keys())]\n",
    "            dzdh += [self.out_function[idx].get_der(val_dict, \\\n",
    "                                                 with_respect_to=self.hid_val[0].keys())]\n",
    "        dLdv =  [list(dLdz.values())[0]*np.asarray(list(dzdv[0].values()))]\n",
    "        dLdh =  list(dLdz.values())[0]*np.asarray(list(dzdh[0].values()))[:, np.newaxis]\n",
    "        dhdw = []\n",
    "        for idx, hid_wt in enumerate(self.hid_wt_val):\n",
    "            val_dict = {**self.in_val[0], **hid_wt}\n",
    "            dhdw += [list(self.hid_function[idx].get_der(val_dict, \\\n",
    "                                                   with_respect_to=hid_wt.keys()).values())]\n",
    "        dhdw = np.asarray(dhdw)\n",
    "        dLdw = dLdh*dhdw\n",
    "        self.UpdateParams(self.out_wt_val, dLdv)\n",
    "        self.UpdateParams(self.hid_wt_val, dLdw)"
   ]
  },
  {
   "cell_type": "code",
   "execution_count": 575,
   "metadata": {},
   "outputs": [],
   "source": [
    "# Demonstration of Neural Network\n",
    "input_dim = 1\n",
    "hidden_dim = 10\n",
    "out_dim = 1\n",
    "lr = 0.1\n",
    "nn = NeuralNet(input_dim, hidden_dim, out_dim, lr)\n",
    "\n",
    "X_data = np.random.randn(3000, input_dim)\n",
    "y_data = np.sin(np.multiply(X_data, X_data))\n",
    "num_train = 2700\n",
    "X_train, y_train = X_data[0:num_train,:], y_data[0:num_train]\n",
    "X_test, y_test = X_data[num_train:,:], y_data[num_train:]"
   ]
  },
  {
   "cell_type": "code",
   "execution_count": 576,
   "metadata": {},
   "outputs": [
    {
     "name": "stdout",
     "output_type": "stream",
     "text": [
      "Loss after epoch 1 is: 559.2320\n",
      "Loss after epoch 2 is: 326.6563\n",
      "Loss after epoch 3 is: 209.9506\n",
      "Loss after epoch 4 is: 157.7693\n",
      "Loss after epoch 5 is: 119.8534\n",
      "Loss after epoch 6 is: 98.6866\n",
      "Loss after epoch 7 is: 87.4364\n",
      "Loss after epoch 8 is: 80.7141\n",
      "Loss after epoch 9 is: 76.2738\n",
      "Loss after epoch 10 is: 73.1023\n",
      "Loss after epoch 11 is: 70.6752\n",
      "Loss after epoch 12 is: 68.6997\n",
      "Loss after epoch 13 is: 67.0020\n",
      "Loss after epoch 14 is: 65.4715\n",
      "Loss after epoch 15 is: 64.0328\n",
      "Loss after epoch 16 is: 62.6321\n",
      "Loss after epoch 17 is: 61.2354\n",
      "Loss after epoch 18 is: 59.8350\n",
      "Loss after epoch 19 is: 58.4585\n",
      "Loss after epoch 20 is: 57.1644\n",
      "Loss after epoch 21 is: 56.0177\n",
      "Loss after epoch 22 is: 55.0537\n",
      "Loss after epoch 23 is: 54.2613\n",
      "Loss after epoch 24 is: 53.5997\n",
      "Loss after epoch 25 is: 53.0221\n",
      "Loss after epoch 26 is: 52.4897\n",
      "Loss after epoch 27 is: 51.9755\n",
      "Loss after epoch 28 is: 51.4629\n",
      "Loss after epoch 29 is: 50.9430\n",
      "Loss after epoch 30 is: 50.4126\n",
      "Loss after epoch 31 is: 49.8730\n",
      "Loss after epoch 32 is: 49.3295\n",
      "Loss after epoch 33 is: 48.7911\n",
      "Loss after epoch 34 is: 48.2700\n",
      "Loss after epoch 35 is: 47.7804\n",
      "Loss after epoch 36 is: 47.3363\n",
      "Loss after epoch 37 is: 46.9485\n",
      "Loss after epoch 38 is: 46.6233\n",
      "Loss after epoch 39 is: 46.3610\n",
      "Loss after epoch 40 is: 46.1571\n",
      "Loss after epoch 41 is: 46.0031\n",
      "Loss after epoch 42 is: 45.8890\n",
      "Loss after epoch 43 is: 45.8046\n",
      "Loss after epoch 44 is: 45.7404\n",
      "Loss after epoch 45 is: 45.6890\n",
      "Loss after epoch 46 is: 45.6446\n",
      "Loss after epoch 47 is: 45.6031\n",
      "Loss after epoch 48 is: 45.5618\n",
      "Loss after epoch 49 is: 45.5194\n",
      "Loss after epoch 50 is: 45.4751\n"
     ]
    }
   ],
   "source": [
    "num_epochs = 50\n",
    "tol = 1e-4\n",
    "prev_loss = 1e6\n",
    "for epoch in range(num_epochs):\n",
    "    running_loss = 0\n",
    "    for i in range(X_train.shape[0]):\n",
    "        loss, _ = nn.forward(X_train[i,:], y_train[i])\n",
    "        running_loss += loss[0]\n",
    "        nn.backward()\n",
    "    print('Loss after epoch {} is: {:.4f}'.format(epoch + 1, running_loss))\n",
    "    if abs(running_loss - prev_loss) < tol:\n",
    "        print('Training converged, stopping early.')\n",
    "        break\n",
    "    prev_loss = running_loss"
   ]
  },
  {
   "cell_type": "code",
   "execution_count": 577,
   "metadata": {},
   "outputs": [],
   "source": [
    "# Test on the test set\n",
    "y_pred = [0.0]*len(y_train)\n",
    "for i in range(len(y_train)):\n",
    "    _, pred = nn.forward(X_train[i,:], y_train[i])\n",
    "    y_pred[i] = list(pred)[0]"
   ]
  },
  {
   "cell_type": "code",
   "execution_count": 579,
   "metadata": {},
   "outputs": [
    {
     "data": {
      "image/png": "[encoded data removed]",
      "text/plain": [
       "<matplotlib.figure.Figure at 0x15e88bbceb8>"
      ]
     },
     "metadata": {
      "needs_background": "light"
     },
     "output_type": "display_data"
    }
   ],
   "source": [
    "fig = plt.gcf()\n",
    "fig.set_size_inches(9, 6)\n",
    "_ = plt.scatter(X_train[:,0], y_train, marker='o', s=5, label=r'Ground Truth ($f(x) = sin(x^2)$)')\n",
    "_ = plt.scatter(X_train[:,0], y_pred, marker='v', s=5, label='Prediction')\n",
    "_ = plt.xlabel('X', fontsize=14)\n",
    "_ = plt.ylabel('y', fontsize=14)\n",
    "_ = plt.legend(loc='best', fontsize=14)\n",
    "_ = plt.title('Ground Truth vs Predictions (after {} epochs)'.format(num_epochs), fontsize=14)"
   ]
  },
  {
   "cell_type": "code",
   "execution_count": null,
   "metadata": {},
   "outputs": [],
   "source": []
  }
 ],
 "metadata": {
  "kernelspec": {
   "display_name": "Python 3",
   "language": "python",
   "name": "python3"
  },
  "language_info": {
   "codemirror_mode": {
    "name": "ipython",
    "version": 3
   },
   "file_extension": ".py",
   "mimetype": "text/x-python",
   "name": "python",
   "nbconvert_exporter": "python",
   "pygments_lexer": "ipython3",
   "version": "3.6.4"
  }
 },
 "nbformat": 4,
 "nbformat_minor": 2
}
