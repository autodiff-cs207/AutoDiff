{
 "cells": [
  {
   "cell_type": "code",
   "execution_count": 57,
   "metadata": {},
   "outputs": [
    {
     "name": "stdout",
     "output_type": "stream",
     "text": [
      "The autoreload extension is already loaded. To reload it, use:\n",
      "  %reload_ext autoreload\n"
     ]
    }
   ],
   "source": [
    "from Autodiff.AutoDiff import DiffObj, Variable, Constant\n",
    "from Autodiff.AutoDiff import MathOps as mo\n",
    "\n",
    "%load_ext autoreload\n",
    "%autoreload 2"
   ]
  },
  {
   "cell_type": "markdown",
   "metadata": {},
   "source": [
    "## Newton Raphson Demo\n",
    "We find one of the roots of the following function using our AutoDiff package:\n",
    "$$\n",
    "f(x) = 5^{\\left(1 + sin\\left(log\\left(5 + x^2\\right)\\right)\\right)} - 10\n",
    "$$"
   ]
  },
  {
   "cell_type": "code",
   "execution_count": 106,
   "metadata": {},
   "outputs": [],
   "source": [
    "x = Variable('x')\n",
    "c1 = Constant('c1', 1)\n",
    "c2 = Constant('c2', 2)\n",
    "c3 = Constant('c3', 5)\n",
    "c4 = Constant('c4', 10)\n",
    "f = c3**(c1 + mo.sin(mo.log(c3 + x**c2))) - c4\n",
    "tolerance = 0.001\n",
    "guess = 20\n",
    "max_iter = 10000\n",
    "val_dict = {'x' : guess}\n",
    "evals = []\n",
    "fx = f.get_val(val_dict)\n",
    "for i in range(max_iter):\n",
    "    evals += [fx]\n",
    "    dx = f.get_der(val_dict)['x']\n",
    "    val_dict['x'] = val_dict['x'] - fx/dx\n",
    "    new_fx = f.get_val(val_dict)\n",
    "    if abs(new_fx - fx) < tolerance: fx = new_fx; break\n",
    "    fx = new_fx"
   ]
  },
  {
   "cell_type": "code",
   "execution_count": 107,
   "metadata": {},
   "outputs": [
    {
     "data": {
      "image/png": "[encoded data removed]",
      "text/plain": [
       "<matplotlib.figure.Figure at 0x2797ea65208>"
      ]
     },
     "metadata": {},
     "output_type": "display_data"
    }
   ],
   "source": [
    "x_vals = np.linspace(-100,100,100)\n",
    "y_vals = 5**(1+ np.sin(np.log(5 + x_vals**2))) - 10\n",
    "fig = plt.gcf()\n",
    "fig.set_size_inches(9,6)\n",
    "_ = plt.plot(x_vals, y_vals)\n",
    "_ = plt.axhline(0, color='k', ls='--', lw=1.25)\n",
    "_ = plt.ylabel('f(x)', fontsize=12)\n",
    "_ = plt.xlabel('x', fontsize=12)\n",
    "_ = plt.scatter([val_dict['x']], [fx], color='r', marker='o', s=80)\n",
    "_ = plt.annotate('Root found by AutoDiff', (val_dict['x']+5, fx+1))"
   ]
  },
  {
   "cell_type": "markdown",
   "metadata": {},
   "source": [
    "## Elementary Math Operators (add, subtract, mult, divide) "
   ]
  },
  {
   "cell_type": "code",
   "execution_count": 2,
   "metadata": {},
   "outputs": [],
   "source": [
    "val_dict = {'x' : 10, 'y' : 20, 'z' : 1}\n",
    "x = Variable('x')\n",
    "y = Variable('y')"
   ]
  },
  {
   "cell_type": "code",
   "execution_count": 3,
   "metadata": {},
   "outputs": [
    {
     "name": "stdout",
     "output_type": "stream",
     "text": [
      "Value:     30\n",
      "Gradient:  {'x': 1, 'y': 1}\n"
     ]
    }
   ],
   "source": [
    "f0 = x + y\n",
    "print('Value:    ', f0.get_val(val_dict))\n",
    "print('Gradient: ', f0.get_der(val_dict))"
   ]
  },
  {
   "cell_type": "code",
   "execution_count": 4,
   "metadata": {},
   "outputs": [
    {
     "name": "stdout",
     "output_type": "stream",
     "text": [
      "Value:     -10\n",
      "Gradient:  {'x': 1, 'y': -1}\n"
     ]
    }
   ],
   "source": [
    "f1 = x - y\n",
    "print('Value:    ', f1.get_val(val_dict))\n",
    "print('Gradient: ', f1.get_der(val_dict))"
   ]
  },
  {
   "cell_type": "code",
   "execution_count": 5,
   "metadata": {},
   "outputs": [
    {
     "name": "stdout",
     "output_type": "stream",
     "text": [
      "Value:     200\n",
      "Gradient:  {'x': 20, 'y': 10}\n"
     ]
    }
   ],
   "source": [
    "f2 = x*y\n",
    "print('Value:    ', f2.get_val(val_dict))\n",
    "print('Gradient: ', f2.get_der(val_dict))"
   ]
  },
  {
   "cell_type": "code",
   "execution_count": 6,
   "metadata": {},
   "outputs": [
    {
     "name": "stdout",
     "output_type": "stream",
     "text": [
      "Value:     0.5\n",
      "Gradient:  {'x': 0.05, 'y': -0.025}\n"
     ]
    }
   ],
   "source": [
    "f3 = x/y\n",
    "print('Value:    ', f3.get_val(val_dict))\n",
    "print('Gradient: ', f3.get_der(val_dict))"
   ]
  },
  {
   "cell_type": "code",
   "execution_count": 7,
   "metadata": {},
   "outputs": [
    {
     "name": "stdout",
     "output_type": "stream",
     "text": [
      "Value:     190.5\n",
      "Gradient:  {'x': 21.05, 'y': 8.975}\n"
     ]
    }
   ],
   "source": [
    "f4 = f1 + f2 + f3\n",
    "print('Value:    ', f4.get_val(val_dict))\n",
    "print('Gradient: ', f4.get_der(val_dict))"
   ]
  },
  {
   "cell_type": "code",
   "execution_count": 8,
   "metadata": {},
   "outputs": [
    {
     "name": "stdout",
     "output_type": "stream",
     "text": [
      "Value:     -1905.0\n",
      "Gradient:  {'x': -20.0, 'y': -280.25}\n"
     ]
    }
   ],
   "source": [
    "f5 = f4*f1\n",
    "print('Value:    ', f5.get_val(val_dict))\n",
    "print('Gradient: ', f5.get_der(val_dict))"
   ]
  },
  {
   "cell_type": "code",
   "execution_count": 9,
   "metadata": {},
   "outputs": [
    {
     "data": {
      "text/plain": [
       "{'x': 0, 'y': 0, 'z': 1}"
      ]
     },
     "execution_count": 9,
     "metadata": {},
     "output_type": "execute_result"
    }
   ],
   "source": [
    "z = Variable('z')\n",
    "z.get_der(val_dict, ['x', 'y', 'z'])"
   ]
  },
  {
   "cell_type": "code",
   "execution_count": 10,
   "metadata": {},
   "outputs": [
    {
     "name": "stdout",
     "output_type": "stream",
     "text": [
      "Value:     5\n",
      "Gradient:  {'x': 0, 'y': 0}\n"
     ]
    }
   ],
   "source": [
    "c = Constant('c', 5)\n",
    "print('Value:    ', c.get_val(val_dict))\n",
    "print('Gradient: ', c.get_der(val_dict,  ['x', 'y']))"
   ]
  },
  {
   "cell_type": "code",
   "execution_count": 11,
   "metadata": {},
   "outputs": [
    {
     "name": "stdout",
     "output_type": "stream",
     "text": [
      "Value:     35\n",
      "Gradient:  {'x': 1, 'y': 1}\n"
     ]
    }
   ],
   "source": [
    "f6 = x + y + c\n",
    "print('Value:    ', f6.get_val(val_dict))\n",
    "print('Gradient: ', f6.get_der(val_dict))"
   ]
  },
  {
   "cell_type": "code",
   "execution_count": 12,
   "metadata": {},
   "outputs": [
    {
     "name": "stdout",
     "output_type": "stream",
     "text": [
      "Value:     1000\n",
      "Gradient:  {'x': 100, 'y': 50}\n"
     ]
    }
   ],
   "source": [
    "f7 = c*x*y\n",
    "print('Value:    ', f7.get_val(val_dict))\n",
    "print('Gradient: ', f7.get_der(val_dict))"
   ]
  },
  {
   "cell_type": "markdown",
   "metadata": {},
   "source": [
    "## Other Math Operators (sin, cos, tan, log)"
   ]
  },
  {
   "cell_type": "code",
   "execution_count": 13,
   "metadata": {},
   "outputs": [
    {
     "name": "stdout",
     "output_type": "stream",
     "text": [
      "Value:     1.0\n",
      "Gradient:  {'': 0}\n"
     ]
    }
   ],
   "source": [
    "import math\n",
    "c1 = Constant('c1', math.pi/2)\n",
    "val_dict1 = {'x' : math.pi/2, 'y' : math.pi/4, 'z' : 2}\n",
    "f8 = mo.sin(c1)\n",
    "print('Value:    ', f8.get_val(val_dict1))\n",
    "print('Gradient: ', f8.get_der(val_dict1))"
   ]
  },
  {
   "cell_type": "code",
   "execution_count": 14,
   "metadata": {},
   "outputs": [
    {
     "name": "stdout",
     "output_type": "stream",
     "text": [
      "Value:     0.7071067811865476\n",
      "Gradient:  {'x': -0.7071067811865475, 'y': -0.7071067811865475}\n"
     ]
    }
   ],
   "source": [
    "f9 = mo.sin(x + y)\n",
    "print('Value:    ', f9.get_val(val_dict1))\n",
    "print('Gradient: ', f9.get_der(val_dict1))"
   ]
  },
  {
   "cell_type": "code",
   "execution_count": 15,
   "metadata": {},
   "outputs": [
    {
     "name": "stdout",
     "output_type": "stream",
     "text": [
      "Value:     0.8636895456083491\n",
      "Gradient:  {'x': -0.41421356237309537, 'z': -1.1107207345395917, 'y': -0.7071067811865477}\n"
     ]
    }
   ],
   "source": [
    "f10 = x + mo.sin(x*z + y)\n",
    "print('Value:    ', f10.get_val(val_dict1))\n",
    "print('Gradient: ', f10.get_der(val_dict1))"
   ]
  },
  {
   "cell_type": "code",
   "execution_count": 16,
   "metadata": {},
   "outputs": [
    {
     "name": "stdout",
     "output_type": "stream",
     "text": [
      "Value:     2.1368659607150793\n",
      "Gradient:  {'x': 1.4220179357650298, 'y': 2.8440358715300595, 'z': 0.5}\n"
     ]
    }
   ],
   "source": [
    "f11 = x*y + mo.log(x*y*z)\n",
    "print('Value:    ', f11.get_val(val_dict1))\n",
    "print('Gradient: ', f11.get_der(val_dict1))"
   ]
  },
  {
   "cell_type": "markdown",
   "metadata": {},
   "source": [
    "## Exponentiation"
   ]
  },
  {
   "cell_type": "code",
   "execution_count": 17,
   "metadata": {},
   "outputs": [
    {
     "name": "stdout",
     "output_type": "stream",
     "text": [
      "Value:     81\n",
      "Gradient:  {'x': 108.0}\n"
     ]
    }
   ],
   "source": [
    "val_dict2 = {'x': 3, 'y': math.pi/3, 'z' : 10}\n",
    "c2 = Constant('c2', 4)\n",
    "f12 = x**c2\n",
    "print('Value:    ', f12.get_val(val_dict2))\n",
    "print('Gradient: ', f12.get_der(val_dict2))"
   ]
  },
  {
   "cell_type": "code",
   "execution_count": 18,
   "metadata": {},
   "outputs": [
    {
     "name": "stdout",
     "output_type": "stream",
     "text": [
      "Value:     2.589399902260344\n",
      "Gradient:  {'x': 0.7474953653048001, 'y': 1.4223732764496084}\n"
     ]
    }
   ],
   "source": [
    "f13 = x**mo.sin(y)\n",
    "print('Value:    ', f13.get_val(val_dict2))\n",
    "print('Gradient: ', f13.get_der(val_dict2))"
   ]
  },
  {
   "cell_type": "code",
   "execution_count": 19,
   "metadata": {},
   "outputs": [
    {
     "name": "stdout",
     "output_type": "stream",
     "text": [
      "Value:     108.63823209022168\n",
      "Gradient:  {'x': 194.31161204650834, 'y': 59.675648396747874, 'z': 11.935129679349574}\n"
     ]
    }
   ],
   "source": [
    "f14 = x**(mo.sin(y) + mo.log(x*z))\n",
    "print('Value:    ', f14.get_val(val_dict2))\n",
    "print('Gradient: ', f14.get_der(val_dict2))"
   ]
  },
  {
   "cell_type": "code",
   "execution_count": 20,
   "metadata": {},
   "outputs": [
    {
     "name": "stdout",
     "output_type": "stream",
     "text": [
      "Value:     108.63823209022168\n",
      "Gradient:  {'x': 194.31161204650834, 'y': 59.675648396747874, 'z': 11.935129679349574}\n"
     ]
    }
   ],
   "source": [
    "f15 = mo.cos(mo.sin(mo.log(x**c2 + c2) + y**c2 + z**c2))\n",
    "print('Value:    ', f14.get_val(val_dict2))\n",
    "print('Gradient: ', f14.get_der(val_dict2))"
   ]
  },
  {
   "cell_type": "code",
   "execution_count": 21,
   "metadata": {},
   "outputs": [
    {
     "name": "stdout",
     "output_type": "stream",
     "text": [
      "Value:     1\n",
      "Gradient:  {'x': 0.0}\n"
     ]
    }
   ],
   "source": [
    "c3 = Constant('c3', 0)\n",
    "f16 = x**c3\n",
    "print('Value:    ', f16.get_val(val_dict2))\n",
    "print('Gradient: ', f16.get_der(val_dict2))"
   ]
  },
  {
   "cell_type": "code",
   "execution_count": 34,
   "metadata": {},
   "outputs": [
    {
     "name": "stdout",
     "output_type": "stream",
     "text": [
      "Value:     1\n"
     ]
    },
    {
     "ename": "ValueError",
     "evalue": "Derivative is only defined for positive Base in an Exponentiation.",
     "output_type": "error",
     "traceback": [
      "\u001b[1;31m---------------------------------------------------------------------------\u001b[0m",
      "\u001b[1;31mValueError\u001b[0m                                Traceback (most recent call last)",
      "\u001b[1;32m~\\Documents\\Coding\\Harvard\\cs207-FinalProject\\Autodiff\\Autodiff\\AutoDiff.py\u001b[0m in \u001b[0;36mget_der\u001b[1;34m(self, value_dict, with_respect_to)\u001b[0m\n\u001b[0;32m     52\u001b[0m                     dw = func_val*((op2_val/op1_val)*op1.get_der(value_dict, [w])[w] + \n\u001b[1;32m---> 53\u001b[1;33m                             math.log(op1_val)*op2.get_der(value_dict, [w])[w])\n\u001b[0m\u001b[0;32m     54\u001b[0m                 \u001b[1;32mexcept\u001b[0m\u001b[1;33m:\u001b[0m\u001b[1;33m\u001b[0m\u001b[0m\n",
      "\u001b[1;31mValueError\u001b[0m: math domain error",
      "\nDuring handling of the above exception, another exception occurred:\n",
      "\u001b[1;31mValueError\u001b[0m                                Traceback (most recent call last)",
      "\u001b[1;32m<ipython-input-34-7eff0b42e121>\u001b[0m in \u001b[0;36m<module>\u001b[1;34m()\u001b[0m\n\u001b[0;32m      2\u001b[0m \u001b[0mf17\u001b[0m \u001b[1;33m=\u001b[0m \u001b[0mx\u001b[0m\u001b[1;33m**\u001b[0m\u001b[0my\u001b[0m\u001b[1;33m\u001b[0m\u001b[0m\n\u001b[0;32m      3\u001b[0m \u001b[0mprint\u001b[0m\u001b[1;33m(\u001b[0m\u001b[1;34m'Value:    '\u001b[0m\u001b[1;33m,\u001b[0m \u001b[0mf17\u001b[0m\u001b[1;33m.\u001b[0m\u001b[0mget_val\u001b[0m\u001b[1;33m(\u001b[0m\u001b[0mval_dict4\u001b[0m\u001b[1;33m)\u001b[0m\u001b[1;33m)\u001b[0m\u001b[1;33m\u001b[0m\u001b[0m\n\u001b[1;32m----> 4\u001b[1;33m \u001b[0mprint\u001b[0m\u001b[1;33m(\u001b[0m\u001b[1;34m'Gradient: '\u001b[0m\u001b[1;33m,\u001b[0m \u001b[0mf17\u001b[0m\u001b[1;33m.\u001b[0m\u001b[0mget_der\u001b[0m\u001b[1;33m(\u001b[0m\u001b[0mval_dict4\u001b[0m\u001b[1;33m)\u001b[0m\u001b[1;33m)\u001b[0m\u001b[1;33m\u001b[0m\u001b[0m\n\u001b[0m",
      "\u001b[1;32m~\\Documents\\Coding\\Harvard\\cs207-FinalProject\\Autodiff\\Autodiff\\AutoDiff.py\u001b[0m in \u001b[0;36mget_der\u001b[1;34m(self, value_dict, with_respect_to)\u001b[0m\n\u001b[0;32m     53\u001b[0m                             math.log(op1_val)*op2.get_der(value_dict, [w])[w])\n\u001b[0;32m     54\u001b[0m                 \u001b[1;32mexcept\u001b[0m\u001b[1;33m:\u001b[0m\u001b[1;33m\u001b[0m\u001b[0m\n\u001b[1;32m---> 55\u001b[1;33m                     \u001b[1;32mraise\u001b[0m \u001b[0mValueError\u001b[0m\u001b[1;33m(\u001b[0m\u001b[1;34m'Derivative is only defined for positive Base in an Exponentiation.'\u001b[0m\u001b[1;33m)\u001b[0m\u001b[1;33m\u001b[0m\u001b[0m\n\u001b[0m\u001b[0;32m     56\u001b[0m                 \u001b[0mdf\u001b[0m\u001b[1;33m[\u001b[0m\u001b[0mw\u001b[0m\u001b[1;33m]\u001b[0m \u001b[1;33m=\u001b[0m \u001b[0mdw\u001b[0m\u001b[1;33m\u001b[0m\u001b[0m\n\u001b[0;32m     57\u001b[0m         \u001b[1;32mif\u001b[0m \u001b[0mlen\u001b[0m\u001b[1;33m(\u001b[0m\u001b[0mdf\u001b[0m\u001b[1;33m)\u001b[0m \u001b[1;33m==\u001b[0m \u001b[1;36m0\u001b[0m\u001b[1;33m:\u001b[0m \u001b[0mdf\u001b[0m \u001b[1;33m=\u001b[0m \u001b[1;33m{\u001b[0m\u001b[1;34m''\u001b[0m \u001b[1;33m:\u001b[0m \u001b[1;36m0\u001b[0m\u001b[1;33m}\u001b[0m\u001b[1;33m\u001b[0m\u001b[0m\n",
      "\u001b[1;31mValueError\u001b[0m: Derivative is only defined for positive Base in an Exponentiation."
     ]
    }
   ],
   "source": [
    "val_dict4 = {'x' : -2, 'y' : 0}\n",
    "f17 = x**y\n",
    "print('Value:    ', f17.get_val(val_dict4))\n",
    "print('Gradient: ', f17.get_der(val_dict4))"
   ]
  },
  {
   "cell_type": "code",
   "execution_count": 35,
   "metadata": {},
   "outputs": [
    {
     "name": "stdout",
     "output_type": "stream",
     "text": [
      "Value:     0.7071067811865476\n",
      "Gradient:  {'x': -0.1767766952966369, 'y': 0.4901290717342736}\n"
     ]
    }
   ],
   "source": [
    "val_dict4 = {'x' : 2, 'y' : -0.5}\n",
    "f17 = x**y\n",
    "print('Value:    ', f17.get_val(val_dict4))\n",
    "print('Gradient: ', f17.get_der(val_dict4))"
   ]
  },
  {
   "cell_type": "code",
   "execution_count": null,
   "metadata": {},
   "outputs": [],
   "source": []
  }
 ],
 "metadata": {
  "kernelspec": {
   "display_name": "Python 3",
   "language": "python",
   "name": "python3"
  },
  "language_info": {
   "codemirror_mode": {
    "name": "ipython",
    "version": 3
   },
   "file_extension": ".py",
   "mimetype": "text/x-python",
   "name": "python",
   "nbconvert_exporter": "python",
   "pygments_lexer": "ipython3",
   "version": "3.6.4"
  }
 },
 "nbformat": 4,
 "nbformat_minor": 2
}
